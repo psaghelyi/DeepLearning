{
  "cells": [
    {
      "cell_type": "markdown",
      "metadata": {
        "id": "yXIpTx_zTPNS"
      },
      "source": [
        "# 0. Import packages"
      ]
    },
    {
      "cell_type": "code",
      "execution_count": 6,
      "metadata": {
        "id": "imZx3tIAQTKa"
      },
      "outputs": [],
      "source": [
        "import numpy as np #for vectorized numerical calculations\n",
        "import pandas as pd #for data handling\n",
        "import seaborn as sns #for data visualization\n",
        "import matplotlib.pyplot as plt #for data visualization\n",
        "from sklearn import metrics #for metrics to evaluate the models\n",
        "import torch #for tensor, gradient and neural network calculations"
      ]
    },
    {
      "cell_type": "markdown",
      "metadata": {
        "id": "OG7H63IsTuwG"
      },
      "source": [
        "# 1. Get Data"
      ]
    },
    {
      "cell_type": "code",
      "execution_count": 7,
      "metadata": {
        "colab": {
          "base_uri": "https://localhost:8080/"
        },
        "id": "L2mJ7Eg_TkiJ",
        "outputId": "a6c37952-0ce1-4cab-98c8-b1ad6abad63b"
      },
      "outputs": [
        {
          "name": "stdout",
          "output_type": "stream",
          "text": [
            "/opt/conda/lib/python3.10/site-packages/gdown/cli.py:126: FutureWarning: Option `--id` was deprecated in version 4.3.1 and will be removed in 5.0. You don't need to pass it anymore to use a file ID.\n",
            "  warnings.warn(\n"
          ]
        },
        {
          "name": "stdout",
          "output_type": "stream",
          "text": [
            "Downloading...\n",
            "From: https://drive.google.com/uc?id=1XFffn1YC91wvoDvnYjs3NIRSFF5zFPiK\n",
            "To: /workspace/DeepLearning/lecture-2/Life Expectancy Data.csv\n",
            "100%|████████████████████████████████████████| 333k/333k [00:00<00:00, 3.39MB/s]\n"
          ]
        }
      ],
      "source": [
        "#available at my drive (link is public) --> https://drive.google.com/file/d/1XFffn1YC91wvoDvnYjs3NIRSFF5zFPiK/view?usp=sharing\n",
        "!gdown --id 1XFffn1YC91wvoDvnYjs3NIRSFF5zFPiK"
      ]
    },
    {
      "cell_type": "markdown",
      "metadata": {
        "id": "JqJgoR1HT_C2"
      },
      "source": [
        "Read Data"
      ]
    },
    {
      "cell_type": "code",
      "execution_count": 8,
      "metadata": {
        "id": "AQsI-pedT6gx"
      },
      "outputs": [],
      "source": [
        "life_exp = pd.read_csv('Life Expectancy Data.csv')"
      ]
    },
    {
      "cell_type": "markdown",
      "metadata": {
        "id": "eWZewlb0UJPd"
      },
      "source": [
        "Explore Data"
      ]
    },
    {
      "cell_type": "code",
      "execution_count": 9,
      "metadata": {
        "colab": {
          "base_uri": "https://localhost:8080/"
        },
        "id": "z4WNzs_rUCdf",
        "outputId": "b57dee8d-1a46-48cf-b321-6b2fd34737af"
      },
      "outputs": [
        {
          "data": {
            "text/plain": [
              "(2938, 22)"
            ]
          },
          "execution_count": 9,
          "metadata": {},
          "output_type": "execute_result"
        }
      ],
      "source": [
        "life_exp.shape"
      ]
    },
    {
      "cell_type": "code",
      "execution_count": 10,
      "metadata": {
        "colab": {
          "base_uri": "https://localhost:8080/",
          "height": 285
        },
        "id": "azhgUoCCUPUc",
        "outputId": "a5de6b33-c08e-42cc-e8a6-5814cd2f048c"
      },
      "outputs": [
        {
          "data": {
            "text/html": [
              "<div>\n",
              "<style scoped>\n",
              "    .dataframe tbody tr th:only-of-type {\n",
              "        vertical-align: middle;\n",
              "    }\n",
              "\n",
              "    .dataframe tbody tr th {\n",
              "        vertical-align: top;\n",
              "    }\n",
              "\n",
              "    .dataframe thead th {\n",
              "        text-align: right;\n",
              "    }\n",
              "</style>\n",
              "<table border=\"1\" class=\"dataframe\">\n",
              "  <thead>\n",
              "    <tr style=\"text-align: right;\">\n",
              "      <th></th>\n",
              "      <th>Country</th>\n",
              "      <th>Year</th>\n",
              "      <th>Status</th>\n",
              "      <th>Life expectancy</th>\n",
              "      <th>Adult Mortality</th>\n",
              "      <th>infant deaths</th>\n",
              "      <th>Alcohol</th>\n",
              "      <th>percentage expenditure</th>\n",
              "      <th>Hepatitis B</th>\n",
              "      <th>Measles</th>\n",
              "      <th>...</th>\n",
              "      <th>Polio</th>\n",
              "      <th>Total expenditure</th>\n",
              "      <th>Diphtheria</th>\n",
              "      <th>HIV/AIDS</th>\n",
              "      <th>GDP</th>\n",
              "      <th>Population</th>\n",
              "      <th>thinness  1-19 years</th>\n",
              "      <th>thinness 5-9 years</th>\n",
              "      <th>Income composition of resources</th>\n",
              "      <th>Schooling</th>\n",
              "    </tr>\n",
              "  </thead>\n",
              "  <tbody>\n",
              "    <tr>\n",
              "      <th>0</th>\n",
              "      <td>Afghanistan</td>\n",
              "      <td>2015</td>\n",
              "      <td>Developing</td>\n",
              "      <td>65.0</td>\n",
              "      <td>263.0</td>\n",
              "      <td>62</td>\n",
              "      <td>0.01</td>\n",
              "      <td>71.279624</td>\n",
              "      <td>65.0</td>\n",
              "      <td>1154</td>\n",
              "      <td>...</td>\n",
              "      <td>6.0</td>\n",
              "      <td>8.16</td>\n",
              "      <td>65.0</td>\n",
              "      <td>0.1</td>\n",
              "      <td>584.259210</td>\n",
              "      <td>33736494.0</td>\n",
              "      <td>17.2</td>\n",
              "      <td>17.3</td>\n",
              "      <td>0.479</td>\n",
              "      <td>10.1</td>\n",
              "    </tr>\n",
              "    <tr>\n",
              "      <th>1</th>\n",
              "      <td>Afghanistan</td>\n",
              "      <td>2014</td>\n",
              "      <td>Developing</td>\n",
              "      <td>59.9</td>\n",
              "      <td>271.0</td>\n",
              "      <td>64</td>\n",
              "      <td>0.01</td>\n",
              "      <td>73.523582</td>\n",
              "      <td>62.0</td>\n",
              "      <td>492</td>\n",
              "      <td>...</td>\n",
              "      <td>58.0</td>\n",
              "      <td>8.18</td>\n",
              "      <td>62.0</td>\n",
              "      <td>0.1</td>\n",
              "      <td>612.696514</td>\n",
              "      <td>327582.0</td>\n",
              "      <td>17.5</td>\n",
              "      <td>17.5</td>\n",
              "      <td>0.476</td>\n",
              "      <td>10.0</td>\n",
              "    </tr>\n",
              "    <tr>\n",
              "      <th>2</th>\n",
              "      <td>Afghanistan</td>\n",
              "      <td>2013</td>\n",
              "      <td>Developing</td>\n",
              "      <td>59.9</td>\n",
              "      <td>268.0</td>\n",
              "      <td>66</td>\n",
              "      <td>0.01</td>\n",
              "      <td>73.219243</td>\n",
              "      <td>64.0</td>\n",
              "      <td>430</td>\n",
              "      <td>...</td>\n",
              "      <td>62.0</td>\n",
              "      <td>8.13</td>\n",
              "      <td>64.0</td>\n",
              "      <td>0.1</td>\n",
              "      <td>631.744976</td>\n",
              "      <td>31731688.0</td>\n",
              "      <td>17.7</td>\n",
              "      <td>17.7</td>\n",
              "      <td>0.470</td>\n",
              "      <td>9.9</td>\n",
              "    </tr>\n",
              "    <tr>\n",
              "      <th>3</th>\n",
              "      <td>Afghanistan</td>\n",
              "      <td>2012</td>\n",
              "      <td>Developing</td>\n",
              "      <td>59.5</td>\n",
              "      <td>272.0</td>\n",
              "      <td>69</td>\n",
              "      <td>0.01</td>\n",
              "      <td>78.184215</td>\n",
              "      <td>67.0</td>\n",
              "      <td>2787</td>\n",
              "      <td>...</td>\n",
              "      <td>67.0</td>\n",
              "      <td>8.52</td>\n",
              "      <td>67.0</td>\n",
              "      <td>0.1</td>\n",
              "      <td>669.959000</td>\n",
              "      <td>3696958.0</td>\n",
              "      <td>17.9</td>\n",
              "      <td>18.0</td>\n",
              "      <td>0.463</td>\n",
              "      <td>9.8</td>\n",
              "    </tr>\n",
              "    <tr>\n",
              "      <th>4</th>\n",
              "      <td>Afghanistan</td>\n",
              "      <td>2011</td>\n",
              "      <td>Developing</td>\n",
              "      <td>59.2</td>\n",
              "      <td>275.0</td>\n",
              "      <td>71</td>\n",
              "      <td>0.01</td>\n",
              "      <td>7.097109</td>\n",
              "      <td>68.0</td>\n",
              "      <td>3013</td>\n",
              "      <td>...</td>\n",
              "      <td>68.0</td>\n",
              "      <td>7.87</td>\n",
              "      <td>68.0</td>\n",
              "      <td>0.1</td>\n",
              "      <td>63.537231</td>\n",
              "      <td>2978599.0</td>\n",
              "      <td>18.2</td>\n",
              "      <td>18.2</td>\n",
              "      <td>0.454</td>\n",
              "      <td>9.5</td>\n",
              "    </tr>\n",
              "  </tbody>\n",
              "</table>\n",
              "<p>5 rows × 22 columns</p>\n",
              "</div>"
            ],
            "text/plain": [
              "       Country  Year      Status  Life expectancy   Adult Mortality  \\\n",
              "0  Afghanistan  2015  Developing              65.0            263.0   \n",
              "1  Afghanistan  2014  Developing              59.9            271.0   \n",
              "2  Afghanistan  2013  Developing              59.9            268.0   \n",
              "3  Afghanistan  2012  Developing              59.5            272.0   \n",
              "4  Afghanistan  2011  Developing              59.2            275.0   \n",
              "\n",
              "   infant deaths  Alcohol  percentage expenditure  Hepatitis B  Measles   ...  \\\n",
              "0             62     0.01               71.279624         65.0      1154  ...   \n",
              "1             64     0.01               73.523582         62.0       492  ...   \n",
              "2             66     0.01               73.219243         64.0       430  ...   \n",
              "3             69     0.01               78.184215         67.0      2787  ...   \n",
              "4             71     0.01                7.097109         68.0      3013  ...   \n",
              "\n",
              "   Polio  Total expenditure  Diphtheria    HIV/AIDS         GDP  Population  \\\n",
              "0    6.0               8.16         65.0        0.1  584.259210  33736494.0   \n",
              "1   58.0               8.18         62.0        0.1  612.696514    327582.0   \n",
              "2   62.0               8.13         64.0        0.1  631.744976  31731688.0   \n",
              "3   67.0               8.52         67.0        0.1  669.959000   3696958.0   \n",
              "4   68.0               7.87         68.0        0.1   63.537231   2978599.0   \n",
              "\n",
              "    thinness  1-19 years   thinness 5-9 years  \\\n",
              "0                   17.2                 17.3   \n",
              "1                   17.5                 17.5   \n",
              "2                   17.7                 17.7   \n",
              "3                   17.9                 18.0   \n",
              "4                   18.2                 18.2   \n",
              "\n",
              "   Income composition of resources  Schooling  \n",
              "0                            0.479       10.1  \n",
              "1                            0.476       10.0  \n",
              "2                            0.470        9.9  \n",
              "3                            0.463        9.8  \n",
              "4                            0.454        9.5  \n",
              "\n",
              "[5 rows x 22 columns]"
            ]
          },
          "execution_count": 10,
          "metadata": {},
          "output_type": "execute_result"
        }
      ],
      "source": [
        "life_exp.head() #shows first 5 elements"
      ]
    },
    {
      "cell_type": "code",
      "execution_count": 11,
      "metadata": {
        "colab": {
          "base_uri": "https://localhost:8080/"
        },
        "id": "TPaxlMQmUVLP",
        "outputId": "a1f537d5-cc42-43dd-88a9-c0c3958d6b45"
      },
      "outputs": [
        {
          "name": "stdout",
          "output_type": "stream",
          "text": [
            "<class 'pandas.core.frame.DataFrame'>\n",
            "RangeIndex: 2938 entries, 0 to 2937\n",
            "Data columns (total 22 columns):\n",
            " #   Column                           Non-Null Count  Dtype  \n",
            "---  ------                           --------------  -----  \n",
            " 0   Country                          2938 non-null   object \n",
            " 1   Year                             2938 non-null   int64  \n",
            " 2   Status                           2938 non-null   object \n",
            " 3   Life expectancy                  2928 non-null   float64\n",
            " 4   Adult Mortality                  2928 non-null   float64\n",
            " 5   infant deaths                    2938 non-null   int64  \n",
            " 6   Alcohol                          2744 non-null   float64\n",
            " 7   percentage expenditure           2938 non-null   float64\n",
            " 8   Hepatitis B                      2385 non-null   float64\n",
            " 9   Measles                          2938 non-null   int64  \n",
            " 10   BMI                             2904 non-null   float64\n",
            " 11  under-five deaths                2938 non-null   int64  \n",
            " 12  Polio                            2919 non-null   float64\n",
            " 13  Total expenditure                2712 non-null   float64\n",
            " 14  Diphtheria                       2919 non-null   float64\n",
            " 15   HIV/AIDS                        2938 non-null   float64\n",
            " 16  GDP                              2490 non-null   float64\n",
            " 17  Population                       2286 non-null   float64\n",
            " 18   thinness  1-19 years            2904 non-null   float64\n",
            " 19   thinness 5-9 years              2904 non-null   float64\n",
            " 20  Income composition of resources  2771 non-null   float64\n",
            " 21  Schooling                        2775 non-null   float64\n",
            "dtypes: float64(16), int64(4), object(2)\n",
            "memory usage: 505.1+ KB\n"
          ]
        }
      ],
      "source": [
        "life_exp.info() #gives information about the fields"
      ]
    },
    {
      "cell_type": "code",
      "execution_count": 12,
      "metadata": {
        "colab": {
          "base_uri": "https://localhost:8080/",
          "height": 416
        },
        "id": "OBbHLvDeUgmG",
        "outputId": "55e31241-bca7-4e46-8740-b787fa0a7e02"
      },
      "outputs": [
        {
          "data": {
            "text/html": [
              "<div>\n",
              "<style scoped>\n",
              "    .dataframe tbody tr th:only-of-type {\n",
              "        vertical-align: middle;\n",
              "    }\n",
              "\n",
              "    .dataframe tbody tr th {\n",
              "        vertical-align: top;\n",
              "    }\n",
              "\n",
              "    .dataframe thead th {\n",
              "        text-align: right;\n",
              "    }\n",
              "</style>\n",
              "<table border=\"1\" class=\"dataframe\">\n",
              "  <thead>\n",
              "    <tr style=\"text-align: right;\">\n",
              "      <th></th>\n",
              "      <th>Year</th>\n",
              "      <th>Life expectancy</th>\n",
              "      <th>Adult Mortality</th>\n",
              "      <th>infant deaths</th>\n",
              "      <th>Alcohol</th>\n",
              "      <th>percentage expenditure</th>\n",
              "      <th>Hepatitis B</th>\n",
              "      <th>Measles</th>\n",
              "      <th>BMI</th>\n",
              "      <th>under-five deaths</th>\n",
              "      <th>Polio</th>\n",
              "      <th>Total expenditure</th>\n",
              "      <th>Diphtheria</th>\n",
              "      <th>HIV/AIDS</th>\n",
              "      <th>GDP</th>\n",
              "      <th>Population</th>\n",
              "      <th>thinness  1-19 years</th>\n",
              "      <th>thinness 5-9 years</th>\n",
              "      <th>Income composition of resources</th>\n",
              "      <th>Schooling</th>\n",
              "    </tr>\n",
              "  </thead>\n",
              "  <tbody>\n",
              "    <tr>\n",
              "      <th>count</th>\n",
              "      <td>2938.000000</td>\n",
              "      <td>2928.000000</td>\n",
              "      <td>2928.000000</td>\n",
              "      <td>2938.000000</td>\n",
              "      <td>2744.000000</td>\n",
              "      <td>2938.000000</td>\n",
              "      <td>2385.000000</td>\n",
              "      <td>2938.000000</td>\n",
              "      <td>2904.000000</td>\n",
              "      <td>2938.000000</td>\n",
              "      <td>2919.000000</td>\n",
              "      <td>2712.00000</td>\n",
              "      <td>2919.000000</td>\n",
              "      <td>2938.000000</td>\n",
              "      <td>2490.000000</td>\n",
              "      <td>2.286000e+03</td>\n",
              "      <td>2904.000000</td>\n",
              "      <td>2904.000000</td>\n",
              "      <td>2771.000000</td>\n",
              "      <td>2775.000000</td>\n",
              "    </tr>\n",
              "    <tr>\n",
              "      <th>mean</th>\n",
              "      <td>2007.518720</td>\n",
              "      <td>69.224932</td>\n",
              "      <td>164.796448</td>\n",
              "      <td>30.303948</td>\n",
              "      <td>4.602861</td>\n",
              "      <td>738.251295</td>\n",
              "      <td>80.940461</td>\n",
              "      <td>2419.592240</td>\n",
              "      <td>38.321247</td>\n",
              "      <td>42.035739</td>\n",
              "      <td>82.550188</td>\n",
              "      <td>5.93819</td>\n",
              "      <td>82.324084</td>\n",
              "      <td>1.742103</td>\n",
              "      <td>7483.158469</td>\n",
              "      <td>1.275338e+07</td>\n",
              "      <td>4.839704</td>\n",
              "      <td>4.870317</td>\n",
              "      <td>0.627551</td>\n",
              "      <td>11.992793</td>\n",
              "    </tr>\n",
              "    <tr>\n",
              "      <th>std</th>\n",
              "      <td>4.613841</td>\n",
              "      <td>9.523867</td>\n",
              "      <td>124.292079</td>\n",
              "      <td>117.926501</td>\n",
              "      <td>4.052413</td>\n",
              "      <td>1987.914858</td>\n",
              "      <td>25.070016</td>\n",
              "      <td>11467.272489</td>\n",
              "      <td>20.044034</td>\n",
              "      <td>160.445548</td>\n",
              "      <td>23.428046</td>\n",
              "      <td>2.49832</td>\n",
              "      <td>23.716912</td>\n",
              "      <td>5.077785</td>\n",
              "      <td>14270.169342</td>\n",
              "      <td>6.101210e+07</td>\n",
              "      <td>4.420195</td>\n",
              "      <td>4.508882</td>\n",
              "      <td>0.210904</td>\n",
              "      <td>3.358920</td>\n",
              "    </tr>\n",
              "    <tr>\n",
              "      <th>min</th>\n",
              "      <td>2000.000000</td>\n",
              "      <td>36.300000</td>\n",
              "      <td>1.000000</td>\n",
              "      <td>0.000000</td>\n",
              "      <td>0.010000</td>\n",
              "      <td>0.000000</td>\n",
              "      <td>1.000000</td>\n",
              "      <td>0.000000</td>\n",
              "      <td>1.000000</td>\n",
              "      <td>0.000000</td>\n",
              "      <td>3.000000</td>\n",
              "      <td>0.37000</td>\n",
              "      <td>2.000000</td>\n",
              "      <td>0.100000</td>\n",
              "      <td>1.681350</td>\n",
              "      <td>3.400000e+01</td>\n",
              "      <td>0.100000</td>\n",
              "      <td>0.100000</td>\n",
              "      <td>0.000000</td>\n",
              "      <td>0.000000</td>\n",
              "    </tr>\n",
              "    <tr>\n",
              "      <th>25%</th>\n",
              "      <td>2004.000000</td>\n",
              "      <td>63.100000</td>\n",
              "      <td>74.000000</td>\n",
              "      <td>0.000000</td>\n",
              "      <td>0.877500</td>\n",
              "      <td>4.685343</td>\n",
              "      <td>77.000000</td>\n",
              "      <td>0.000000</td>\n",
              "      <td>19.300000</td>\n",
              "      <td>0.000000</td>\n",
              "      <td>78.000000</td>\n",
              "      <td>4.26000</td>\n",
              "      <td>78.000000</td>\n",
              "      <td>0.100000</td>\n",
              "      <td>463.935626</td>\n",
              "      <td>1.957932e+05</td>\n",
              "      <td>1.600000</td>\n",
              "      <td>1.500000</td>\n",
              "      <td>0.493000</td>\n",
              "      <td>10.100000</td>\n",
              "    </tr>\n",
              "    <tr>\n",
              "      <th>50%</th>\n",
              "      <td>2008.000000</td>\n",
              "      <td>72.100000</td>\n",
              "      <td>144.000000</td>\n",
              "      <td>3.000000</td>\n",
              "      <td>3.755000</td>\n",
              "      <td>64.912906</td>\n",
              "      <td>92.000000</td>\n",
              "      <td>17.000000</td>\n",
              "      <td>43.500000</td>\n",
              "      <td>4.000000</td>\n",
              "      <td>93.000000</td>\n",
              "      <td>5.75500</td>\n",
              "      <td>93.000000</td>\n",
              "      <td>0.100000</td>\n",
              "      <td>1766.947595</td>\n",
              "      <td>1.386542e+06</td>\n",
              "      <td>3.300000</td>\n",
              "      <td>3.300000</td>\n",
              "      <td>0.677000</td>\n",
              "      <td>12.300000</td>\n",
              "    </tr>\n",
              "    <tr>\n",
              "      <th>75%</th>\n",
              "      <td>2012.000000</td>\n",
              "      <td>75.700000</td>\n",
              "      <td>228.000000</td>\n",
              "      <td>22.000000</td>\n",
              "      <td>7.702500</td>\n",
              "      <td>441.534144</td>\n",
              "      <td>97.000000</td>\n",
              "      <td>360.250000</td>\n",
              "      <td>56.200000</td>\n",
              "      <td>28.000000</td>\n",
              "      <td>97.000000</td>\n",
              "      <td>7.49250</td>\n",
              "      <td>97.000000</td>\n",
              "      <td>0.800000</td>\n",
              "      <td>5910.806335</td>\n",
              "      <td>7.420359e+06</td>\n",
              "      <td>7.200000</td>\n",
              "      <td>7.200000</td>\n",
              "      <td>0.779000</td>\n",
              "      <td>14.300000</td>\n",
              "    </tr>\n",
              "    <tr>\n",
              "      <th>max</th>\n",
              "      <td>2015.000000</td>\n",
              "      <td>89.000000</td>\n",
              "      <td>723.000000</td>\n",
              "      <td>1800.000000</td>\n",
              "      <td>17.870000</td>\n",
              "      <td>19479.911610</td>\n",
              "      <td>99.000000</td>\n",
              "      <td>212183.000000</td>\n",
              "      <td>87.300000</td>\n",
              "      <td>2500.000000</td>\n",
              "      <td>99.000000</td>\n",
              "      <td>17.60000</td>\n",
              "      <td>99.000000</td>\n",
              "      <td>50.600000</td>\n",
              "      <td>119172.741800</td>\n",
              "      <td>1.293859e+09</td>\n",
              "      <td>27.700000</td>\n",
              "      <td>28.600000</td>\n",
              "      <td>0.948000</td>\n",
              "      <td>20.700000</td>\n",
              "    </tr>\n",
              "  </tbody>\n",
              "</table>\n",
              "</div>"
            ],
            "text/plain": [
              "              Year  Life expectancy   Adult Mortality  infant deaths  \\\n",
              "count  2938.000000       2928.000000      2928.000000    2938.000000   \n",
              "mean   2007.518720         69.224932       164.796448      30.303948   \n",
              "std       4.613841          9.523867       124.292079     117.926501   \n",
              "min    2000.000000         36.300000         1.000000       0.000000   \n",
              "25%    2004.000000         63.100000        74.000000       0.000000   \n",
              "50%    2008.000000         72.100000       144.000000       3.000000   \n",
              "75%    2012.000000         75.700000       228.000000      22.000000   \n",
              "max    2015.000000         89.000000       723.000000    1800.000000   \n",
              "\n",
              "           Alcohol  percentage expenditure  Hepatitis B       Measles   \\\n",
              "count  2744.000000             2938.000000  2385.000000    2938.000000   \n",
              "mean      4.602861              738.251295    80.940461    2419.592240   \n",
              "std       4.052413             1987.914858    25.070016   11467.272489   \n",
              "min       0.010000                0.000000     1.000000       0.000000   \n",
              "25%       0.877500                4.685343    77.000000       0.000000   \n",
              "50%       3.755000               64.912906    92.000000      17.000000   \n",
              "75%       7.702500              441.534144    97.000000     360.250000   \n",
              "max      17.870000            19479.911610    99.000000  212183.000000   \n",
              "\n",
              "              BMI   under-five deaths         Polio  Total expenditure  \\\n",
              "count  2904.000000         2938.000000  2919.000000         2712.00000   \n",
              "mean     38.321247           42.035739    82.550188            5.93819   \n",
              "std      20.044034          160.445548    23.428046            2.49832   \n",
              "min       1.000000            0.000000     3.000000            0.37000   \n",
              "25%      19.300000            0.000000    78.000000            4.26000   \n",
              "50%      43.500000            4.000000    93.000000            5.75500   \n",
              "75%      56.200000           28.000000    97.000000            7.49250   \n",
              "max      87.300000         2500.000000    99.000000           17.60000   \n",
              "\n",
              "       Diphtheria      HIV/AIDS            GDP    Population  \\\n",
              "count  2919.000000  2938.000000    2490.000000  2.286000e+03   \n",
              "mean     82.324084     1.742103    7483.158469  1.275338e+07   \n",
              "std      23.716912     5.077785   14270.169342  6.101210e+07   \n",
              "min       2.000000     0.100000       1.681350  3.400000e+01   \n",
              "25%      78.000000     0.100000     463.935626  1.957932e+05   \n",
              "50%      93.000000     0.100000    1766.947595  1.386542e+06   \n",
              "75%      97.000000     0.800000    5910.806335  7.420359e+06   \n",
              "max      99.000000    50.600000  119172.741800  1.293859e+09   \n",
              "\n",
              "        thinness  1-19 years   thinness 5-9 years  \\\n",
              "count            2904.000000          2904.000000   \n",
              "mean                4.839704             4.870317   \n",
              "std                 4.420195             4.508882   \n",
              "min                 0.100000             0.100000   \n",
              "25%                 1.600000             1.500000   \n",
              "50%                 3.300000             3.300000   \n",
              "75%                 7.200000             7.200000   \n",
              "max                27.700000            28.600000   \n",
              "\n",
              "       Income composition of resources    Schooling  \n",
              "count                      2771.000000  2775.000000  \n",
              "mean                          0.627551    11.992793  \n",
              "std                           0.210904     3.358920  \n",
              "min                           0.000000     0.000000  \n",
              "25%                           0.493000    10.100000  \n",
              "50%                           0.677000    12.300000  \n",
              "75%                           0.779000    14.300000  \n",
              "max                           0.948000    20.700000  "
            ]
          },
          "execution_count": 12,
          "metadata": {},
          "output_type": "execute_result"
        }
      ],
      "source": [
        "life_exp.describe()"
      ]
    },
    {
      "cell_type": "code",
      "execution_count": 16,
      "metadata": {
        "colab": {
          "base_uri": "https://localhost:8080/",
          "height": 788
        },
        "id": "jJAd_dQDUjmc",
        "outputId": "794bb5e4-0175-4813-ac92-139c2e7cd232"
      },
      "outputs": [
        {
          "ename": "ValueError",
          "evalue": "could not convert string to float: 'Afghanistan'",
          "output_type": "error",
          "traceback": [
            "\u001b[0;31m---------------------------------------------------------------------------\u001b[0m",
            "\u001b[0;31mValueError\u001b[0m                                Traceback (most recent call last)",
            "\u001b[1;32m/workspace/DeepLearning/lecture-2/Class_2_1_Linear_Regression_+_Gradient_Descent_+_PyTorch.ipynb Cell 12\u001b[0m line \u001b[0;36m2\n\u001b[1;32m      <a href='vscode-notebook-cell://dev-container%2B7b22686f737450617468223a222f55736572732f7073616768656c79692d72656d6f74652f50726f6a6563742f6769746875622f7073616768656c79692f454c54452d4c616273222c226c6f63616c446f636b6572223a66616c73652c2273657474696e6773223a7b22636f6e74657874223a226465736b746f702d6c696e7578227d2c22636f6e66696746696c65223a7b22246d6964223a312c22667350617468223a222f55736572732f7073616768656c79692d72656d6f74652f50726f6a6563742f6769746875622f7073616768656c79692f454c54452d4c6162732f2e646576636f6e7461696e65722f646576636f6e7461696e65722e6a736f6e222c2265787465726e616c223a2266696c653a2f2f2f55736572732f7073616768656c79692d72656d6f74652f50726f6a6563742f6769746875622f7073616768656c79692f454c54452d4c6162732f2e646576636f6e7461696e65722f646576636f6e7461696e65722e6a736f6e222c2270617468223a222f55736572732f7073616768656c79692d72656d6f74652f50726f6a6563742f6769746875622f7073616768656c79692f454c54452d4c6162732f2e646576636f6e7461696e65722f646576636f6e7461696e65722e6a736f6e222c22736368656d65223a2266696c65227d7d/workspace/DeepLearning/lecture-2/Class_2_1_Linear_Regression_%2B_Gradient_Descent_%2B_PyTorch.ipynb#X14sdnNjb2RlLXJlbW90ZQ%3D%3D?line=0'>1</a>\u001b[0m sns\u001b[39m.\u001b[39mset(rc \u001b[39m=\u001b[39m {\u001b[39m'\u001b[39m\u001b[39mfigure.figsize\u001b[39m\u001b[39m'\u001b[39m:(\u001b[39m15\u001b[39m,\u001b[39m10\u001b[39m)})\n\u001b[0;32m----> <a href='vscode-notebook-cell://dev-container%2B7b22686f737450617468223a222f55736572732f7073616768656c79692d72656d6f74652f50726f6a6563742f6769746875622f7073616768656c79692f454c54452d4c616273222c226c6f63616c446f636b6572223a66616c73652c2273657474696e6773223a7b22636f6e74657874223a226465736b746f702d6c696e7578227d2c22636f6e66696746696c65223a7b22246d6964223a312c22667350617468223a222f55736572732f7073616768656c79692d72656d6f74652f50726f6a6563742f6769746875622f7073616768656c79692f454c54452d4c6162732f2e646576636f6e7461696e65722f646576636f6e7461696e65722e6a736f6e222c2265787465726e616c223a2266696c653a2f2f2f55736572732f7073616768656c79692d72656d6f74652f50726f6a6563742f6769746875622f7073616768656c79692f454c54452d4c6162732f2e646576636f6e7461696e65722f646576636f6e7461696e65722e6a736f6e222c2270617468223a222f55736572732f7073616768656c79692d72656d6f74652f50726f6a6563742f6769746875622f7073616768656c79692f454c54452d4c6162732f2e646576636f6e7461696e65722f646576636f6e7461696e65722e6a736f6e222c22736368656d65223a2266696c65227d7d/workspace/DeepLearning/lecture-2/Class_2_1_Linear_Regression_%2B_Gradient_Descent_%2B_PyTorch.ipynb#X14sdnNjb2RlLXJlbW90ZQ%3D%3D?line=1'>2</a>\u001b[0m sns\u001b[39m.\u001b[39mheatmap(life_exp\u001b[39m.\u001b[39;49mcorr(), annot\u001b[39m=\u001b[39m\u001b[39mTrue\u001b[39;00m, cmap\u001b[39m=\u001b[39m\u001b[39m\"\u001b[39m\u001b[39mcoolwarm\u001b[39m\u001b[39m\"\u001b[39m)\n",
            "File \u001b[0;32m/opt/conda/lib/python3.10/site-packages/pandas/core/frame.py:10707\u001b[0m, in \u001b[0;36mDataFrame.corr\u001b[0;34m(self, method, min_periods, numeric_only)\u001b[0m\n\u001b[1;32m  10705\u001b[0m cols \u001b[39m=\u001b[39m data\u001b[39m.\u001b[39mcolumns\n\u001b[1;32m  10706\u001b[0m idx \u001b[39m=\u001b[39m cols\u001b[39m.\u001b[39mcopy()\n\u001b[0;32m> 10707\u001b[0m mat \u001b[39m=\u001b[39m data\u001b[39m.\u001b[39;49mto_numpy(dtype\u001b[39m=\u001b[39;49m\u001b[39mfloat\u001b[39;49m, na_value\u001b[39m=\u001b[39;49mnp\u001b[39m.\u001b[39;49mnan, copy\u001b[39m=\u001b[39;49m\u001b[39mFalse\u001b[39;49;00m)\n\u001b[1;32m  10709\u001b[0m \u001b[39mif\u001b[39;00m method \u001b[39m==\u001b[39m \u001b[39m\"\u001b[39m\u001b[39mpearson\u001b[39m\u001b[39m\"\u001b[39m:\n\u001b[1;32m  10710\u001b[0m     correl \u001b[39m=\u001b[39m libalgos\u001b[39m.\u001b[39mnancorr(mat, minp\u001b[39m=\u001b[39mmin_periods)\n",
            "File \u001b[0;32m/opt/conda/lib/python3.10/site-packages/pandas/core/frame.py:1892\u001b[0m, in \u001b[0;36mDataFrame.to_numpy\u001b[0;34m(self, dtype, copy, na_value)\u001b[0m\n\u001b[1;32m   1890\u001b[0m \u001b[39mif\u001b[39;00m dtype \u001b[39mis\u001b[39;00m \u001b[39mnot\u001b[39;00m \u001b[39mNone\u001b[39;00m:\n\u001b[1;32m   1891\u001b[0m     dtype \u001b[39m=\u001b[39m np\u001b[39m.\u001b[39mdtype(dtype)\n\u001b[0;32m-> 1892\u001b[0m result \u001b[39m=\u001b[39m \u001b[39mself\u001b[39;49m\u001b[39m.\u001b[39;49m_mgr\u001b[39m.\u001b[39;49mas_array(dtype\u001b[39m=\u001b[39;49mdtype, copy\u001b[39m=\u001b[39;49mcopy, na_value\u001b[39m=\u001b[39;49mna_value)\n\u001b[1;32m   1893\u001b[0m \u001b[39mif\u001b[39;00m result\u001b[39m.\u001b[39mdtype \u001b[39mis\u001b[39;00m \u001b[39mnot\u001b[39;00m dtype:\n\u001b[1;32m   1894\u001b[0m     result \u001b[39m=\u001b[39m np\u001b[39m.\u001b[39marray(result, dtype\u001b[39m=\u001b[39mdtype, copy\u001b[39m=\u001b[39m\u001b[39mFalse\u001b[39;00m)\n",
            "File \u001b[0;32m/opt/conda/lib/python3.10/site-packages/pandas/core/internals/managers.py:1656\u001b[0m, in \u001b[0;36mBlockManager.as_array\u001b[0;34m(self, dtype, copy, na_value)\u001b[0m\n\u001b[1;32m   1654\u001b[0m         arr\u001b[39m.\u001b[39mflags\u001b[39m.\u001b[39mwriteable \u001b[39m=\u001b[39m \u001b[39mFalse\u001b[39;00m\n\u001b[1;32m   1655\u001b[0m \u001b[39melse\u001b[39;00m:\n\u001b[0;32m-> 1656\u001b[0m     arr \u001b[39m=\u001b[39m \u001b[39mself\u001b[39;49m\u001b[39m.\u001b[39;49m_interleave(dtype\u001b[39m=\u001b[39;49mdtype, na_value\u001b[39m=\u001b[39;49mna_value)\n\u001b[1;32m   1657\u001b[0m     \u001b[39m# The underlying data was copied within _interleave, so no need\u001b[39;00m\n\u001b[1;32m   1658\u001b[0m     \u001b[39m# to further copy if copy=True or setting na_value\u001b[39;00m\n\u001b[1;32m   1660\u001b[0m \u001b[39mif\u001b[39;00m na_value \u001b[39mis\u001b[39;00m lib\u001b[39m.\u001b[39mno_default:\n",
            "File \u001b[0;32m/opt/conda/lib/python3.10/site-packages/pandas/core/internals/managers.py:1715\u001b[0m, in \u001b[0;36mBlockManager._interleave\u001b[0;34m(self, dtype, na_value)\u001b[0m\n\u001b[1;32m   1713\u001b[0m     \u001b[39melse\u001b[39;00m:\n\u001b[1;32m   1714\u001b[0m         arr \u001b[39m=\u001b[39m blk\u001b[39m.\u001b[39mget_values(dtype)\n\u001b[0;32m-> 1715\u001b[0m     result[rl\u001b[39m.\u001b[39mindexer] \u001b[39m=\u001b[39m arr\n\u001b[1;32m   1716\u001b[0m     itemmask[rl\u001b[39m.\u001b[39mindexer] \u001b[39m=\u001b[39m \u001b[39m1\u001b[39m\n\u001b[1;32m   1718\u001b[0m \u001b[39mif\u001b[39;00m \u001b[39mnot\u001b[39;00m itemmask\u001b[39m.\u001b[39mall():\n",
            "\u001b[0;31mValueError\u001b[0m: could not convert string to float: 'Afghanistan'"
          ]
        }
      ],
      "source": [
        "sns.set(rc = {'figure.figsize':(15,10)})\n",
        "sns.heatmap(life_exp.corr(), annot=True, cmap=\"coolwarm\") #visualizing the correlation between the variables (how do they influence each other)"
      ]
    },
    {
      "cell_type": "markdown",
      "metadata": {
        "id": "NBR3SiHMcLxp"
      },
      "source": [
        "Handling data"
      ]
    },
    {
      "cell_type": "code",
      "execution_count": 14,
      "metadata": {
        "id": "otwMZLrDcR1k"
      },
      "outputs": [],
      "source": [
        "#Change column names for conveniency\n",
        "life_exp.rename(columns = {\" BMI \" :\"BMI\",\n",
        "  \"Life expectancy \": \"Life_expectancy\",\n",
        "  \"Adult Mortality\":\"Adult_mortality\",\n",
        "  \"infant deaths\":\"Infant_deaths\",\n",
        "  \"percentage expenditure\":\"Percentage_expenditure\",\n",
        "  \"Hepatitis B\":\"HepatitisB\",\n",
        "  \"Measles \":\"Measles\",\n",
        "  \"under-five deaths \": \"Under_five_deaths\",\n",
        "  \"Total expenditure\":\"Total_expenditure\",\n",
        "  \"Diphtheria \": \"Diphtheria\",\n",
        "  \" thinness 1–19 years\":\"Thinness_1–19_years\",\n",
        "  \" thinness 5–9 years\":\"Thinness_5–9_years\",\n",
        "  \" HIV/AIDS\":\"HIV/AIDS\",\n",
        "  \"Income composition of resources\":\n",
        "  \"Income_composition_of_resources\"}, inplace = True)"
      ]
    },
    {
      "cell_type": "code",
      "execution_count": 15,
      "metadata": {
        "id": "ImI7_hNebhJ5"
      },
      "outputs": [],
      "source": [
        "X = life_exp.drop([\"Status\",\"Country\",\"Life_expectancy\"], axis=1)\n",
        "Y = life_exp[\"Life_expectancy\"]"
      ]
    },
    {
      "cell_type": "code",
      "execution_count": 17,
      "metadata": {
        "colab": {
          "base_uri": "https://localhost:8080/",
          "height": 261
        },
        "id": "ALk-c6WochvD",
        "outputId": "59938dda-6ec9-4bfb-abd3-972d77f32427"
      },
      "outputs": [
        {
          "data": {
            "text/html": [
              "<div>\n",
              "<style scoped>\n",
              "    .dataframe tbody tr th:only-of-type {\n",
              "        vertical-align: middle;\n",
              "    }\n",
              "\n",
              "    .dataframe tbody tr th {\n",
              "        vertical-align: top;\n",
              "    }\n",
              "\n",
              "    .dataframe thead th {\n",
              "        text-align: right;\n",
              "    }\n",
              "</style>\n",
              "<table border=\"1\" class=\"dataframe\">\n",
              "  <thead>\n",
              "    <tr style=\"text-align: right;\">\n",
              "      <th></th>\n",
              "      <th>Year</th>\n",
              "      <th>Adult_mortality</th>\n",
              "      <th>Infant_deaths</th>\n",
              "      <th>Alcohol</th>\n",
              "      <th>Percentage_expenditure</th>\n",
              "      <th>HepatitisB</th>\n",
              "      <th>Measles</th>\n",
              "      <th>BMI</th>\n",
              "      <th>Under_five_deaths</th>\n",
              "      <th>Polio</th>\n",
              "      <th>Total_expenditure</th>\n",
              "      <th>Diphtheria</th>\n",
              "      <th>HIV/AIDS</th>\n",
              "      <th>GDP</th>\n",
              "      <th>Population</th>\n",
              "      <th>thinness  1-19 years</th>\n",
              "      <th>thinness 5-9 years</th>\n",
              "      <th>Income_composition_of_resources</th>\n",
              "      <th>Schooling</th>\n",
              "    </tr>\n",
              "  </thead>\n",
              "  <tbody>\n",
              "    <tr>\n",
              "      <th>0</th>\n",
              "      <td>2015</td>\n",
              "      <td>263.0</td>\n",
              "      <td>62</td>\n",
              "      <td>0.01</td>\n",
              "      <td>71.279624</td>\n",
              "      <td>65.0</td>\n",
              "      <td>1154</td>\n",
              "      <td>19.1</td>\n",
              "      <td>83</td>\n",
              "      <td>6.0</td>\n",
              "      <td>8.16</td>\n",
              "      <td>65.0</td>\n",
              "      <td>0.1</td>\n",
              "      <td>584.259210</td>\n",
              "      <td>33736494.0</td>\n",
              "      <td>17.2</td>\n",
              "      <td>17.3</td>\n",
              "      <td>0.479</td>\n",
              "      <td>10.1</td>\n",
              "    </tr>\n",
              "    <tr>\n",
              "      <th>1</th>\n",
              "      <td>2014</td>\n",
              "      <td>271.0</td>\n",
              "      <td>64</td>\n",
              "      <td>0.01</td>\n",
              "      <td>73.523582</td>\n",
              "      <td>62.0</td>\n",
              "      <td>492</td>\n",
              "      <td>18.6</td>\n",
              "      <td>86</td>\n",
              "      <td>58.0</td>\n",
              "      <td>8.18</td>\n",
              "      <td>62.0</td>\n",
              "      <td>0.1</td>\n",
              "      <td>612.696514</td>\n",
              "      <td>327582.0</td>\n",
              "      <td>17.5</td>\n",
              "      <td>17.5</td>\n",
              "      <td>0.476</td>\n",
              "      <td>10.0</td>\n",
              "    </tr>\n",
              "    <tr>\n",
              "      <th>2</th>\n",
              "      <td>2013</td>\n",
              "      <td>268.0</td>\n",
              "      <td>66</td>\n",
              "      <td>0.01</td>\n",
              "      <td>73.219243</td>\n",
              "      <td>64.0</td>\n",
              "      <td>430</td>\n",
              "      <td>18.1</td>\n",
              "      <td>89</td>\n",
              "      <td>62.0</td>\n",
              "      <td>8.13</td>\n",
              "      <td>64.0</td>\n",
              "      <td>0.1</td>\n",
              "      <td>631.744976</td>\n",
              "      <td>31731688.0</td>\n",
              "      <td>17.7</td>\n",
              "      <td>17.7</td>\n",
              "      <td>0.470</td>\n",
              "      <td>9.9</td>\n",
              "    </tr>\n",
              "    <tr>\n",
              "      <th>3</th>\n",
              "      <td>2012</td>\n",
              "      <td>272.0</td>\n",
              "      <td>69</td>\n",
              "      <td>0.01</td>\n",
              "      <td>78.184215</td>\n",
              "      <td>67.0</td>\n",
              "      <td>2787</td>\n",
              "      <td>17.6</td>\n",
              "      <td>93</td>\n",
              "      <td>67.0</td>\n",
              "      <td>8.52</td>\n",
              "      <td>67.0</td>\n",
              "      <td>0.1</td>\n",
              "      <td>669.959000</td>\n",
              "      <td>3696958.0</td>\n",
              "      <td>17.9</td>\n",
              "      <td>18.0</td>\n",
              "      <td>0.463</td>\n",
              "      <td>9.8</td>\n",
              "    </tr>\n",
              "    <tr>\n",
              "      <th>4</th>\n",
              "      <td>2011</td>\n",
              "      <td>275.0</td>\n",
              "      <td>71</td>\n",
              "      <td>0.01</td>\n",
              "      <td>7.097109</td>\n",
              "      <td>68.0</td>\n",
              "      <td>3013</td>\n",
              "      <td>17.2</td>\n",
              "      <td>97</td>\n",
              "      <td>68.0</td>\n",
              "      <td>7.87</td>\n",
              "      <td>68.0</td>\n",
              "      <td>0.1</td>\n",
              "      <td>63.537231</td>\n",
              "      <td>2978599.0</td>\n",
              "      <td>18.2</td>\n",
              "      <td>18.2</td>\n",
              "      <td>0.454</td>\n",
              "      <td>9.5</td>\n",
              "    </tr>\n",
              "  </tbody>\n",
              "</table>\n",
              "</div>"
            ],
            "text/plain": [
              "   Year  Adult_mortality  Infant_deaths  Alcohol  Percentage_expenditure  \\\n",
              "0  2015            263.0             62     0.01               71.279624   \n",
              "1  2014            271.0             64     0.01               73.523582   \n",
              "2  2013            268.0             66     0.01               73.219243   \n",
              "3  2012            272.0             69     0.01               78.184215   \n",
              "4  2011            275.0             71     0.01                7.097109   \n",
              "\n",
              "   HepatitisB  Measles   BMI  Under_five_deaths  Polio  Total_expenditure  \\\n",
              "0        65.0     1154  19.1                 83    6.0               8.16   \n",
              "1        62.0      492  18.6                 86   58.0               8.18   \n",
              "2        64.0      430  18.1                 89   62.0               8.13   \n",
              "3        67.0     2787  17.6                 93   67.0               8.52   \n",
              "4        68.0     3013  17.2                 97   68.0               7.87   \n",
              "\n",
              "   Diphtheria  HIV/AIDS         GDP  Population   thinness  1-19 years  \\\n",
              "0        65.0       0.1  584.259210  33736494.0                   17.2   \n",
              "1        62.0       0.1  612.696514    327582.0                   17.5   \n",
              "2        64.0       0.1  631.744976  31731688.0                   17.7   \n",
              "3        67.0       0.1  669.959000   3696958.0                   17.9   \n",
              "4        68.0       0.1   63.537231   2978599.0                   18.2   \n",
              "\n",
              "    thinness 5-9 years  Income_composition_of_resources  Schooling  \n",
              "0                 17.3                            0.479       10.1  \n",
              "1                 17.5                            0.476       10.0  \n",
              "2                 17.7                            0.470        9.9  \n",
              "3                 18.0                            0.463        9.8  \n",
              "4                 18.2                            0.454        9.5  "
            ]
          },
          "execution_count": 17,
          "metadata": {},
          "output_type": "execute_result"
        }
      ],
      "source": [
        "X.head()"
      ]
    },
    {
      "cell_type": "code",
      "execution_count": 18,
      "metadata": {
        "colab": {
          "base_uri": "https://localhost:8080/"
        },
        "id": "g98FtzXccoRy",
        "outputId": "3dcbe3a0-be78-4f95-f0bc-d8d4a76d3a65"
      },
      "outputs": [
        {
          "data": {
            "text/plain": [
              "0    65.0\n",
              "1    59.9\n",
              "2    59.9\n",
              "3    59.5\n",
              "4    59.2\n",
              "Name: Life_expectancy, dtype: float64"
            ]
          },
          "execution_count": 18,
          "metadata": {},
          "output_type": "execute_result"
        }
      ],
      "source": [
        "Y.head()"
      ]
    },
    {
      "cell_type": "markdown",
      "metadata": {
        "id": "UWUzUMHYWDHz"
      },
      "source": [
        "Handling missing values"
      ]
    },
    {
      "cell_type": "code",
      "execution_count": 19,
      "metadata": {
        "colab": {
          "base_uri": "https://localhost:8080/"
        },
        "id": "rFBP156PU5po",
        "outputId": "1d783d3e-0deb-42a3-d469-2438adf6e6c1"
      },
      "outputs": [
        {
          "data": {
            "text/plain": [
              "Year                                 0\n",
              "Adult_mortality                     10\n",
              "Infant_deaths                        0\n",
              "Alcohol                            194\n",
              "Percentage_expenditure               0\n",
              "HepatitisB                         553\n",
              "Measles                              0\n",
              "BMI                                 34\n",
              "Under_five_deaths                    0\n",
              "Polio                               19\n",
              "Total_expenditure                  226\n",
              "Diphtheria                          19\n",
              "HIV/AIDS                             0\n",
              "GDP                                448\n",
              "Population                         652\n",
              " thinness  1-19 years               34\n",
              " thinness 5-9 years                 34\n",
              "Income_composition_of_resources    167\n",
              "Schooling                          163\n",
              "dtype: int64"
            ]
          },
          "execution_count": 19,
          "metadata": {},
          "output_type": "execute_result"
        }
      ],
      "source": [
        "X.isnull().sum() #alias for isna -- checks the number of empty, nan, nat, ... elements"
      ]
    },
    {
      "cell_type": "code",
      "execution_count": 20,
      "metadata": {
        "id": "YPfAdYltWHoJ"
      },
      "outputs": [],
      "source": [
        "#There are many ways to fill missing values: https://www.geeksforgeeks.org/working-with-missing-data-in-pandas/\n",
        "def fillmissing(df, feature, method):\n",
        "  if method == \"mode\":\n",
        "    df[feature] = df[feature].fillna(df[feature].mode()[0])\n",
        "  elif method == \"median\":\n",
        "    df[feature] = df[feature].fillna(df[feature].median())\n",
        "  else:\n",
        "    df[feature] = df[feature].fillna(df[feature].mean())\n",
        "\n",
        "#We'll use the mean value\n",
        "features_missing = X.columns[X.isna().any()]\n",
        "for feature in features_missing:\n",
        "  fillmissing(X, feature= feature, method= \"mean\")\n",
        "\n",
        "#for Y we'll use the median value\n",
        "Y.fillna(Y.median(), inplace=True)"
      ]
    },
    {
      "cell_type": "code",
      "execution_count": 21,
      "metadata": {
        "id": "YES9gvFc6KyA"
      },
      "outputs": [],
      "source": [
        "Y = np.array(Y)"
      ]
    },
    {
      "cell_type": "code",
      "execution_count": 22,
      "metadata": {
        "colab": {
          "base_uri": "https://localhost:8080/"
        },
        "id": "1Og7KfJHbEoM",
        "outputId": "e0989c9b-2c2a-403b-cbe2-c45b416dd23e"
      },
      "outputs": [
        {
          "data": {
            "text/plain": [
              "Year                               0\n",
              "Adult_mortality                    0\n",
              "Infant_deaths                      0\n",
              "Alcohol                            0\n",
              "Percentage_expenditure             0\n",
              "HepatitisB                         0\n",
              "Measles                            0\n",
              "BMI                                0\n",
              "Under_five_deaths                  0\n",
              "Polio                              0\n",
              "Total_expenditure                  0\n",
              "Diphtheria                         0\n",
              "HIV/AIDS                           0\n",
              "GDP                                0\n",
              "Population                         0\n",
              " thinness  1-19 years              0\n",
              " thinness 5-9 years                0\n",
              "Income_composition_of_resources    0\n",
              "Schooling                          0\n",
              "dtype: int64"
            ]
          },
          "execution_count": 22,
          "metadata": {},
          "output_type": "execute_result"
        }
      ],
      "source": [
        "X.isnull().sum() #no more missing values"
      ]
    },
    {
      "cell_type": "markdown",
      "metadata": {
        "id": "r6Vg8grDjpU1"
      },
      "source": [
        "#**LINEAR REGRESSION**"
      ]
    },
    {
      "cell_type": "markdown",
      "metadata": {
        "id": "mA2sxHM7dQAp"
      },
      "source": [
        "#**2 . Linear Regression with Tim**"
      ]
    },
    {
      "cell_type": "code",
      "execution_count": 23,
      "metadata": {
        "colab": {
          "base_uri": "https://localhost:8080/"
        },
        "id": "2lyscqbHdE1R",
        "outputId": "015bb3ec-9326-482d-9641-e890d6bc482c"
      },
      "outputs": [
        {
          "data": {
            "text/plain": [
              "0    19.1\n",
              "1    18.6\n",
              "2    18.1\n",
              "3    17.6\n",
              "4    17.2\n",
              "Name: BMI, dtype: float64"
            ]
          },
          "execution_count": 23,
          "metadata": {},
          "output_type": "execute_result"
        }
      ],
      "source": [
        "tim_data = X['BMI']\n",
        "tim_data.head()"
      ]
    },
    {
      "cell_type": "markdown",
      "metadata": {
        "id": "zA8rNSAid2NV"
      },
      "source": [
        "Visualzing Life expectancy vs BMI plot"
      ]
    },
    {
      "cell_type": "code",
      "execution_count": 24,
      "metadata": {
        "colab": {
          "base_uri": "https://localhost:8080/",
          "height": 467
        },
        "id": "Xbk0TrpZdngR",
        "outputId": "e7b68e6c-a8c7-40a7-937d-1134affe13c7"
      },
      "outputs": [
        {
          "data": {
            "text/plain": [
              "Text(0, 0.5, 'Life expectancy')"
            ]
          },
          "execution_count": 24,
          "metadata": {},
          "output_type": "execute_result"
        },
        {
          "data": {
            "image/png": "[encoded data removed]",
            "text/plain": [
              "<Figure size 1500x1000 with 1 Axes>"
            ]
          },
          "metadata": {},
          "output_type": "display_data"
        }
      ],
      "source": [
        "fig = plt.figure()\n",
        "ax = fig.add_subplot()\n",
        "\n",
        "ax.scatter(tim_data, Y)\n",
        "\n",
        "ax.set_xlabel('BMI')\n",
        "ax.set_ylabel('Life expectancy')"
      ]
    },
    {
      "cell_type": "markdown",
      "metadata": {
        "id": "x9M1KR9ceKc9"
      },
      "source": [
        "Preprocessing data"
      ]
    },
    {
      "cell_type": "code",
      "execution_count": 25,
      "metadata": {
        "colab": {
          "base_uri": "https://localhost:8080/"
        },
        "id": "oEnIlJVkiYUg",
        "outputId": "0786395c-db38-4104-b5cc-32cabb42b5a4"
      },
      "outputs": [
        {
          "data": {
            "text/plain": [
              "(2938, 1)"
            ]
          },
          "execution_count": 25,
          "metadata": {},
          "output_type": "execute_result"
        }
      ],
      "source": [
        "#tim_data.values.shape\n",
        "tim_data.values.reshape(-1,1).shape"
      ]
    },
    {
      "cell_type": "code",
      "execution_count": 26,
      "metadata": {
        "colab": {
          "base_uri": "https://localhost:8080/"
        },
        "id": "TtqrwW15i_-_",
        "outputId": "30cfe266-f6a8-44a2-fd59-dee77b54c790"
      },
      "outputs": [
        {
          "data": {
            "text/plain": [
              "array([19.1, 18.6, 18.1, ..., 26.3, 25.9, 25.5])"
            ]
          },
          "execution_count": 26,
          "metadata": {},
          "output_type": "execute_result"
        }
      ],
      "source": [
        "tim_data.values"
      ]
    },
    {
      "cell_type": "code",
      "execution_count": 27,
      "metadata": {
        "colab": {
          "base_uri": "https://localhost:8080/"
        },
        "id": "zcge8CsMiyCX",
        "outputId": "326672f4-908e-4cfe-c008-827e4037a512"
      },
      "outputs": [
        {
          "data": {
            "text/plain": [
              "(2938, 1)"
            ]
          },
          "execution_count": 27,
          "metadata": {},
          "output_type": "execute_result"
        }
      ],
      "source": [
        "np.ones(len(tim_data)).reshape(-1,1).shape"
      ]
    },
    {
      "cell_type": "code",
      "execution_count": 28,
      "metadata": {
        "colab": {
          "base_uri": "https://localhost:8080/"
        },
        "id": "XEe2q768jC0X",
        "outputId": "c7bd4eaf-f991-421e-8d48-b211240235d2"
      },
      "outputs": [
        {
          "data": {
            "text/plain": [
              "array([[1.],\n",
              "       [1.],\n",
              "       [1.],\n",
              "       ...,\n",
              "       [1.],\n",
              "       [1.],\n",
              "       [1.]])"
            ]
          },
          "execution_count": 28,
          "metadata": {},
          "output_type": "execute_result"
        }
      ],
      "source": [
        "np.ones(len(tim_data)).reshape(-1,1)"
      ]
    },
    {
      "cell_type": "code",
      "execution_count": 29,
      "metadata": {
        "colab": {
          "base_uri": "https://localhost:8080/"
        },
        "id": "rzu72uiEd7pL",
        "outputId": "e8573da6-98a6-40c5-f7da-750314cfa892"
      },
      "outputs": [
        {
          "data": {
            "text/plain": [
              "(2938, 2)"
            ]
          },
          "execution_count": 29,
          "metadata": {},
          "output_type": "execute_result"
        }
      ],
      "source": [
        "def preprocess(X):\n",
        "    data = X.values.reshape(-1,1)\n",
        "    data = np.concatenate((np.ones(len(data)).reshape(-1,1), data), axis=1)\n",
        "    return data\n",
        "\n",
        "tim_data_ready = preprocess(tim_data)\n",
        "tim_data_ready.shape"
      ]
    },
    {
      "cell_type": "code",
      "execution_count": 30,
      "metadata": {
        "colab": {
          "base_uri": "https://localhost:8080/"
        },
        "id": "RTFr0HnnjOCo",
        "outputId": "9138d38e-1958-42ad-c1e3-92c0ef073118"
      },
      "outputs": [
        {
          "data": {
            "text/plain": [
              "array([[ 1. , 19.1],\n",
              "       [ 1. , 18.6],\n",
              "       [ 1. , 18.1],\n",
              "       ...,\n",
              "       [ 1. , 26.3],\n",
              "       [ 1. , 25.9],\n",
              "       [ 1. , 25.5]])"
            ]
          },
          "execution_count": 30,
          "metadata": {},
          "output_type": "execute_result"
        }
      ],
      "source": [
        "tim_data_ready"
      ]
    },
    {
      "cell_type": "code",
      "execution_count": 31,
      "metadata": {
        "colab": {
          "base_uri": "https://localhost:8080/"
        },
        "id": "N4c9ekdZfHIt",
        "outputId": "7a9d34e3-b5f5-4f01-b0d5-c5414a8d2416"
      },
      "outputs": [
        {
          "name": "stdout",
          "output_type": "stream",
          "text": [
            "y = mx + b\n",
            "y = 0.2674376847702364x + 58.98617203832172\n"
          ]
        }
      ],
      "source": [
        "def normal_equation(X,Y):\n",
        "    X = torch.from_numpy(X)\n",
        "    Y = torch.from_numpy(Y)\n",
        "    return torch.matmul( torch.inverse(torch.matmul(X.t(), X)), torch.matmul(X.t(), Y))\n",
        "\n",
        "tim_theta = normal_equation(tim_data_ready, Y)\n",
        "print(f'y = mx + b')\n",
        "print(f'y = {tim_theta[1]}x + {tim_theta[0]}')"
      ]
    },
    {
      "cell_type": "code",
      "execution_count": 32,
      "metadata": {
        "colab": {
          "base_uri": "https://localhost:8080/",
          "height": 547
        },
        "id": "4mLspQ3cgaSL",
        "outputId": "ea68cf85-b7fd-4333-9fd5-c1938ad6b167"
      },
      "outputs": [
        {
          "data": {
            "image/png": "[encoded data removed]",
            "text/plain": [
              "<Figure size 1000x600 with 1 Axes>"
            ]
          },
          "metadata": {},
          "output_type": "display_data"
        }
      ],
      "source": [
        "plt.figure(figsize=(10,6))\n",
        "plt.title('Life expectancy regression using $\\\\theta_0$ = {} , $\\\\theta_1$ = {}'.format(tim_theta[0], tim_theta[1]))\n",
        "plt.scatter(tim_data,Y, marker='o')\n",
        "plt.plot(tim_data,np.dot(tim_data_ready, tim_theta), color='r')\n",
        "plt.show()"
      ]
    },
    {
      "cell_type": "code",
      "execution_count": 33,
      "metadata": {
        "colab": {
          "base_uri": "https://localhost:8080/"
        },
        "id": "KWdh0JaLgr1R",
        "outputId": "f560dfc6-c618-474c-bf54-a8d532d16136"
      },
      "outputs": [
        {
          "name": "stdout",
          "output_type": "stream",
          "text": [
            "BMI: 24.151672503320853\n",
            "Tim's life expectancy is 65.4 years.\n"
          ]
        }
      ],
      "source": [
        "def life_expectancy(X, theta):\n",
        "    X = np.concatenate((np.ones(1),np.array(X)),axis=0)\n",
        "    return round(np.dot(X, theta),1)\n",
        "\n",
        "height = 1.82 #float(input(\"Please input your height (in meters): \")) #1.82\n",
        "weight = 80 #float(input(\"Please input your weight (in kilograms): \")) #80\n",
        "bmi = weight / height**2\n",
        "print(\"BMI:\",bmi)\n",
        "life_exp_tim = life_expectancy([bmi], tim_theta)\n",
        "print(\"Tim's life expectancy is\", life_exp_tim , \"years.\")"
      ]
    },
    {
      "cell_type": "code",
      "execution_count": 34,
      "metadata": {
        "colab": {
          "base_uri": "https://localhost:8080/"
        },
        "id": "-IbyMB90oYd_",
        "outputId": "f3bc02a3-97bb-41e9-98a6-a7e90b77b5da"
      },
      "outputs": [
        {
          "name": "stdout",
          "output_type": "stream",
          "text": [
            "BMI: 22.530864197530864\n",
            "Tom's life expectancy predicted by Tim's model is 65.0 years.\n"
          ]
        }
      ],
      "source": [
        "height = 1.80 #float(input(\"Please input your height (in meters): \")) #1.82\n",
        "weight = 73 #float(input(\"Please input your weight (in kilograms): \")) #80\n",
        "bmi = weight / height**2\n",
        "print(\"BMI:\",bmi)\n",
        "life_exp_tim_tom = life_expectancy([bmi], tim_theta)\n",
        "print(\"Tom's life expectancy predicted by Tim's model is\", life_exp_tim_tom , \"years.\")"
      ]
    },
    {
      "cell_type": "markdown",
      "metadata": {
        "id": "K2pa9LtziFXh"
      },
      "source": [
        "#**3.Linear Regression with Tom**"
      ]
    },
    {
      "cell_type": "code",
      "execution_count": 35,
      "metadata": {
        "colab": {
          "base_uri": "https://localhost:8080/"
        },
        "id": "9LsIt6uYhnz3",
        "outputId": "b193a620-32e0-46fb-d86c-41ad6999d3ee"
      },
      "outputs": [
        {
          "data": {
            "text/plain": [
              "0    584.259210\n",
              "1    612.696514\n",
              "2    631.744976\n",
              "3    669.959000\n",
              "4     63.537231\n",
              "Name: GDP, dtype: float64"
            ]
          },
          "execution_count": 35,
          "metadata": {},
          "output_type": "execute_result"
        }
      ],
      "source": [
        "tom_data = X['GDP']\n",
        "tom_data.head()"
      ]
    },
    {
      "cell_type": "markdown",
      "metadata": {
        "id": "pAACAFS-iTsj"
      },
      "source": [
        "Visualzing Life expectancy vs GDP plot"
      ]
    },
    {
      "cell_type": "code",
      "execution_count": 36,
      "metadata": {
        "colab": {
          "base_uri": "https://localhost:8080/"
        },
        "id": "ePPbd1z5iTsk",
        "outputId": "b1738ae6-ef8e-432c-ec67-a70aba3afb27"
      },
      "outputs": [
        {
          "data": {
            "text/plain": [
              "Text(0, 0.5, 'Life expectancy')"
            ]
          },
          "execution_count": 36,
          "metadata": {},
          "output_type": "execute_result"
        },
        {
          "data": {
            "image/png": "[encoded data removed]",
            "text/plain": [
              "<Figure size 1500x1000 with 1 Axes>"
            ]
          },
          "metadata": {},
          "output_type": "display_data"
        }
      ],
      "source": [
        "fig = plt.figure()\n",
        "ax = fig.add_subplot()\n",
        "\n",
        "ax.scatter(tom_data, Y)\n",
        "\n",
        "ax.set_xlabel('GDP')\n",
        "ax.set_ylabel('Life expectancy')"
      ]
    },
    {
      "cell_type": "markdown",
      "metadata": {
        "id": "QRwCUyACihGU"
      },
      "source": [
        "Preprocessing data"
      ]
    },
    {
      "cell_type": "code",
      "execution_count": 37,
      "metadata": {
        "colab": {
          "base_uri": "https://localhost:8080/"
        },
        "id": "fdMv5tetihGa",
        "outputId": "6865676d-f3a2-4e50-fbe2-a2d97051b008"
      },
      "outputs": [
        {
          "data": {
            "text/plain": [
              "(2938, 2)"
            ]
          },
          "execution_count": 37,
          "metadata": {},
          "output_type": "execute_result"
        }
      ],
      "source": [
        "tom_data_ready = preprocess(tom_data)\n",
        "tom_data_ready.shape"
      ]
    },
    {
      "cell_type": "code",
      "execution_count": 38,
      "metadata": {
        "colab": {
          "base_uri": "https://localhost:8080/"
        },
        "id": "1aHM2U0AihGb",
        "outputId": "877322b9-6e6a-47d0-f6cd-54b59a826c1f"
      },
      "outputs": [
        {
          "name": "stdout",
          "output_type": "stream",
          "text": [
            "y = mx + b\n",
            "y = 0.00031140962386767753x + 66.90438993067787\n"
          ]
        }
      ],
      "source": [
        "tom_theta = normal_equation(tom_data_ready, Y)\n",
        "print(f'y = mx + b')\n",
        "print(f'y = {tom_theta[1]}x + {tom_theta[0]}')"
      ]
    },
    {
      "cell_type": "code",
      "execution_count": 39,
      "metadata": {
        "colab": {
          "base_uri": "https://localhost:8080/"
        },
        "id": "iuiQ7nq7ihGb",
        "outputId": "d7909f15-150d-4707-bb24-1dc2bb170c1c"
      },
      "outputs": [
        {
          "data": {
            "image/png": "[encoded data removed]",
            "text/plain": [
              "<Figure size 1000x600 with 1 Axes>"
            ]
          },
          "metadata": {},
          "output_type": "display_data"
        }
      ],
      "source": [
        "plt.figure(figsize=(10,6))\n",
        "plt.title('Life expectancy regression using $\\\\theta_0$ = {} , $\\\\theta_1$ = {}'.format(tom_theta[0], tom_theta[1]))\n",
        "plt.scatter(tom_data,Y, marker='o')\n",
        "plt.plot(tom_data,np.dot(tom_data_ready, tom_theta), color='r')\n",
        "plt.show()"
      ]
    },
    {
      "cell_type": "code",
      "execution_count": 40,
      "metadata": {
        "colab": {
          "base_uri": "https://localhost:8080/",
          "height": 232
        },
        "id": "CgyQW0U-ihGc",
        "outputId": "bd80c1ee-7acd-4c15-e80b-f474584bbe9b"
      },
      "outputs": [
        {
          "name": "stdout",
          "output_type": "stream",
          "text": [
            "Tom's life expectancy is 69.6 years.\n"
          ]
        }
      ],
      "source": [
        "def life_expectancy(X, theta):\n",
        "    X = np.concatenate((np.ones(1),np.array(X)),axis=0)\n",
        "    return round(np.dot(X, theta),1)\n",
        "\n",
        "gdp = 8500 #float(input(\"Please input the GDP of your country: \")) #8500\n",
        "life_exp_tom = life_expectancy([gdp], tom_theta)\n",
        "print(\"Tom's life expectancy is\", life_exp_tom , \"years.\")"
      ]
    },
    {
      "cell_type": "code",
      "execution_count": 41,
      "metadata": {
        "colab": {
          "base_uri": "https://localhost:8080/"
        },
        "id": "95LO-JB8qADD",
        "outputId": "12683180-1790-4273-c650-2a2eec627b5d"
      },
      "outputs": [
        {
          "name": "stdout",
          "output_type": "stream",
          "text": [
            "Tim's life expectancy predicted by Tom is 68.5 years.\n"
          ]
        }
      ],
      "source": [
        "gdp = 5000 #float(input(\"Please input the GDP of your country: \")) #8500\n",
        "life_exp_tom_tim = life_expectancy([gdp], tom_theta)\n",
        "print(\"Tim's life expectancy predicted by Tom is\", life_exp_tom_tim , \"years.\")"
      ]
    },
    {
      "cell_type": "markdown",
      "metadata": {
        "id": "kyv3lOTVjzBM"
      },
      "source": [
        "#**MULTIPLE REGRESSION**"
      ]
    },
    {
      "cell_type": "markdown",
      "metadata": {
        "id": "7MSKT2Ltj27V"
      },
      "source": [
        "#**4. Multiple Regression with Tim**"
      ]
    },
    {
      "cell_type": "code",
      "execution_count": 42,
      "metadata": {
        "colab": {
          "base_uri": "https://localhost:8080/",
          "height": 206
        },
        "id": "IGZLYuJkjemU",
        "outputId": "ba2a035a-bf92-4689-ef7d-6c49852578b4"
      },
      "outputs": [
        {
          "data": {
            "text/html": [
              "<div>\n",
              "<style scoped>\n",
              "    .dataframe tbody tr th:only-of-type {\n",
              "        vertical-align: middle;\n",
              "    }\n",
              "\n",
              "    .dataframe tbody tr th {\n",
              "        vertical-align: top;\n",
              "    }\n",
              "\n",
              "    .dataframe thead th {\n",
              "        text-align: right;\n",
              "    }\n",
              "</style>\n",
              "<table border=\"1\" class=\"dataframe\">\n",
              "  <thead>\n",
              "    <tr style=\"text-align: right;\">\n",
              "      <th></th>\n",
              "      <th>BMI</th>\n",
              "      <th>Adult_mortality</th>\n",
              "      <th>HIV/AIDS</th>\n",
              "    </tr>\n",
              "  </thead>\n",
              "  <tbody>\n",
              "    <tr>\n",
              "      <th>0</th>\n",
              "      <td>19.1</td>\n",
              "      <td>263.0</td>\n",
              "      <td>0.1</td>\n",
              "    </tr>\n",
              "    <tr>\n",
              "      <th>1</th>\n",
              "      <td>18.6</td>\n",
              "      <td>271.0</td>\n",
              "      <td>0.1</td>\n",
              "    </tr>\n",
              "    <tr>\n",
              "      <th>2</th>\n",
              "      <td>18.1</td>\n",
              "      <td>268.0</td>\n",
              "      <td>0.1</td>\n",
              "    </tr>\n",
              "    <tr>\n",
              "      <th>3</th>\n",
              "      <td>17.6</td>\n",
              "      <td>272.0</td>\n",
              "      <td>0.1</td>\n",
              "    </tr>\n",
              "    <tr>\n",
              "      <th>4</th>\n",
              "      <td>17.2</td>\n",
              "      <td>275.0</td>\n",
              "      <td>0.1</td>\n",
              "    </tr>\n",
              "  </tbody>\n",
              "</table>\n",
              "</div>"
            ],
            "text/plain": [
              "    BMI  Adult_mortality  HIV/AIDS\n",
              "0  19.1            263.0       0.1\n",
              "1  18.6            271.0       0.1\n",
              "2  18.1            268.0       0.1\n",
              "3  17.6            272.0       0.1\n",
              "4  17.2            275.0       0.1"
            ]
          },
          "execution_count": 42,
          "metadata": {},
          "output_type": "execute_result"
        }
      ],
      "source": [
        "tim_data = X[['BMI', 'Adult_mortality', 'HIV/AIDS']]\n",
        "tim_data.head()"
      ]
    },
    {
      "cell_type": "code",
      "execution_count": 43,
      "metadata": {
        "colab": {
          "base_uri": "https://localhost:8080/"
        },
        "id": "SQwv0BTXkUDN",
        "outputId": "8b4c5c1d-b0b0-4c2e-f67a-3548cd76d084"
      },
      "outputs": [
        {
          "data": {
            "text/plain": [
              "(2938, 4)"
            ]
          },
          "execution_count": 43,
          "metadata": {},
          "output_type": "execute_result"
        }
      ],
      "source": [
        "def add_ones(X):\n",
        "    return np.concatenate((np.ones(len(X)).reshape(-1,1), X), axis=1)\n",
        "\n",
        "tim_data_ready = add_ones(tim_data)\n",
        "tim_data_ready.shape"
      ]
    },
    {
      "cell_type": "code",
      "execution_count": 44,
      "metadata": {
        "colab": {
          "base_uri": "https://localhost:8080/"
        },
        "id": "rPHuaKYEkf-2",
        "outputId": "649880c9-2fed-4835-def8-c418bbfc881a"
      },
      "outputs": [
        {
          "name": "stdout",
          "output_type": "stream",
          "text": [
            "theta = tensor([ 6.9525e+01,  1.5869e-01, -3.3820e-02, -4.5804e-01],\n",
            "       dtype=torch.float64)\n"
          ]
        }
      ],
      "source": [
        "tim_theta = normal_equation(tim_data_ready, Y)\n",
        "print(f'theta = {tim_theta}')"
      ]
    },
    {
      "cell_type": "code",
      "execution_count": 45,
      "metadata": {
        "colab": {
          "base_uri": "https://localhost:8080/"
        },
        "id": "gamoPM6ek3jN",
        "outputId": "8055234e-3f02-4bc6-8a9f-da128139cf07"
      },
      "outputs": [
        {
          "name": "stdout",
          "output_type": "stream",
          "text": [
            "Tim's RMSE:  5.784750918898877\n"
          ]
        }
      ],
      "source": [
        "def RMSE(y_pred, y):\n",
        "    return np.sqrt(metrics.mean_squared_error(y, y_pred))\n",
        "\n",
        "tim_y_pred = np.dot(tim_data_ready, tim_theta)\n",
        "tim_rmse = RMSE(tim_y_pred, Y)\n",
        "\n",
        "print(\"Tim's RMSE: \", tim_rmse)"
      ]
    },
    {
      "cell_type": "code",
      "execution_count": 46,
      "metadata": {
        "colab": {
          "base_uri": "https://localhost:8080/",
          "height": 250
        },
        "id": "_H0bhUHslUkg",
        "outputId": "df1b2613-2d31-4262-9990-0bfb5a201c3c"
      },
      "outputs": [
        {
          "name": "stdout",
          "output_type": "stream",
          "text": [
            "BMI: 24.151672503320853\n",
            "Tim's life expectancy is 71.5 years.\n"
          ]
        }
      ],
      "source": [
        "#def life_expectancy(X, theta):\n",
        "#    X = np.concatenate((np.ones(1),np.array(X)),axis=0)\n",
        "#    return round(np.dot(X, theta),1)\n",
        "\n",
        "height = 1.82 #float(input(\"Please input your height (in meters): \"))\n",
        "weight = 80 #float(input(\"Please input your weight (in kilograms): \"))\n",
        "bmi = weight / height**2\n",
        "print(\"BMI:\",bmi)\n",
        "adult_mortality = 53\n",
        "hiv = 0.1\n",
        "life_exp_tim = life_expectancy([bmi,adult_mortality,hiv], tim_theta)\n",
        "print(\"Tim's life expectancy is\", life_exp_tim , \"years.\")"
      ]
    },
    {
      "cell_type": "code",
      "execution_count": 47,
      "metadata": {
        "colab": {
          "base_uri": "https://localhost:8080/"
        },
        "id": "eIjgubDvos0k",
        "outputId": "868cb381-70b1-4803-ded7-c09a88941daf"
      },
      "outputs": [
        {
          "name": "stdout",
          "output_type": "stream",
          "text": [
            "BMI: 22.530864197530864\n",
            "Tom's life expectancy predicted by Tim is 70.7 years.\n"
          ]
        }
      ],
      "source": [
        "height = 1.80 #float(input(\"Please input your height (in meters): \"))\n",
        "weight = 73 #float(input(\"Please input your weight (in kilograms): \"))\n",
        "bmi = weight / height**2\n",
        "print(\"BMI:\",bmi)\n",
        "adult_mortality = 70\n",
        "hiv = 0.1\n",
        "life_exp_tim_tom = life_expectancy([bmi,adult_mortality,hiv], tim_theta)\n",
        "print(\"Tom's life expectancy predicted by Tim is\", life_exp_tim_tom , \"years.\")"
      ]
    },
    {
      "cell_type": "markdown",
      "metadata": {
        "id": "kPhxc-iTmXAw"
      },
      "source": [
        "#**5. Multiple Regression with Tom**"
      ]
    },
    {
      "cell_type": "code",
      "execution_count": 48,
      "metadata": {
        "colab": {
          "base_uri": "https://localhost:8080/",
          "height": 206
        },
        "id": "_lc2UnMumjiD",
        "outputId": "e7e14285-0a28-4cff-ecb4-3667b96fcf52"
      },
      "outputs": [
        {
          "data": {
            "text/html": [
              "<div>\n",
              "<style scoped>\n",
              "    .dataframe tbody tr th:only-of-type {\n",
              "        vertical-align: middle;\n",
              "    }\n",
              "\n",
              "    .dataframe tbody tr th {\n",
              "        vertical-align: top;\n",
              "    }\n",
              "\n",
              "    .dataframe thead th {\n",
              "        text-align: right;\n",
              "    }\n",
              "</style>\n",
              "<table border=\"1\" class=\"dataframe\">\n",
              "  <thead>\n",
              "    <tr style=\"text-align: right;\">\n",
              "      <th></th>\n",
              "      <th>GDP</th>\n",
              "      <th>Income_composition_of_resources</th>\n",
              "      <th>Schooling</th>\n",
              "    </tr>\n",
              "  </thead>\n",
              "  <tbody>\n",
              "    <tr>\n",
              "      <th>0</th>\n",
              "      <td>584.259210</td>\n",
              "      <td>0.479</td>\n",
              "      <td>10.1</td>\n",
              "    </tr>\n",
              "    <tr>\n",
              "      <th>1</th>\n",
              "      <td>612.696514</td>\n",
              "      <td>0.476</td>\n",
              "      <td>10.0</td>\n",
              "    </tr>\n",
              "    <tr>\n",
              "      <th>2</th>\n",
              "      <td>631.744976</td>\n",
              "      <td>0.470</td>\n",
              "      <td>9.9</td>\n",
              "    </tr>\n",
              "    <tr>\n",
              "      <th>3</th>\n",
              "      <td>669.959000</td>\n",
              "      <td>0.463</td>\n",
              "      <td>9.8</td>\n",
              "    </tr>\n",
              "    <tr>\n",
              "      <th>4</th>\n",
              "      <td>63.537231</td>\n",
              "      <td>0.454</td>\n",
              "      <td>9.5</td>\n",
              "    </tr>\n",
              "  </tbody>\n",
              "</table>\n",
              "</div>"
            ],
            "text/plain": [
              "          GDP  Income_composition_of_resources  Schooling\n",
              "0  584.259210                            0.479       10.1\n",
              "1  612.696514                            0.476       10.0\n",
              "2  631.744976                            0.470        9.9\n",
              "3  669.959000                            0.463        9.8\n",
              "4   63.537231                            0.454        9.5"
            ]
          },
          "execution_count": 48,
          "metadata": {},
          "output_type": "execute_result"
        }
      ],
      "source": [
        "tom_data = X[['GDP', 'Income_composition_of_resources', 'Schooling']]\n",
        "tom_data.head()"
      ]
    },
    {
      "cell_type": "code",
      "execution_count": 49,
      "metadata": {
        "colab": {
          "base_uri": "https://localhost:8080/"
        },
        "id": "kkt0l4fYmjiJ",
        "outputId": "aff1b2a3-0fd2-4e9a-bc56-62a59afaa500"
      },
      "outputs": [
        {
          "data": {
            "text/plain": [
              "(2938, 4)"
            ]
          },
          "execution_count": 49,
          "metadata": {},
          "output_type": "execute_result"
        }
      ],
      "source": [
        "tom_data_ready = add_ones(tom_data)\n",
        "tom_data_ready.shape"
      ]
    },
    {
      "cell_type": "code",
      "execution_count": 50,
      "metadata": {
        "colab": {
          "base_uri": "https://localhost:8080/"
        },
        "id": "GM0IQvZEmjiJ",
        "outputId": "8dcd91c9-d764-4430-c939-5aaa47da38d8"
      },
      "outputs": [
        {
          "name": "stdout",
          "output_type": "stream",
          "text": [
            "theta = tensor([4.4968e+01, 8.2688e-05, 1.4274e+01, 1.2249e+00], dtype=torch.float64)\n"
          ]
        }
      ],
      "source": [
        "tom_theta = normal_equation(tom_data_ready, Y)\n",
        "print(f'theta = {tom_theta}')"
      ]
    },
    {
      "cell_type": "code",
      "execution_count": 51,
      "metadata": {
        "colab": {
          "base_uri": "https://localhost:8080/"
        },
        "id": "wxwcHWWCmjiK",
        "outputId": "192d11e4-12b7-4904-b6ca-6ba4c7f5c8cd"
      },
      "outputs": [
        {
          "name": "stdout",
          "output_type": "stream",
          "text": [
            "Tom's RMSE:  6.288890108092894\n"
          ]
        }
      ],
      "source": [
        "def RMSE(y_pred, y):\n",
        "    return np.sqrt(metrics.mean_squared_error(y, y_pred))\n",
        "\n",
        "tom_y_pred = np.dot(tom_data_ready, tom_theta)\n",
        "tom_rmse = RMSE(tom_y_pred, Y)\n",
        "\n",
        "print(\"Tom's RMSE: \", tom_rmse)"
      ]
    },
    {
      "cell_type": "code",
      "execution_count": 52,
      "metadata": {
        "colab": {
          "base_uri": "https://localhost:8080/"
        },
        "id": "5TGyhnOVmjiK",
        "outputId": "ff95e8a3-8886-46d3-81d0-4436250790e7"
      },
      "outputs": [
        {
          "name": "stdout",
          "output_type": "stream",
          "text": [
            "Tom's life expectancy is 77.3 years.\n"
          ]
        }
      ],
      "source": [
        "gdp = 8500\n",
        "income = 0.8\n",
        "school = 16.5\n",
        "life_exp_tom = life_expectancy([gdp,income,school], tom_theta)\n",
        "print(\"Tom's life expectancy is\", life_exp_tom , \"years.\")"
      ]
    },
    {
      "cell_type": "code",
      "execution_count": 53,
      "metadata": {
        "colab": {
          "base_uri": "https://localhost:8080/"
        },
        "id": "2WT2fKbgn8ge",
        "outputId": "3b0a6698-e764-43ba-cb05-027a9fca1e01"
      },
      "outputs": [
        {
          "name": "stdout",
          "output_type": "stream",
          "text": [
            "Tim's life expectancy predicted by Tom is 75.4 years.\n"
          ]
        }
      ],
      "source": [
        "gdp = 5000\n",
        "income = 0.77\n",
        "school = 15.5\n",
        "life_exp_tom_tim = life_expectancy([gdp,income,school], tom_theta)\n",
        "print(\"Tim's life expectancy predicted by Tom is\", life_exp_tom_tim , \"years.\")"
      ]
    },
    {
      "cell_type": "code",
      "execution_count": null,
      "metadata": {
        "id": "Tdg6pRklpqc3"
      },
      "outputs": [],
      "source": [
        "##CODE HERE"
      ]
    },
    {
      "cell_type": "markdown",
      "metadata": {
        "id": "kpbU85NfqrSU"
      },
      "source": [
        "#**GRADIENT DESCENT**"
      ]
    },
    {
      "cell_type": "markdown",
      "metadata": {
        "id": "iq6xj8n9-4az"
      },
      "source": [
        "Objective of Linear Regression is to minimize the cost function:\n",
        "<br>\n",
        "$\\Large J(\\theta) = \\frac{1}{2m} \\sum\\limits_{i=1}^{m} (h_\\theta(x^{(i)})-y^{(i)})^2$\n",
        "<br>\n",
        "<br>\n",
        "where the hypothesis $h_\\theta(x)$ is given by the lienar model:  \n",
        "\n",
        "$\\Large h_\\theta(x) = \\theta^T X = \\theta_1 X_1 + \\theta_0 $  \n",
        "<br>\n",
        "In batch gradient descent, each iteration performs the update:  \n",
        "$\\Large \\theta_j := \\theta_j - \\alpha \\frac{1}{m} \\sum\\limits_{i=1}^{m}(h_\\theta (x^{(i)}) - y^{(i)})x_j^{(i)}$"
      ]
    },
    {
      "cell_type": "code",
      "execution_count": 54,
      "metadata": {
        "colab": {
          "base_uri": "https://localhost:8080/"
        },
        "id": "q48LPzIwBa9C",
        "outputId": "0c53e102-f19d-4156-be6b-7b2129bc0e69"
      },
      "outputs": [
        {
          "data": {
            "text/plain": [
              "(2938, 3)"
            ]
          },
          "execution_count": 54,
          "metadata": {},
          "output_type": "execute_result"
        }
      ],
      "source": [
        "tom_data.shape"
      ]
    },
    {
      "cell_type": "code",
      "execution_count": 55,
      "metadata": {
        "id": "egJ2e_C8BeHX"
      },
      "outputs": [],
      "source": [
        "tom_features = tom_data.values"
      ]
    },
    {
      "cell_type": "code",
      "execution_count": 56,
      "metadata": {
        "id": "3L_8IX_PBGbR"
      },
      "outputs": [],
      "source": [
        "#Normalize features\n",
        "def featureNormalize(x_m):\n",
        "    mu = np.zeros((1,x_m.shape[1]))\n",
        "    sigma = np.zeros((1,x_m.shape[1]))\n",
        "    x_norm = x_m.astype(float)\n",
        "\n",
        "    for i in range(0,len(mu)+1):\n",
        "        mu[:,i] = x_m[:,i].mean()\n",
        "        sigma[:,i] = x_m[:,i].std()\n",
        "        x_norm[:,i] = (x_m[:,i] - mu[:,i])/sigma[:,i]\n",
        "    return (x_norm, mu, sigma)\n",
        "\n",
        "x_norm, mu, sigma = featureNormalize(tom_features)\n",
        "x_norm = np.concatenate((np.ones(len(x_norm)).reshape(-1,1), x_norm), axis=1)"
      ]
    },
    {
      "cell_type": "code",
      "execution_count": 57,
      "metadata": {
        "id": "FddYKJJK_wz9"
      },
      "outputs": [],
      "source": [
        "def computeCost_m(x, y, theta):\n",
        "    m = len(y)\n",
        "    h_x = np.dot(x, theta)\n",
        "    j = np.sum(np.square(h_x - y))/(2*m)\n",
        "    return j\n",
        "\n",
        "def gradientDescentMulti(X, Y, theta, alpha, num_iters):\n",
        "    m = len(Y)\n",
        "    p = np.copy(X)\n",
        "    t = np.copy(theta)\n",
        "    j = []\n",
        "    print('Running Gradient Descent')\n",
        "    for i in range(0,num_iters+1):\n",
        "        cost = computeCost_m(p, Y, t)\n",
        "        j.append(cost)\n",
        "        #print(f'Cost at iteration {i}: {cost}')\n",
        "        h_x = np.dot(p, t)\n",
        "        err = h_x - Y\n",
        "        for f in range(theta.size):\n",
        "            t[f] = t[f] - alpha/m *(np.sum((np.dot(p[:,f].T, err))))\n",
        "    return j, t"
      ]
    },
    {
      "cell_type": "code",
      "execution_count": 58,
      "metadata": {
        "id": "02dnJ38h_rhJ"
      },
      "outputs": [],
      "source": [
        "alpha = 0.000001\n",
        "num_iters = 10\n",
        "theta_init = np.random.rand(4,1)"
      ]
    },
    {
      "cell_type": "code",
      "execution_count": 59,
      "metadata": {
        "colab": {
          "base_uri": "https://localhost:8080/"
        },
        "id": "B4VHhX9s_plR",
        "outputId": "57280ee3-9965-4e29-b264-5d977e8f470b"
      },
      "outputs": [
        {
          "name": "stdout",
          "output_type": "stream",
          "text": [
            "Running Gradient Descent\n",
            "\n",
            "Final theta:\n",
            "[[ 0.81045979]\n",
            " [ 0.14618662]\n",
            " [-0.30675753]\n",
            " [ 5.31024762]]\n"
          ]
        }
      ],
      "source": [
        "cost, theta_final = gradientDescentMulti(x_norm, Y, theta_init, alpha, num_iters)\n",
        "print(\"\")\n",
        "print(\"Final theta:\")\n",
        "print(theta_final)"
      ]
    },
    {
      "cell_type": "code",
      "execution_count": 60,
      "metadata": {
        "colab": {
          "base_uri": "https://localhost:8080/",
          "height": 622
        },
        "id": "NblnCspr_24l",
        "outputId": "6b7c4fe4-0e85-49ef-815c-9a9a81206c37"
      },
      "outputs": [
        {
          "data": {
            "image/png": "[encoded data removed]",
            "text/plain": [
              "<Figure size 1500x1000 with 1 Axes>"
            ]
          },
          "metadata": {},
          "output_type": "display_data"
        }
      ],
      "source": [
        "plt.figure()\n",
        "plt.plot(cost)\n",
        "plt.xlabel('No. of Iterations')\n",
        "plt.ylabel('Cost')\n",
        "plt.show()"
      ]
    },
    {
      "cell_type": "code",
      "execution_count": 61,
      "metadata": {
        "colab": {
          "base_uri": "https://localhost:8080/"
        },
        "id": "c3CmmR8VCDDr",
        "outputId": "b2f59189-d767-4b80-afbd-cb981109dd16"
      },
      "outputs": [
        {
          "name": "stdout",
          "output_type": "stream",
          "text": [
            "Tom's RMSE:  13.207905722417376\n"
          ]
        }
      ],
      "source": [
        "def RMSE(y, y_pred):\n",
        "    return np.sqrt(metrics.mean_squared_error(y, y_pred))\n",
        "\n",
        "tom_y_pred = np.dot(x_norm, theta_final)\n",
        "tom_rmse = RMSE(tom_y_pred, Y)\n",
        "\n",
        "print(\"Tom's RMSE: \", tom_rmse)"
      ]
    },
    {
      "cell_type": "code",
      "execution_count": null,
      "metadata": {
        "id": "tdnAr_tEp2CD"
      },
      "outputs": [],
      "source": [
        "## To be continued..."
      ]
    }
  ],
  "metadata": {
    "colab": {
      "provenance": []
    },
    "kernelspec": {
      "display_name": "Python 3",
      "name": "python3"
    },
    "language_info": {
      "codemirror_mode": {
        "name": "ipython",
        "version": 3
      },
      "file_extension": ".py",
      "mimetype": "text/x-python",
      "name": "python",
      "nbconvert_exporter": "python",
      "pygments_lexer": "ipython3",
      "version": "3.10.11"
    }
  },
  "nbformat": 4,
  "nbformat_minor": 0
}
