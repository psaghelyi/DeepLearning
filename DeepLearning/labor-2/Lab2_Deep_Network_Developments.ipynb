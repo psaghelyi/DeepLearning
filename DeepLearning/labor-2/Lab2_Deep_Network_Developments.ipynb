{
 "cells": [
  {
   "cell_type": "markdown",
   "metadata": {
    "id": "bdNSWJY5bDz5"
   },
   "source": [
    "## Import the key libraries"
   ]
  },
  {
   "cell_type": "code",
   "execution_count": 3,
   "metadata": {
    "id": "I7dPOplNsuFW"
   },
   "outputs": [],
   "source": [
    "import numpy as np\n",
    "import matplotlib.pyplot as plt # for plotting\n",
    "# install it from: https://pytorch.org/get-started/locally/\n",
    "import torch # the most used deep learning framework next to TensorFlow\n",
    "import time # measure time"
   ]
  },
  {
   "cell_type": "markdown",
   "metadata": {
    "id": "-nWpfouUcB14"
   },
   "source": [
    "## GPU\n",
    "\n",
    "Basic GPU monitoring informations that can be useful. `!nvidia-smi` (NVIDIA Management Library) can be used to get a summary table. Unfortunately, it cannot be called directly, so other libraries must be used to monitor the gpu in the program. Currently, it only works stably on nvidia GPUs. Currently, it only works stably on Nvidia GPUs. To take advantage of the GPU, Cuda Toolkit \"https://developer.nvidia.com/cuda-downloads\" needs to be installed first."
   ]
  },
  {
   "cell_type": "code",
   "execution_count": 2,
   "metadata": {},
   "outputs": [
    {
     "name": "stdout",
     "output_type": "stream",
     "text": [
      "zsh:1: command not found: nvidia-smi\n"
     ]
    }
   ],
   "source": [
    "!nvidia-smi"
   ]
  },
  {
   "cell_type": "markdown",
   "metadata": {},
   "source": [
    "## PyTorch\n",
    "\n",
    "At its core PyTorch provides two features:\n",
    "1.   An n-dimensional Tensor, similar to NumPy but switches easily between CPU and GPUs.\n",
    "2.   Automatic differentiation for building and training (neural) networks.\n",
    "\n",
    "\n",
    "Let's take a look on some common features: \\\\\n",
    "- `numpy.ndarray` vs `torch.tensor` \\\\\n",
    "- `numpy.ones` vs `torch.ones` \\\\\n",
    "- `numpy.zeros` vs `torch.zeros` \\\\\n",
    "- `numpy.copy()` vs `torch.clone()` \\\\\n",
    "- `.reshape` vs `.view` (numpy vs torch) \\\\\n",
    "- `numpy.linalg.inv()` vs `torch.inverse()` \\\\\n",
    "- `torch.from_numpy()` \\\\\n",
    "- `torch.where()` \\\\"
   ]
  },
  {
   "cell_type": "markdown",
   "metadata": {},
   "source": [
    "### Numpy vs Torch\n",
    "\n",
    "Two additional parameters can be specified for the Torch tensor. The device can be 'cpu' or cuda, where the number can be selected. The need for a gradient increases its space requirements but is necessary for training."
   ]
  },
  {
   "cell_type": "code",
   "execution_count": 4,
   "metadata": {
    "id": "Gxb8xnqob7T6"
   },
   "outputs": [],
   "source": [
    "#install cudatoolkit\n",
    "my_tensor = torch.tensor(data=[2.5], dtype=torch.float64, device='cpu', requires_grad=True)"
   ]
  },
  {
   "cell_type": "code",
   "execution_count": 5,
   "metadata": {
    "colab": {
     "base_uri": "https://localhost:8080/"
    },
    "id": "__RAN0qQdd6W",
    "outputId": "b9c10aec-72be-4cbd-b027-04448ac15cbe"
   },
   "outputs": [
    {
     "name": "stdout",
     "output_type": "stream",
     "text": [
      "numpy_array type: <class 'numpy.ndarray'>\n",
      "tensor type: <class 'torch.Tensor'>\n"
     ]
    }
   ],
   "source": [
    "numpy_array = np.array([[1.0,3.2,0],[3.3,4.1,0]], dtype=np.float16)\n",
    "print(f'numpy_array type: {type(numpy_array)}')\n",
    "tensor = torch.from_numpy(numpy_array)\n",
    "print(f'tensor type: {type(tensor)}')"
   ]
  },
  {
   "cell_type": "code",
   "execution_count": 6,
   "metadata": {
    "colab": {
     "base_uri": "https://localhost:8080/"
    },
    "id": "Zh5SNhSEbNa8",
    "outputId": "9d437163-2e7b-4f60-fa35-768943592dfa"
   },
   "outputs": [
    {
     "name": "stdout",
     "output_type": "stream",
     "text": [
      "torch.Size([2, 3])\n",
      "2\n",
      "2\n"
     ]
    }
   ],
   "source": [
    "print(tensor.shape)\n",
    "print(tensor.size(0)) # same as .shape and you can specify the dimension\n",
    "print(tensor.dim())"
   ]
  },
  {
   "cell_type": "markdown",
   "metadata": {
    "id": "QV7zEy1jvHx4"
   },
   "source": [
    "#### Difference in execution time - numpy vs pytorch\n",
    "\n",
    "The comparison should consider the conversion time and the time of data movement to/from the GPU memory. Because of the copy times, when possible it is worth initializing variables directly on the GPU. \n",
    "\n",
    "- `%%time`-total execution time of the cell, \n",
    "- `%time` -next line execution time, only for Win64 (Win32 chase=0)\n",
    "- Compiler time: shows up if>0.1 s\n",
    "- Wall time: time diff.(kernel start and end)\n",
    "- user: code execution time (maybe more than wall time in paralell case)\n",
    "- sys: pre and after processes (memory allocation...)\n",
    "- CPU time is user time + sys time\n"
   ]
  },
  {
   "cell_type": "code",
   "execution_count": 7,
   "metadata": {
    "id": "W0a0YxwVu1Hu"
   },
   "outputs": [],
   "source": [
    "matrix_1 = np.random.randn(5000,5000)\n",
    "matrix_2 = np.random.randn(5000,5000)"
   ]
  },
  {
   "cell_type": "code",
   "execution_count": 8,
   "metadata": {
    "colab": {
     "base_uri": "https://localhost:8080/"
    },
    "id": "CDprs9j9snOJ",
    "outputId": "ee962517-31a2-4b8f-b30d-181b127a16a9"
   },
   "outputs": [
    {
     "name": "stdout",
     "output_type": "stream",
     "text": [
      "[ -40.65248246  -10.49841804   16.57634323 ...  -22.27653638 -146.0673842\n",
      "   41.82895167]\n",
      "CPU times: user 16.6 s, sys: 351 ms, total: 16.9 s\n",
      "Wall time: 1.14 s\n"
     ]
    }
   ],
   "source": [
    "%%time \n",
    "res_numpy = np.dot(matrix_1, matrix_2)\n",
    "print(res_numpy[0])"
   ]
  },
  {
   "cell_type": "code",
   "execution_count": 9,
   "metadata": {},
   "outputs": [],
   "source": [
    "torch_mx_1 = torch.from_numpy(matrix_1).float().cpu()\n",
    "torch_mx_2 = torch.from_numpy(matrix_2).float().cpu()"
   ]
  },
  {
   "cell_type": "code",
   "execution_count": 10,
   "metadata": {
    "colab": {
     "base_uri": "https://localhost:8080/"
    },
    "id": "A7sy9zduu5_y",
    "outputId": "beb0b8de-b801-43ab-d8f6-7867709b1678"
   },
   "outputs": [
    {
     "name": "stdout",
     "output_type": "stream",
     "text": [
      "tensor([ -40.6525,  -10.4985,   16.5764,  ...,  -22.2765, -146.0674,\n",
      "          41.8290])\n",
      "CPU times: user 9.42 s, sys: 304 ms, total: 9.72 s\n",
      "Wall time: 626 ms\n"
     ]
    }
   ],
   "source": [
    "%%time \n",
    "# torch_mx_1 = torch.from_numpy(matrix_1).float().cuda()\n",
    "# torch_mx_2 = torch.from_numpy(matrix_2).float().cuda()\n",
    "res_pytorch = torch.mm(torch_mx_1, torch_mx_2)\n",
    "print(res_pytorch[0])"
   ]
  },
  {
   "cell_type": "markdown",
   "metadata": {
    "id": "B-bzsh-dMBXg"
   },
   "source": [
    "#### Matrix inverse, determinant and transpose\n",
    "\n",
    "Try different types and devices and check accuracy and speed."
   ]
  },
  {
   "cell_type": "code",
   "execution_count": 11,
   "metadata": {
    "colab": {
     "base_uri": "https://localhost:8080/"
    },
    "id": "12FSvHfktvbQ",
    "outputId": "d3e16570-702f-4013-afa1-8bfcfb7686c2"
   },
   "outputs": [
    {
     "name": "stdout",
     "output_type": "stream",
     "text": [
      "numpy inverse:\n",
      " [[-1.   0.6]\n",
      " [ 1.  -0.4]]\n",
      "torch inverse:\n",
      " tensor([[-1.0000,  0.6000],\n",
      "        [ 1.0000, -0.4000]])\n",
      "\n",
      "numpy determinant:\n",
      " -5.0\n",
      "torch determinant:\n",
      " -4.999999523162842\n",
      "\n",
      "numpy transpose:\n",
      " [[2. 5.]\n",
      " [3. 5.]]\n",
      "torch transpose:\n",
      " tensor([[2., 5.],\n",
      "        [3., 5.]])\n",
      "\n"
     ]
    }
   ],
   "source": [
    "n = np.array([[2.,3.],[5.,5.]], dtype=np.float32)\n",
    "p = torch.tensor([[2.,3.],[5.,5.]], dtype=torch.float32, device='cpu')\n",
    "\n",
    "print(f'numpy inverse:\\n {np.linalg.inv(n)}')\n",
    "print(f'torch inverse:\\n {p.inverse()}')\n",
    "print()\n",
    "\n",
    "print(f'numpy determinant:\\n {np.linalg.det(n)}')\n",
    "print(f'torch determinant:\\n {torch.det(p)}')\n",
    "print()\n",
    "\n",
    "print(f'numpy transpose:\\n {n.T}')\n",
    "print(f'torch transpose:\\n {p.t()}')\n",
    "print()\n"
   ]
  },
  {
   "cell_type": "markdown",
   "metadata": {},
   "source": [
    "#### Reshape"
   ]
  },
  {
   "cell_type": "code",
   "execution_count": 12,
   "metadata": {
    "colab": {
     "base_uri": "https://localhost:8080/"
    },
    "id": "-UnchCs2TPp0",
    "outputId": "cac6287c-6f8b-411c-d053-10f30d7b2b8a"
   },
   "outputs": [
    {
     "name": "stdout",
     "output_type": "stream",
     "text": [
      "[[[2. 3.]\n",
      "  [0. 2.]\n",
      "  [5. 5.]\n",
      "  [3. 2.]]]\n",
      "tensor([[[2.],\n",
      "         [3.],\n",
      "         [0.],\n",
      "         [2.]],\n",
      "\n",
      "        [[5.],\n",
      "         [5.],\n",
      "         [3.],\n",
      "         [2.]]])\n",
      "tensor([[[2.],\n",
      "         [3.]],\n",
      "\n",
      "        [[0.],\n",
      "         [2.]],\n",
      "\n",
      "        [[5.],\n",
      "         [5.]],\n",
      "\n",
      "        [[3.],\n",
      "         [2.]]])\n"
     ]
    },
    {
     "data": {
      "text/plain": [
       "tensor([[2., 3., 0., 2.],\n",
       "        [5., 5., 3., 2.]])"
      ]
     },
     "execution_count": 12,
     "metadata": {},
     "output_type": "execute_result"
    }
   ],
   "source": [
    "n = np.array([[2.,3.,0.,2.],[5.,5.,3.,2.]])\n",
    "p = torch.tensor([[2.,3.,0.,2.],[5.,5.,3.,2.]], device='cpu')\n",
    "\n",
    "print(n.reshape((1,4,2)))\n",
    "print(p.view((2,4,1)))\n",
    "print(p.reshape((4,2,1)))\n",
    "p"
   ]
  },
  {
   "cell_type": "markdown",
   "metadata": {},
   "source": [
    "####  Parallel calculations\n",
    "\n",
    "GPU calculations do not take CPU time.\n",
    "\n",
    "A simple parallel task where values smaller than 0 are replaced by pi"
   ]
  },
  {
   "cell_type": "code",
   "execution_count": 13,
   "metadata": {
    "colab": {
     "base_uri": "https://localhost:8080/"
    },
    "id": "7secYlOnTgFT",
    "outputId": "a32c2977-3e9c-41dc-e14b-086281033ff9"
   },
   "outputs": [
    {
     "data": {
      "text/plain": [
       "tensor([[ 0.8496, -0.5269, -0.5400,  ..., -0.7852, -0.2144, -0.0801],\n",
       "        [ 0.5811,  0.5205,  0.1267,  ..., -0.5835, -0.7241, -2.1426],\n",
       "        [-1.2637, -0.1459, -0.9834,  ..., -1.8252, -0.6436, -1.1631],\n",
       "        ...,\n",
       "        [-1.0645,  1.2646,  1.5615,  ..., -1.5303, -0.2338, -0.9946],\n",
       "        [ 1.7783,  0.1787,  1.0088,  ..., -0.6050,  0.1370, -0.7593],\n",
       "        [-0.2002, -0.3413, -0.6318,  ...,  0.0090, -2.3379, -0.9980]],\n",
       "       dtype=torch.float16)"
      ]
     },
     "execution_count": 13,
     "metadata": {},
     "output_type": "execute_result"
    }
   ],
   "source": [
    "x_torch = torch.randn(10000, 10000, dtype=torch.double, device='cpu')\n",
    "x_numpy = np.random.randn(10000,10000)\n",
    "# directly on GPU\n",
    "S2 = torch.Size((100, 100))\n",
    "x = torch.HalfTensor(S2)\n",
    "torch.randn(S2, out=x)"
   ]
  },
  {
   "cell_type": "code",
   "execution_count": 14,
   "metadata": {},
   "outputs": [
    {
     "name": "stdout",
     "output_type": "stream",
     "text": [
      "GPU calculation time pytorch:  0.4243934154510498  s\n",
      "CPU calculation time numpy:  0.9129583835601807  s\n",
      "CPU times: user 5.33 s, sys: 2.7 s, total: 8.03 s\n",
      "Wall time: 1.34 s\n"
     ]
    }
   ],
   "source": [
    "%%time\n",
    "tstart = time.time()\n",
    "x_torch=torch.where(x_torch > 0, x_torch, torch.pi)\n",
    "thalf = time.time()\n",
    "x_numpy=np.where(x_numpy > 0, x_numpy, np.pi)\n",
    "tend = time.time()\n",
    "print('GPU calculation time pytorch: ',thalf-tstart, ' s')\n",
    "print('CPU calculation time numpy: ',tend-thalf, ' s')"
   ]
  },
  {
   "cell_type": "markdown",
   "metadata": {
    "id": "j2lwzclYsvTh"
   },
   "source": [
    "# Computation graphs and Autograd\n",
    "In the case of learning systems, we often need the value of the gradient(primarily its direction) `requires_grad=true`.\n",
    "\n",
    "In this section, we examine a general directed graph, which clearly illustrates the operation of the neural networks and can greatly help in understanding them."
   ]
  },
  {
   "cell_type": "code",
   "execution_count": 15,
   "metadata": {
    "id": "EbqDssq4s79Z"
   },
   "outputs": [],
   "source": [
    "x = torch.tensor(5., requires_grad=True)"
   ]
  },
  {
   "cell_type": "markdown",
   "metadata": {
    "id": "rjWus8yEtKbX"
   },
   "source": [
    "$ y = 3x^2 + 4x + 2$\n",
    "\n",
    "`x` = `5`  \n",
    "$ y = 3*5^2 + 4*5 + 2 $\\\n",
    "$ y = 3*25 + 20 + 2$\\\n",
    "$ y = 75 + 20 + 2 $\\\n",
    "$ y = 97 $\n"
   ]
  },
  {
   "cell_type": "code",
   "execution_count": 16,
   "metadata": {
    "colab": {
     "base_uri": "https://localhost:8080/"
    },
    "id": "0RieAHJUtDY4",
    "outputId": "bb5b70de-3eb1-46b6-b7cd-a3d40e5a9653"
   },
   "outputs": [
    {
     "data": {
      "text/plain": [
       "tensor(97., grad_fn=<AddBackward0>)"
      ]
     },
     "execution_count": 16,
     "metadata": {},
     "output_type": "execute_result"
    }
   ],
   "source": [
    "y = 3*x**2 + 4*x + 2\n",
    "y"
   ]
  },
  {
   "cell_type": "markdown",
   "metadata": {
    "id": "8xiQWtri91yC"
   },
   "source": [
    "The `backward()` method is used to compute the gradient during the backward pass in a neural network."
   ]
  },
  {
   "cell_type": "markdown",
   "metadata": {
    "id": "KErsNiOktqLe"
   },
   "source": [
    "The derivative of `y` with respect to the variable `x`.\\\n",
    "$\\frac{dy}{dx} = 2*3x + 4 = 6x + 4$\\\n",
    "`x` = `5`\n",
    "\n",
    "$6x + 4 = 6*5 + 4 = 30 + 4 = 34$\n"
   ]
  },
  {
   "cell_type": "code",
   "execution_count": 17,
   "metadata": {
    "colab": {
     "base_uri": "https://localhost:8080/",
     "height": 345
    },
    "id": "0OeXqsETualB",
    "outputId": "7b505229-11ad-4e11-bbf0-c6f669c762eb"
   },
   "outputs": [
    {
     "data": {
      "text/plain": [
       "tensor(34.)"
      ]
     },
     "execution_count": 17,
     "metadata": {},
     "output_type": "execute_result"
    }
   ],
   "source": [
    "y.backward()\n",
    "x.grad"
   ]
  },
  {
   "cell_type": "markdown",
   "metadata": {
    "id": "ZnvEtyskfybZ"
   },
   "source": [
    "PyTorch accumulates the derivatives (gradients) on each subsequent backward passes. This is convinient during training **R**ecurrent **N**eural **N**etworks \\\\\n",
    "To set it zero in each iteration you can use `grad.zero_` function on a `Tensor`.\n"
   ]
  },
  {
   "cell_type": "code",
   "execution_count": 18,
   "metadata": {
    "colab": {
     "base_uri": "https://localhost:8080/"
    },
    "id": "Mwf4j7k5ueSN",
    "outputId": "ab0e17ff-6f84-4ca9-d7b1-278f61f4ef0b"
   },
   "outputs": [
    {
     "name": "stdout",
     "output_type": "stream",
     "text": [
      "tensor(34.)\n",
      "tensor(34.)\n",
      "tensor(34.)\n"
     ]
    }
   ],
   "source": [
    "x = torch.tensor(5., requires_grad=True)\n",
    "\n",
    "for i in range(3):\n",
    "  y = 3*x**2 + 4*x + 2\n",
    "  y.backward()\n",
    "\n",
    "  print(x.grad)\n",
    "  x.grad.zero_() ## pytorch accumulates the derivatives by default\n"
   ]
  },
  {
   "cell_type": "markdown",
   "metadata": {
    "id": "q1pCcVWnvHCg"
   },
   "source": [
    "`torch.tensor` can not converted to numpy if grad is True, to convert a `torch.tensor` to `numpy.ndarray` you have to explicitly remove the computational graph from the tensor using `detach()` command"
   ]
  },
  {
   "cell_type": "code",
   "execution_count": 19,
   "metadata": {
    "colab": {
     "base_uri": "https://localhost:8080/",
     "height": 183
    },
    "id": "YCryTTkR7W3j",
    "outputId": "eb788622-ea51-4e60-e2d9-2f1465e2813c"
   },
   "outputs": [],
   "source": [
    "x = torch.tensor(5., requires_grad=False)\n",
    "np_x = x.numpy()"
   ]
  },
  {
   "cell_type": "code",
   "execution_count": 20,
   "metadata": {
    "colab": {
     "base_uri": "https://localhost:8080/"
    },
    "id": "jH5Zd8lzvdfd",
    "outputId": "2653231e-0599-472f-f95c-c39ccffaa661"
   },
   "outputs": [
    {
     "name": "stdout",
     "output_type": "stream",
     "text": [
      "np_x type: <class 'numpy.ndarray'>\n",
      "np_x: 5.0\n"
     ]
    }
   ],
   "source": [
    "np_x = x.detach().numpy()\n",
    "print(f'np_x type: {type(np_x)}')\n",
    "print(f'np_x: {np_x}')"
   ]
  },
  {
   "cell_type": "markdown",
   "metadata": {
    "id": "A2_-iZ7Jw-Wv"
   },
   "source": [
    "A bit more complex calculation of gradients"
   ]
  },
  {
   "cell_type": "markdown",
   "metadata": {
    "id": "7Qx-TE3m6DVM"
   },
   "source": [
    "$e = \\underbrace{(a * b)}_\\text{u} + \\underbrace{c * \\underbrace{log(d)}_\\text{w}}_\\text{v}$"
   ]
  },
  {
   "cell_type": "code",
   "execution_count": 21,
   "metadata": {
    "colab": {
     "base_uri": "https://localhost:8080/",
     "height": 368
    },
    "id": "Dy4XfjKCyPDI",
    "outputId": "a0572b1d-357c-404a-aa78-4779f15345e7"
   },
   "outputs": [
    {
     "name": "stdout",
     "output_type": "stream",
     "text": [
      "digraph G {\n",
      "\te\n",
      "\tu\n",
      "\tv\n",
      "\tw\n",
      "\ta [color=transparent]\n",
      "\tb [color=transparent]\n",
      "\tc [color=transparent]\n",
      "\td [color=transparent]\n",
      "\te -> u [dir=back]\n",
      "\te -> v [dir=back]\n",
      "\tv -> w [dir=back]\n",
      "\tv -> c [dir=back]\n",
      "\tu -> a [dir=back]\n",
      "\tu -> b [dir=back]\n",
      "\tw -> d [dir=back]\n",
      "}\n",
      "\n"
     ]
    },
    {
     "data": {
      "image/svg+xml": [
       "<?xml version=\"1.0\" encoding=\"UTF-8\" standalone=\"no\"?>\n",
       "<!DOCTYPE svg PUBLIC \"-//W3C//DTD SVG 1.1//EN\"\n",
       " \"http://www.w3.org/Graphics/SVG/1.1/DTD/svg11.dtd\">\n",
       "<!-- Generated by graphviz version 2.43.0 (0)\n",
       " -->\n",
       "<!-- Title: G Pages: 1 -->\n",
       "<svg width=\"278pt\" height=\"260pt\"\n",
       " viewBox=\"0.00 0.00 278.00 260.00\" xmlns=\"http://www.w3.org/2000/svg\" xmlns:xlink=\"http://www.w3.org/1999/xlink\">\n",
       "<g id=\"graph0\" class=\"graph\" transform=\"scale(1 1) rotate(0) translate(4 256)\">\n",
       "<title>G</title>\n",
       "<polygon fill=\"white\" stroke=\"transparent\" points=\"-4,4 -4,-256 274,-256 274,4 -4,4\"/>\n",
       "<!-- e -->\n",
       "<g id=\"node1\" class=\"node\">\n",
       "<title>e</title>\n",
       "<ellipse fill=\"none\" stroke=\"black\" cx=\"135\" cy=\"-234\" rx=\"27\" ry=\"18\"/>\n",
       "<text text-anchor=\"middle\" x=\"135\" y=\"-230.3\" font-family=\"Times,serif\" font-size=\"14.00\">e</text>\n",
       "</g>\n",
       "<!-- u -->\n",
       "<g id=\"node2\" class=\"node\">\n",
       "<title>u</title>\n",
       "<ellipse fill=\"none\" stroke=\"black\" cx=\"99\" cy=\"-162\" rx=\"27\" ry=\"18\"/>\n",
       "<text text-anchor=\"middle\" x=\"99\" y=\"-158.3\" font-family=\"Times,serif\" font-size=\"14.00\">u</text>\n",
       "</g>\n",
       "<!-- e&#45;&gt;u -->\n",
       "<g id=\"edge1\" class=\"edge\">\n",
       "<title>e&#45;&gt;u</title>\n",
       "<path fill=\"none\" stroke=\"black\" d=\"M121.99,-207.7C117.09,-198.18 111.66,-187.61 107.3,-179.15\"/>\n",
       "<polygon fill=\"black\" stroke=\"black\" points=\"118.96,-209.47 126.65,-216.76 125.19,-206.27 118.96,-209.47\"/>\n",
       "</g>\n",
       "<!-- v -->\n",
       "<g id=\"node3\" class=\"node\">\n",
       "<title>v</title>\n",
       "<ellipse fill=\"none\" stroke=\"black\" cx=\"171\" cy=\"-162\" rx=\"27\" ry=\"18\"/>\n",
       "<text text-anchor=\"middle\" x=\"171\" y=\"-158.3\" font-family=\"Times,serif\" font-size=\"14.00\">v</text>\n",
       "</g>\n",
       "<!-- e&#45;&gt;v -->\n",
       "<g id=\"edge2\" class=\"edge\">\n",
       "<title>e&#45;&gt;v</title>\n",
       "<path fill=\"none\" stroke=\"black\" d=\"M148.01,-207.7C152.91,-198.18 158.34,-187.61 162.7,-179.15\"/>\n",
       "<polygon fill=\"black\" stroke=\"black\" points=\"144.81,-206.27 143.35,-216.76 151.04,-209.47 144.81,-206.27\"/>\n",
       "</g>\n",
       "<!-- a -->\n",
       "<g id=\"node5\" class=\"node\">\n",
       "<title>a</title>\n",
       "<ellipse fill=\"none\" stroke=\"transparent\" cx=\"27\" cy=\"-90\" rx=\"27\" ry=\"18\"/>\n",
       "<text text-anchor=\"middle\" x=\"27\" y=\"-86.3\" font-family=\"Times,serif\" font-size=\"14.00\">a</text>\n",
       "</g>\n",
       "<!-- u&#45;&gt;a -->\n",
       "<g id=\"edge5\" class=\"edge\">\n",
       "<title>u&#45;&gt;a</title>\n",
       "<path fill=\"none\" stroke=\"black\" d=\"M76.96,-139.57C65.55,-128.48 51.93,-115.24 41.8,-105.38\"/>\n",
       "<polygon fill=\"black\" stroke=\"black\" points=\"74.82,-142.37 84.43,-146.83 79.7,-137.35 74.82,-142.37\"/>\n",
       "</g>\n",
       "<!-- b -->\n",
       "<g id=\"node6\" class=\"node\">\n",
       "<title>b</title>\n",
       "<ellipse fill=\"none\" stroke=\"transparent\" cx=\"99\" cy=\"-90\" rx=\"27\" ry=\"18\"/>\n",
       "<text text-anchor=\"middle\" x=\"99\" y=\"-86.3\" font-family=\"Times,serif\" font-size=\"14.00\">b</text>\n",
       "</g>\n",
       "<!-- u&#45;&gt;b -->\n",
       "<g id=\"edge6\" class=\"edge\">\n",
       "<title>u&#45;&gt;b</title>\n",
       "<path fill=\"none\" stroke=\"black\" d=\"M99,-133.67C99,-125.05 99,-115.79 99,-108.1\"/>\n",
       "<polygon fill=\"black\" stroke=\"black\" points=\"95.5,-133.7 99,-143.7 102.5,-133.7 95.5,-133.7\"/>\n",
       "</g>\n",
       "<!-- w -->\n",
       "<g id=\"node4\" class=\"node\">\n",
       "<title>w</title>\n",
       "<ellipse fill=\"none\" stroke=\"black\" cx=\"171\" cy=\"-90\" rx=\"27\" ry=\"18\"/>\n",
       "<text text-anchor=\"middle\" x=\"171\" y=\"-86.3\" font-family=\"Times,serif\" font-size=\"14.00\">w</text>\n",
       "</g>\n",
       "<!-- v&#45;&gt;w -->\n",
       "<g id=\"edge3\" class=\"edge\">\n",
       "<title>v&#45;&gt;w</title>\n",
       "<path fill=\"none\" stroke=\"black\" d=\"M171,-133.67C171,-125.05 171,-115.79 171,-108.1\"/>\n",
       "<polygon fill=\"black\" stroke=\"black\" points=\"167.5,-133.7 171,-143.7 174.5,-133.7 167.5,-133.7\"/>\n",
       "</g>\n",
       "<!-- c -->\n",
       "<g id=\"node7\" class=\"node\">\n",
       "<title>c</title>\n",
       "<ellipse fill=\"none\" stroke=\"transparent\" cx=\"243\" cy=\"-90\" rx=\"27\" ry=\"18\"/>\n",
       "<text text-anchor=\"middle\" x=\"243\" y=\"-86.3\" font-family=\"Times,serif\" font-size=\"14.00\">c</text>\n",
       "</g>\n",
       "<!-- v&#45;&gt;c -->\n",
       "<g id=\"edge4\" class=\"edge\">\n",
       "<title>v&#45;&gt;c</title>\n",
       "<path fill=\"none\" stroke=\"black\" d=\"M193.04,-139.57C204.45,-128.48 218.07,-115.24 228.2,-105.38\"/>\n",
       "<polygon fill=\"black\" stroke=\"black\" points=\"190.3,-137.35 185.57,-146.83 195.18,-142.37 190.3,-137.35\"/>\n",
       "</g>\n",
       "<!-- d -->\n",
       "<g id=\"node8\" class=\"node\">\n",
       "<title>d</title>\n",
       "<ellipse fill=\"none\" stroke=\"transparent\" cx=\"171\" cy=\"-18\" rx=\"27\" ry=\"18\"/>\n",
       "<text text-anchor=\"middle\" x=\"171\" y=\"-14.3\" font-family=\"Times,serif\" font-size=\"14.00\">d</text>\n",
       "</g>\n",
       "<!-- w&#45;&gt;d -->\n",
       "<g id=\"edge7\" class=\"edge\">\n",
       "<title>w&#45;&gt;d</title>\n",
       "<path fill=\"none\" stroke=\"black\" d=\"M171,-61.67C171,-53.05 171,-43.79 171,-36.1\"/>\n",
       "<polygon fill=\"black\" stroke=\"black\" points=\"167.5,-61.7 171,-71.7 174.5,-61.7 167.5,-61.7\"/>\n",
       "</g>\n",
       "</g>\n",
       "</svg>\n"
      ],
      "text/plain": [
       "<graphviz.graphs.Digraph at 0x7fe8210c6560>"
      ]
     },
     "execution_count": 21,
     "metadata": {},
     "output_type": "execute_result"
    }
   ],
   "source": [
    "import graphviz #install graphviz, python-graphviz\n",
    "g = graphviz.Digraph('G', filename='hello.gv')\n",
    "g.node('e')\n",
    "g.node('u')\n",
    "g.node('v')\n",
    "g.node('w')\n",
    "g.node('a', color='transparent')\n",
    "g.node('b', color='transparent')\n",
    "g.node('c', color='transparent')\n",
    "g.node('d', color='transparent')\n",
    "g.edge('e', 'u', dir='back')\n",
    "g.edge('e', 'v', dir='back')\n",
    "g.edge('v', 'w', dir='back')\n",
    "g.edge('v', 'c', dir='back')\n",
    "g.edge('u', 'a', dir='back')\n",
    "g.edge('u', 'b', dir='back')\n",
    "g.edge('w', 'd', dir='back')\n",
    "print(g.source)\n",
    "g"
   ]
  },
  {
   "cell_type": "code",
   "execution_count": 22,
   "metadata": {
    "colab": {
     "base_uri": "https://localhost:8080/",
     "height": 439
    },
    "id": "IkGKqCi_FMFA",
    "outputId": "5b0b87a4-85df-478f-cc74-6e2b79798f34"
   },
   "outputs": [
    {
     "data": {
      "image/svg+xml": [
       "<?xml version=\"1.0\" encoding=\"UTF-8\" standalone=\"no\"?>\n",
       "<!DOCTYPE svg PUBLIC \"-//W3C//DTD SVG 1.1//EN\"\n",
       " \"http://www.w3.org/Graphics/SVG/1.1/DTD/svg11.dtd\">\n",
       "<!-- Generated by graphviz version 2.43.0 (0)\n",
       " -->\n",
       "<!-- Title: G Pages: 1 -->\n",
       "<svg width=\"433pt\" height=\"313pt\"\n",
       " viewBox=\"0.00 0.00 432.84 313.22\" xmlns=\"http://www.w3.org/2000/svg\" xmlns:xlink=\"http://www.w3.org/1999/xlink\">\n",
       "<g id=\"graph0\" class=\"graph\" transform=\"scale(1 1) rotate(0) translate(4 309.22)\">\n",
       "<title>G</title>\n",
       "<polygon fill=\"white\" stroke=\"transparent\" points=\"-4,4 -4,-309.22 428.84,-309.22 428.84,4 -4,4\"/>\n",
       "<!-- e\n",
       "f(e) = u+v -->\n",
       "<g id=\"node1\" class=\"node\">\n",
       "<title>e\n",
       "f(e) = u+v</title>\n",
       "<ellipse fill=\"none\" stroke=\"black\" cx=\"192.75\" cy=\"-278.35\" rx=\"64.19\" ry=\"26.74\"/>\n",
       "<text text-anchor=\"middle\" x=\"192.75\" y=\"-282.15\" font-family=\"Times,serif\" font-size=\"14.00\">e</text>\n",
       "<text text-anchor=\"middle\" x=\"192.75\" y=\"-267.15\" font-family=\"Times,serif\" font-size=\"14.00\">f(e) = u+v</text>\n",
       "</g>\n",
       "<!-- u\n",
       "f(u) = a*b -->\n",
       "<g id=\"node2\" class=\"node\">\n",
       "<title>u\n",
       "f(u) = a*b</title>\n",
       "<ellipse fill=\"none\" stroke=\"black\" cx=\"122.75\" cy=\"-188.61\" rx=\"60.62\" ry=\"26.74\"/>\n",
       "<text text-anchor=\"middle\" x=\"122.75\" y=\"-192.41\" font-family=\"Times,serif\" font-size=\"14.00\">u</text>\n",
       "<text text-anchor=\"middle\" x=\"122.75\" y=\"-177.41\" font-family=\"Times,serif\" font-size=\"14.00\">f(u) = a*b</text>\n",
       "</g>\n",
       "<!-- e\n",
       "f(e) = u+v&#45;&gt;u\n",
       "f(u) = a*b -->\n",
       "<g id=\"edge1\" class=\"edge\">\n",
       "<title>e\n",
       "f(e) = u+v&#45;&gt;u\n",
       "f(u) = a*b</title>\n",
       "<path fill=\"none\" stroke=\"black\" d=\"M166.63,-244.61C158.61,-234.56 149.93,-223.69 142.43,-214.28\"/>\n",
       "<polygon fill=\"black\" stroke=\"black\" points=\"163.9,-246.81 172.87,-252.44 169.37,-242.44 163.9,-246.81\"/>\n",
       "</g>\n",
       "<!-- v\n",
       "f(v) = w*c -->\n",
       "<g id=\"node3\" class=\"node\">\n",
       "<title>v\n",
       "f(v) = w*c</title>\n",
       "<ellipse fill=\"none\" stroke=\"black\" cx=\"263.75\" cy=\"-188.61\" rx=\"62.45\" ry=\"26.74\"/>\n",
       "<text text-anchor=\"middle\" x=\"263.75\" y=\"-192.41\" font-family=\"Times,serif\" font-size=\"14.00\">v</text>\n",
       "<text text-anchor=\"middle\" x=\"263.75\" y=\"-177.41\" font-family=\"Times,serif\" font-size=\"14.00\">f(v) = w*c</text>\n",
       "</g>\n",
       "<!-- e\n",
       "f(e) = u+v&#45;&gt;v\n",
       "f(v) = w*c -->\n",
       "<g id=\"edge2\" class=\"edge\">\n",
       "<title>e\n",
       "f(e) = u+v&#45;&gt;v\n",
       "f(v) = w*c</title>\n",
       "<path fill=\"none\" stroke=\"black\" d=\"M219.24,-244.61C227.37,-234.56 236.17,-223.69 243.79,-214.28\"/>\n",
       "<polygon fill=\"black\" stroke=\"black\" points=\"216.47,-242.47 212.9,-252.44 221.91,-246.87 216.47,-242.47\"/>\n",
       "</g>\n",
       "<!-- a = 2 -->\n",
       "<g id=\"node5\" class=\"node\">\n",
       "<title>a = 2</title>\n",
       "<ellipse fill=\"none\" stroke=\"transparent\" cx=\"35.75\" cy=\"-98.87\" rx=\"36\" ry=\"18\"/>\n",
       "<text text-anchor=\"middle\" x=\"35.75\" y=\"-95.17\" font-family=\"Times,serif\" font-size=\"14.00\">a = 2</text>\n",
       "</g>\n",
       "<!-- u\n",
       "f(u) = a*b&#45;&gt;a = 2 -->\n",
       "<g id=\"edge5\" class=\"edge\">\n",
       "<title>u\n",
       "f(u) = a*b&#45;&gt;a = 2</title>\n",
       "<path fill=\"none\" stroke=\"black\" d=\"M91.92,-156.52C78.05,-142.53 62.29,-126.64 51,-115.25\"/>\n",
       "<polygon fill=\"black\" stroke=\"black\" points=\"89.45,-159 98.97,-163.63 94.42,-154.07 89.45,-159\"/>\n",
       "</g>\n",
       "<!-- b = 3 -->\n",
       "<g id=\"node6\" class=\"node\">\n",
       "<title>b = 3</title>\n",
       "<ellipse fill=\"none\" stroke=\"transparent\" cx=\"125.75\" cy=\"-98.87\" rx=\"36.29\" ry=\"18\"/>\n",
       "<text text-anchor=\"middle\" x=\"125.75\" y=\"-95.17\" font-family=\"Times,serif\" font-size=\"14.00\">b = 3</text>\n",
       "</g>\n",
       "<!-- u\n",
       "f(u) = a*b&#45;&gt;b = 3 -->\n",
       "<g id=\"edge6\" class=\"edge\">\n",
       "<title>u\n",
       "f(u) = a*b&#45;&gt;b = 3</title>\n",
       "<path fill=\"none\" stroke=\"black\" d=\"M123.99,-151.17C124.4,-139.34 124.83,-126.77 125.16,-117.03\"/>\n",
       "<polygon fill=\"black\" stroke=\"black\" points=\"120.49,-151.17 123.65,-161.29 127.49,-151.41 120.49,-151.17\"/>\n",
       "</g>\n",
       "<!-- w\n",
       "f(w) = log(d) -->\n",
       "<g id=\"node4\" class=\"node\">\n",
       "<title>w\n",
       "f(w) = log(d)</title>\n",
       "<ellipse fill=\"none\" stroke=\"black\" cx=\"260.75\" cy=\"-98.87\" rx=\"75.82\" ry=\"26.74\"/>\n",
       "<text text-anchor=\"middle\" x=\"260.75\" y=\"-102.67\" font-family=\"Times,serif\" font-size=\"14.00\">w</text>\n",
       "<text text-anchor=\"middle\" x=\"260.75\" y=\"-87.67\" font-family=\"Times,serif\" font-size=\"14.00\">f(w) = log(d)</text>\n",
       "</g>\n",
       "<!-- v\n",
       "f(v) = w*c&#45;&gt;w\n",
       "f(w) = log(d) -->\n",
       "<g id=\"edge3\" class=\"edge\">\n",
       "<title>v\n",
       "f(v) = w*c&#45;&gt;w\n",
       "f(w) = log(d)</title>\n",
       "<path fill=\"none\" stroke=\"black\" d=\"M262.5,-151.2C262.21,-142.7 261.91,-133.82 261.64,-125.87\"/>\n",
       "<polygon fill=\"black\" stroke=\"black\" points=\"259.01,-151.41 262.85,-161.29 266,-151.17 259.01,-151.41\"/>\n",
       "</g>\n",
       "<!-- c = 5 -->\n",
       "<g id=\"node7\" class=\"node\">\n",
       "<title>c = 5</title>\n",
       "<ellipse fill=\"none\" stroke=\"transparent\" cx=\"389.75\" cy=\"-98.87\" rx=\"35.19\" ry=\"18\"/>\n",
       "<text text-anchor=\"middle\" x=\"389.75\" y=\"-95.17\" font-family=\"Times,serif\" font-size=\"14.00\">c = 5</text>\n",
       "</g>\n",
       "<!-- v\n",
       "f(v) = w*c&#45;&gt;c = 5 -->\n",
       "<g id=\"edge4\" class=\"edge\">\n",
       "<title>v\n",
       "f(v) = w*c&#45;&gt;c = 5</title>\n",
       "<path fill=\"none\" stroke=\"black\" d=\"M304.03,-159.56C325.98,-144.28 352.17,-126.03 369.78,-113.77\"/>\n",
       "<polygon fill=\"black\" stroke=\"black\" points=\"301.75,-156.88 295.54,-165.47 305.75,-162.63 301.75,-156.88\"/>\n",
       "</g>\n",
       "<!-- d = 10 -->\n",
       "<g id=\"node8\" class=\"node\">\n",
       "<title>d = 10</title>\n",
       "<ellipse fill=\"none\" stroke=\"transparent\" cx=\"260.75\" cy=\"-18\" rx=\"42.49\" ry=\"18\"/>\n",
       "<text text-anchor=\"middle\" x=\"260.75\" y=\"-14.3\" font-family=\"Times,serif\" font-size=\"14.00\">d = 10</text>\n",
       "</g>\n",
       "<!-- w\n",
       "f(w) = log(d)&#45;&gt;d = 10 -->\n",
       "<g id=\"edge7\" class=\"edge\">\n",
       "<title>w\n",
       "f(w) = log(d)&#45;&gt;d = 10</title>\n",
       "<path fill=\"none\" stroke=\"black\" d=\"M260.75,-61.47C260.75,-52.67 260.75,-43.66 260.75,-36.22\"/>\n",
       "<polygon fill=\"black\" stroke=\"black\" points=\"257.25,-61.61 260.75,-71.61 264.25,-61.61 257.25,-61.61\"/>\n",
       "</g>\n",
       "</g>\n",
       "</svg>\n"
      ],
      "text/plain": [
       "<graphviz.graphs.Digraph at 0x7fe8210c6fe0>"
      ]
     },
     "execution_count": 22,
     "metadata": {},
     "output_type": "execute_result"
    }
   ],
   "source": [
    "g = graphviz.Digraph('G', filename='hello.gv')\n",
    "g.node('e\\nf(e) = u+v')\n",
    "g.node('u\\nf(u) = a*b')\n",
    "g.node('v\\nf(v) = w*c')\n",
    "g.node('w\\nf(w) = log(d)')\n",
    "g.node('a = 2', color='transparent')\n",
    "g.node('b = 3', color='transparent')\n",
    "g.node('c = 5', color='transparent')\n",
    "g.node('d = 10', color='transparent')\n",
    "g.edge('e\\nf(e) = u+v', 'u\\nf(u) = a*b', dir='back')\n",
    "g.edge('e\\nf(e) = u+v', 'v\\nf(v) = w*c', dir='back')\n",
    "g.edge('v\\nf(v) = w*c', 'w\\nf(w) = log(d)', dir='back')\n",
    "g.edge('v\\nf(v) = w*c', 'c = 5', dir='back')\n",
    "g.edge('u\\nf(u) = a*b', 'a = 2', dir='back')\n",
    "g.edge('u\\nf(u) = a*b', 'b = 3', dir='back')\n",
    "g.edge('w\\nf(w) = log(d)', 'd = 10', dir='back')\n",
    "g"
   ]
  },
  {
   "cell_type": "markdown",
   "metadata": {
    "id": "qatarcq3_Lir"
   },
   "source": [
    "In case of forward-pass (of backpropagation) we have to replace the variables in the equation:\n",
    "\n",
    "$e = \\underbrace{(a * b)}_\\text{u} + \\underbrace{c * \\underbrace{log(d)}_\\text{w}}_\\text{v} = (2 * 3) + (5 * \\underbrace{log(10)}_\\text{1}) = 11$"
   ]
  },
  {
   "cell_type": "markdown",
   "metadata": {
    "id": "WimzbvD2DSHr"
   },
   "source": [
    "To calculate the backward-pass simply let `torch` do the math and calculate the derivative of **`e`** with respect to the inputs leading to **`e`**"
   ]
  },
  {
   "cell_type": "markdown",
   "metadata": {
    "id": "EFgHAME2xJf5"
   },
   "source": [
    "$\\frac{\\partial e}{\\partial a} = ?$ \\\\\n",
    "$\\frac{\\partial e}{\\partial b} = ?$ \\\\\n",
    "$\\frac{\\partial e}{\\partial c} = ?$ \\\\\n",
    "$\\frac{\\partial e}{\\partial d} = ?$"
   ]
  },
  {
   "cell_type": "code",
   "execution_count": 23,
   "metadata": {
    "id": "YY_-zKECAgfp"
   },
   "outputs": [],
   "source": [
    "a = torch.tensor(2., requires_grad=True)\n",
    "b = torch.tensor(3., requires_grad=True)\n",
    "c = torch.tensor(5., requires_grad=True)\n",
    "d = torch.tensor(10., requires_grad=True)\n",
    "\n",
    "\n",
    "# e = (a * b) + c * torch.log10(d)\n",
    "\n",
    "u = a*b\n",
    "w = torch.log10(d)\n",
    "v = c * w\n",
    "\n",
    "e = u + v\n",
    "e\n",
    "u.retain_grad() \n",
    "w.retain_grad() \n",
    "v.retain_grad() \n",
    "\n",
    "e.retain_grad() "
   ]
  },
  {
   "cell_type": "code",
   "execution_count": 24,
   "metadata": {
    "colab": {
     "base_uri": "https://localhost:8080/"
    },
    "id": "hmPMZEWzCEFW",
    "outputId": "0d525b4d-8b87-494d-a221-739efcdaaa1e"
   },
   "outputs": [
    {
     "name": "stdout",
     "output_type": "stream",
     "text": [
      "a:\n",
      "\t is_leaf: True \n",
      "\t grad_fn: None \n",
      "\t grad: 3.0\n",
      "b:\n",
      "\t is_leaf: True \n",
      "\t grad_fn: None \n",
      "\t grad: 2.0\n",
      "c:\n",
      "\t is_leaf: True \n",
      "\t grad_fn: None \n",
      "\t grad: 1.0\n",
      "d:\n",
      "\t is_leaf: True \n",
      "\t grad_fn: None \n",
      "\t grad: 0.21714723110198975\n",
      "\n",
      "u:\n",
      "\t is_leaf: False \n",
      "\t grad_fn: <MulBackward0 object at 0x7fe8e41adea0> \n",
      "\t grad: 1.0\n",
      "w:\n",
      "\t is_leaf: False \n",
      "\t grad_fn: <Log10Backward0 object at 0x7fe8e41afb80> \n",
      "\t grad: 5.0\n",
      "v:\n",
      "\t is_leaf: False \n",
      "\t grad_fn: <MulBackward0 object at 0x7fe8e41adea0> \n",
      "\t grad: 1.0\n",
      "\n",
      "e:\n",
      "\t is_leaf: False \n",
      "\t grad_fn: <AddBackward0 object at 0x7fe8e41adea0> \n",
      "\t grad: 1.0\n"
     ]
    }
   ],
   "source": [
    "e.backward()\n",
    "print(f\"a:\\n\\t is_leaf: {a.is_leaf} \\n\\t grad_fn: {a.grad_fn} \\n\\t grad: {a.grad}\")\n",
    "print(f\"b:\\n\\t is_leaf: {b.is_leaf} \\n\\t grad_fn: {b.grad_fn} \\n\\t grad: {b.grad}\")\n",
    "print(f\"c:\\n\\t is_leaf: {c.is_leaf} \\n\\t grad_fn: {c.grad_fn} \\n\\t grad: {c.grad}\")\n",
    "print(f\"d:\\n\\t is_leaf: {d.is_leaf} \\n\\t grad_fn: {d.grad_fn} \\n\\t grad: {d.grad}\")\n",
    "print()\n",
    "print(f\"u:\\n\\t is_leaf: {u.is_leaf} \\n\\t grad_fn: {u.grad_fn} \\n\\t grad: {u.grad}\")\n",
    "print(f\"w:\\n\\t is_leaf: {w.is_leaf} \\n\\t grad_fn: {w.grad_fn} \\n\\t grad: {w.grad}\")\n",
    "print(f\"v:\\n\\t is_leaf: {v.is_leaf} \\n\\t grad_fn: {v.grad_fn} \\n\\t grad: {v.grad}\")\n",
    "print()\n",
    "print(f\"e:\\n\\t is_leaf: {e.is_leaf} \\n\\t grad_fn: {e.grad_fn} \\n\\t grad: {e.grad}\")"
   ]
  },
  {
   "cell_type": "code",
   "execution_count": 24,
   "metadata": {
    "id": "719OsZBxaJY6"
   },
   "outputs": [
    {
     "data": {
      "text/plain": [
       "'\\nTASK:\\nCalculate the partial derivatives of `u`, `w` and `v` variables\\n'"
      ]
     },
     "execution_count": 24,
     "metadata": {},
     "output_type": "execute_result"
    }
   ],
   "source": [
    "\"\"\"\n",
    "TASK:\n",
    "Calculate the partial derivatives of `u`, `w` and `v` variables\n",
    "\"\"\""
   ]
  },
  {
   "cell_type": "code",
   "execution_count": 25,
   "metadata": {
    "colab": {
     "base_uri": "https://localhost:8080/",
     "height": 284
    },
    "id": "NsZI1SBuV0C5",
    "outputId": "7b98648b-3f40-4f89-f8c4-a1d585d9bd07"
   },
   "outputs": [
    {
     "data": {
      "text/latex": [
       "$\\displaystyle \\frac{\\partial e}{\\partial a} = 3.0$"
      ],
      "text/plain": [
       "<IPython.core.display.Math object>"
      ]
     },
     "metadata": {},
     "output_type": "display_data"
    },
    {
     "name": "stdout",
     "output_type": "stream",
     "text": [
      "\n"
     ]
    },
    {
     "data": {
      "text/latex": [
       "$\\displaystyle \\frac{\\partial e}{\\partial b} = 2.0$"
      ],
      "text/plain": [
       "<IPython.core.display.Math object>"
      ]
     },
     "metadata": {},
     "output_type": "display_data"
    },
    {
     "name": "stdout",
     "output_type": "stream",
     "text": [
      "\n"
     ]
    },
    {
     "data": {
      "text/latex": [
       "$\\displaystyle \\frac{\\partial e}{\\partial c} = 1.0$"
      ],
      "text/plain": [
       "<IPython.core.display.Math object>"
      ]
     },
     "metadata": {},
     "output_type": "display_data"
    },
    {
     "name": "stdout",
     "output_type": "stream",
     "text": [
      "\n"
     ]
    },
    {
     "data": {
      "text/latex": [
       "$\\displaystyle \\frac{\\partial e}{\\partial d} = 0.21714723110198975$"
      ],
      "text/plain": [
       "<IPython.core.display.Math object>"
      ]
     },
     "metadata": {},
     "output_type": "display_data"
    },
    {
     "name": "stdout",
     "output_type": "stream",
     "text": [
      "\n",
      "\n"
     ]
    },
    {
     "data": {
      "text/latex": [
       "$\\displaystyle \\frac{\\partial e}{\\partial u} = 1.0$"
      ],
      "text/plain": [
       "<IPython.core.display.Math object>"
      ]
     },
     "metadata": {},
     "output_type": "display_data"
    },
    {
     "name": "stdout",
     "output_type": "stream",
     "text": [
      "\n"
     ]
    },
    {
     "data": {
      "text/latex": [
       "$\\displaystyle \\frac{\\partial e}{\\partial w} = 5.0$"
      ],
      "text/plain": [
       "<IPython.core.display.Math object>"
      ]
     },
     "metadata": {},
     "output_type": "display_data"
    },
    {
     "name": "stdout",
     "output_type": "stream",
     "text": [
      "\n"
     ]
    },
    {
     "data": {
      "text/latex": [
       "$\\displaystyle \\frac{\\partial e}{\\partial v} = 1.0$"
      ],
      "text/plain": [
       "<IPython.core.display.Math object>"
      ]
     },
     "metadata": {},
     "output_type": "display_data"
    }
   ],
   "source": [
    "from IPython.display import display, Math\n",
    "display(Math(fr'\\frac{{\\partial e}}{{\\partial a}} = {a.grad.item()}'))\n",
    "print()\n",
    "display(Math(fr'\\frac{{\\partial e}}{{\\partial b}} = {b.grad.item()}'))\n",
    "print()\n",
    "display(Math(fr'\\frac{{\\partial e}}{{\\partial c}} = {c.grad.item()}'))\n",
    "print()\n",
    "display(Math(fr'\\frac{{\\partial e}}{{\\partial d}} = {d.grad.item()}'))\n",
    "print()\n",
    "print()\n",
    "display(Math(fr'\\frac{{\\partial e}}{{\\partial u}} = {u.grad.item()}'))\n",
    "print()\n",
    "display(Math(fr'\\frac{{\\partial e}}{{\\partial w}} = {w.grad.item()}'))\n",
    "print()\n",
    "display(Math(fr'\\frac{{\\partial e}}{{\\partial v}} = {v.grad.item()}'))"
   ]
  },
  {
   "cell_type": "code",
   "execution_count": 26,
   "metadata": {
    "colab": {
     "base_uri": "https://localhost:8080/"
    },
    "id": "iVfQlTu7CoIJ",
    "outputId": "aa58a895-30a9-4661-f83a-a416744c4931"
   },
   "outputs": [
    {
     "data": {
      "text/plain": [
       "tensor(33., grad_fn=<AddBackward0>)"
      ]
     },
     "execution_count": 26,
     "metadata": {},
     "output_type": "execute_result"
    }
   ],
   "source": [
    "x1 = torch.tensor(2., requires_grad=True)\n",
    "x2 = torch.tensor(5., requires_grad=True)\n",
    "\n",
    "y_hat = x1 ** 3 + x2 ** 2\n",
    "y_hat"
   ]
  },
  {
   "cell_type": "code",
   "execution_count": 27,
   "metadata": {
    "colab": {
     "base_uri": "https://localhost:8080/"
    },
    "id": "Lo3BuPU0C77H",
    "outputId": "954ff526-51e6-4343-9267-1b431b0fdc6e"
   },
   "outputs": [
    {
     "name": "stdout",
     "output_type": "stream",
     "text": [
      "x1: 12.0  -- 3*(x1^2) = 3 * 4\n",
      "x2: 10.0  -- 2*(x2^1) = 2 * 5\n"
     ]
    }
   ],
   "source": [
    "y_hat.backward()\n",
    "print(f'x1: {x1.grad}  -- 3*(x1^2) = 3 * 4')\n",
    "print(f'x2: {x2.grad}  -- 2*(x2^1) = 2 * 5')"
   ]
  },
  {
   "cell_type": "markdown",
   "metadata": {
    "id": "yhljXwUy-vGN"
   },
   "source": [
    "# Loading datasets via **Pandas**\n",
    "\n",
    "In this example, we will look at a basic data processing and visualization using the Panda library (pip/conda install pandas). \n",
    "\n",
    "`Car_sales.csv` can be downloaded from Canvas \\\\\n",
    "official Kaggle source: https://www.kaggle.com/abhi827/car-sales/data?select=Car_sales.csv"
   ]
  },
  {
   "cell_type": "markdown",
   "metadata": {},
   "source": [
    "Read the data with default parameter:\n",
    "**pd.read_csv(\"Car_sales.csv\")** - https://pandas.pydata.org/docs/reference/api/pandas.read_csv.html\n",
    "\n",
    "Most common parameters:\n",
    "- header and name\n",
    "    - Example:\n",
    "    Import dataset where \\\\\n",
    "    **`header` = `None`** (header row does not exist) **or `0`** (for replaceing) \\\\\n",
    "    **`names` = `list_of_strings`** (will be the new header)\n",
    "- separator character\n",
    "    - Example:\n",
    "    Import dataset when the separator is `','`  \\\\\n",
    "    **`sep` = `','`** \n",
    "- missing values\n",
    "    - Example:\n",
    "    Import dataset when missing values are noted as empty space\\\\\n",
    "    **`na_values` = `''`** \n"
   ]
  },
  {
   "cell_type": "code",
   "execution_count": 28,
   "metadata": {
    "colab": {
     "base_uri": "https://localhost:8080/",
     "height": 270
    },
    "id": "H2hh9YgLB8Ds",
    "outputId": "538b12e6-9a26-4682-f124-98f28c511dd3"
   },
   "outputs": [
    {
     "data": {
      "text/html": [
       "<div>\n",
       "<style scoped>\n",
       "    .dataframe tbody tr th:only-of-type {\n",
       "        vertical-align: middle;\n",
       "    }\n",
       "\n",
       "    .dataframe tbody tr th {\n",
       "        vertical-align: top;\n",
       "    }\n",
       "\n",
       "    .dataframe thead th {\n",
       "        text-align: right;\n",
       "    }\n",
       "</style>\n",
       "<table border=\"1\" class=\"dataframe\">\n",
       "  <thead>\n",
       "    <tr style=\"text-align: right;\">\n",
       "      <th></th>\n",
       "      <th>Manufacturer</th>\n",
       "      <th>Model</th>\n",
       "      <th>Sales_in_thousands</th>\n",
       "      <th>4__year_resale_value</th>\n",
       "      <th>Vehicle_type</th>\n",
       "      <th>Price_in_thousands</th>\n",
       "      <th>Engine_size</th>\n",
       "      <th>Horsepower</th>\n",
       "      <th>Wheelbase</th>\n",
       "      <th>Width</th>\n",
       "      <th>Length</th>\n",
       "      <th>Curb_weight</th>\n",
       "      <th>Fuel_capacity</th>\n",
       "      <th>Fuel_efficiency</th>\n",
       "      <th>Latest_Launch</th>\n",
       "      <th>Power_perf_factor</th>\n",
       "    </tr>\n",
       "  </thead>\n",
       "  <tbody>\n",
       "    <tr>\n",
       "      <th>0</th>\n",
       "      <td>Acura</td>\n",
       "      <td>Integra</td>\n",
       "      <td>16.919</td>\n",
       "      <td>16.360</td>\n",
       "      <td>Passenger</td>\n",
       "      <td>21.50</td>\n",
       "      <td>1.8</td>\n",
       "      <td>140.0</td>\n",
       "      <td>101.2</td>\n",
       "      <td>67.3</td>\n",
       "      <td>172.4</td>\n",
       "      <td>2.639</td>\n",
       "      <td>13.2</td>\n",
       "      <td>28.0</td>\n",
       "      <td>2/2/2012</td>\n",
       "      <td>58.280150</td>\n",
       "    </tr>\n",
       "    <tr>\n",
       "      <th>1</th>\n",
       "      <td>Acura</td>\n",
       "      <td>TL</td>\n",
       "      <td>39.384</td>\n",
       "      <td>19.875</td>\n",
       "      <td>Passenger</td>\n",
       "      <td>28.40</td>\n",
       "      <td>3.2</td>\n",
       "      <td>225.0</td>\n",
       "      <td>108.1</td>\n",
       "      <td>70.3</td>\n",
       "      <td>192.9</td>\n",
       "      <td>3.517</td>\n",
       "      <td>17.2</td>\n",
       "      <td>25.0</td>\n",
       "      <td>6/3/2011</td>\n",
       "      <td>91.370778</td>\n",
       "    </tr>\n",
       "    <tr>\n",
       "      <th>2</th>\n",
       "      <td>Acura</td>\n",
       "      <td>CL</td>\n",
       "      <td>14.114</td>\n",
       "      <td>18.225</td>\n",
       "      <td>Passenger</td>\n",
       "      <td>NaN</td>\n",
       "      <td>3.2</td>\n",
       "      <td>225.0</td>\n",
       "      <td>106.9</td>\n",
       "      <td>70.6</td>\n",
       "      <td>192.0</td>\n",
       "      <td>3.470</td>\n",
       "      <td>17.2</td>\n",
       "      <td>26.0</td>\n",
       "      <td>1/4/2012</td>\n",
       "      <td>NaN</td>\n",
       "    </tr>\n",
       "    <tr>\n",
       "      <th>3</th>\n",
       "      <td>Acura</td>\n",
       "      <td>RL</td>\n",
       "      <td>8.588</td>\n",
       "      <td>29.725</td>\n",
       "      <td>Passenger</td>\n",
       "      <td>42.00</td>\n",
       "      <td>3.5</td>\n",
       "      <td>210.0</td>\n",
       "      <td>114.6</td>\n",
       "      <td>71.4</td>\n",
       "      <td>196.6</td>\n",
       "      <td>3.850</td>\n",
       "      <td>18.0</td>\n",
       "      <td>22.0</td>\n",
       "      <td>3/10/2011</td>\n",
       "      <td>91.389779</td>\n",
       "    </tr>\n",
       "    <tr>\n",
       "      <th>4</th>\n",
       "      <td>Audi</td>\n",
       "      <td>A4</td>\n",
       "      <td>20.397</td>\n",
       "      <td>22.255</td>\n",
       "      <td>Passenger</td>\n",
       "      <td>23.99</td>\n",
       "      <td>1.8</td>\n",
       "      <td>150.0</td>\n",
       "      <td>102.6</td>\n",
       "      <td>68.2</td>\n",
       "      <td>178.0</td>\n",
       "      <td>2.998</td>\n",
       "      <td>16.4</td>\n",
       "      <td>27.0</td>\n",
       "      <td>10/8/2011</td>\n",
       "      <td>62.777639</td>\n",
       "    </tr>\n",
       "    <tr>\n",
       "      <th>5</th>\n",
       "      <td>Audi</td>\n",
       "      <td>A6</td>\n",
       "      <td>18.780</td>\n",
       "      <td>23.555</td>\n",
       "      <td>Passenger</td>\n",
       "      <td>33.95</td>\n",
       "      <td>2.8</td>\n",
       "      <td>200.0</td>\n",
       "      <td>108.7</td>\n",
       "      <td>76.1</td>\n",
       "      <td>192.0</td>\n",
       "      <td>3.561</td>\n",
       "      <td>18.5</td>\n",
       "      <td>22.0</td>\n",
       "      <td>8/9/2011</td>\n",
       "      <td>84.565105</td>\n",
       "    </tr>\n",
       "  </tbody>\n",
       "</table>\n",
       "</div>"
      ],
      "text/plain": [
       "  Manufacturer    Model  Sales_in_thousands  4__year_resale_value  \\\n",
       "0        Acura  Integra              16.919                16.360   \n",
       "1        Acura       TL              39.384                19.875   \n",
       "2        Acura       CL              14.114                18.225   \n",
       "3        Acura       RL               8.588                29.725   \n",
       "4         Audi       A4              20.397                22.255   \n",
       "5         Audi       A6              18.780                23.555   \n",
       "\n",
       "  Vehicle_type  Price_in_thousands  Engine_size  Horsepower  Wheelbase  Width  \\\n",
       "0    Passenger               21.50          1.8       140.0      101.2   67.3   \n",
       "1    Passenger               28.40          3.2       225.0      108.1   70.3   \n",
       "2    Passenger                 NaN          3.2       225.0      106.9   70.6   \n",
       "3    Passenger               42.00          3.5       210.0      114.6   71.4   \n",
       "4    Passenger               23.99          1.8       150.0      102.6   68.2   \n",
       "5    Passenger               33.95          2.8       200.0      108.7   76.1   \n",
       "\n",
       "   Length  Curb_weight  Fuel_capacity  Fuel_efficiency Latest_Launch  \\\n",
       "0   172.4        2.639           13.2             28.0      2/2/2012   \n",
       "1   192.9        3.517           17.2             25.0      6/3/2011   \n",
       "2   192.0        3.470           17.2             26.0      1/4/2012   \n",
       "3   196.6        3.850           18.0             22.0     3/10/2011   \n",
       "4   178.0        2.998           16.4             27.0     10/8/2011   \n",
       "5   192.0        3.561           18.5             22.0      8/9/2011   \n",
       "\n",
       "   Power_perf_factor  \n",
       "0          58.280150  \n",
       "1          91.370778  \n",
       "2                NaN  \n",
       "3          91.389779  \n",
       "4          62.777639  \n",
       "5          84.565105  "
      ]
     },
     "execution_count": 28,
     "metadata": {},
     "output_type": "execute_result"
    }
   ],
   "source": [
    "import pandas as pd\n",
    "\n",
    "header_values = ['Manufacturer','Model','Sales_in_thousands','4__year_resale_value','Vehicle_type','Price_in_thousands','Engine_size','Horsepower','Wheelbase','Width','Length','Curb_weight','Fuel_capacity','Fuel_efficiency','Latest_Launch','Power_perf_factor']\n",
    "df= pd.read_csv(\"Car_sales.csv\", header=0, names=header_values, sep=',', na_values='')\n",
    "df.head(6)"
   ]
  },
  {
   "cell_type": "markdown",
   "metadata": {
    "id": "3p6rT5nTJWhB"
   },
   "source": [
    "## Visualisation and description\n",
    "\n",
    "Data overview:\n",
    "- **df.head()** - first 5 data\n",
    "- **df.tail()** - last 5 data\n",
    "- **df.describe()** - simple statistic\n",
    "- **df.info()** - df.shape, df.dtypes, df.isna(), memory\n",
    "    - df.shape - data size and heads\n",
    "    - df.dtypes - type of each coulomb\n",
    "    - df.isna().sum().sum() - number of NaN parameters\n",
    "- **df['Engine_size']** - specify a subset\n",
    "- **df['Engine_size'].value_counts** - count based on type"
   ]
  },
  {
   "cell_type": "code",
   "execution_count": 29,
   "metadata": {
    "colab": {
     "base_uri": "https://localhost:8080/",
     "height": 270
    },
    "id": "bGLnqzASI-xn",
    "outputId": "b89f954e-ec08-4d49-c8fe-c9e8f91f99c6"
   },
   "outputs": [
    {
     "name": "stdout",
     "output_type": "stream",
     "text": [
      "<class 'pandas.core.frame.DataFrame'>\n",
      "RangeIndex: 157 entries, 0 to 156\n",
      "Data columns (total 16 columns):\n",
      " #   Column                Non-Null Count  Dtype  \n",
      "---  ------                --------------  -----  \n",
      " 0   Manufacturer          157 non-null    object \n",
      " 1   Model                 157 non-null    object \n",
      " 2   Sales_in_thousands    157 non-null    float64\n",
      " 3   4__year_resale_value  121 non-null    float64\n",
      " 4   Vehicle_type          157 non-null    object \n",
      " 5   Price_in_thousands    155 non-null    float64\n",
      " 6   Engine_size           156 non-null    float64\n",
      " 7   Horsepower            156 non-null    float64\n",
      " 8   Wheelbase             156 non-null    float64\n",
      " 9   Width                 156 non-null    float64\n",
      " 10  Length                156 non-null    float64\n",
      " 11  Curb_weight           155 non-null    float64\n",
      " 12  Fuel_capacity         156 non-null    float64\n",
      " 13  Fuel_efficiency       154 non-null    float64\n",
      " 14  Latest_Launch         157 non-null    object \n",
      " 15  Power_perf_factor     155 non-null    float64\n",
      "dtypes: float64(12), object(4)\n",
      "memory usage: 19.8+ KB\n"
     ]
    }
   ],
   "source": [
    "df.info()"
   ]
  },
  {
   "cell_type": "code",
   "execution_count": 30,
   "metadata": {},
   "outputs": [
    {
     "data": {
      "text/html": [
       "<div>\n",
       "<style scoped>\n",
       "    .dataframe tbody tr th:only-of-type {\n",
       "        vertical-align: middle;\n",
       "    }\n",
       "\n",
       "    .dataframe tbody tr th {\n",
       "        vertical-align: top;\n",
       "    }\n",
       "\n",
       "    .dataframe thead th {\n",
       "        text-align: right;\n",
       "    }\n",
       "</style>\n",
       "<table border=\"1\" class=\"dataframe\">\n",
       "  <thead>\n",
       "    <tr style=\"text-align: right;\">\n",
       "      <th></th>\n",
       "      <th>Sales_in_thousands</th>\n",
       "      <th>4__year_resale_value</th>\n",
       "      <th>Price_in_thousands</th>\n",
       "      <th>Engine_size</th>\n",
       "      <th>Horsepower</th>\n",
       "      <th>Wheelbase</th>\n",
       "      <th>Width</th>\n",
       "      <th>Length</th>\n",
       "      <th>Curb_weight</th>\n",
       "      <th>Fuel_capacity</th>\n",
       "      <th>Fuel_efficiency</th>\n",
       "      <th>Power_perf_factor</th>\n",
       "    </tr>\n",
       "  </thead>\n",
       "  <tbody>\n",
       "    <tr>\n",
       "      <th>count</th>\n",
       "      <td>157.000000</td>\n",
       "      <td>121.000000</td>\n",
       "      <td>155.000000</td>\n",
       "      <td>156.000000</td>\n",
       "      <td>156.000000</td>\n",
       "      <td>156.000000</td>\n",
       "      <td>156.000000</td>\n",
       "      <td>156.000000</td>\n",
       "      <td>155.000000</td>\n",
       "      <td>156.000000</td>\n",
       "      <td>154.000000</td>\n",
       "      <td>155.000000</td>\n",
       "    </tr>\n",
       "    <tr>\n",
       "      <th>mean</th>\n",
       "      <td>52.998076</td>\n",
       "      <td>18.072975</td>\n",
       "      <td>27.390755</td>\n",
       "      <td>3.060897</td>\n",
       "      <td>185.948718</td>\n",
       "      <td>107.487179</td>\n",
       "      <td>71.150000</td>\n",
       "      <td>187.343590</td>\n",
       "      <td>3.378026</td>\n",
       "      <td>17.951923</td>\n",
       "      <td>23.844156</td>\n",
       "      <td>77.043591</td>\n",
       "    </tr>\n",
       "    <tr>\n",
       "      <th>std</th>\n",
       "      <td>68.029422</td>\n",
       "      <td>11.453384</td>\n",
       "      <td>14.351653</td>\n",
       "      <td>1.044653</td>\n",
       "      <td>56.700321</td>\n",
       "      <td>7.641303</td>\n",
       "      <td>3.451872</td>\n",
       "      <td>13.431754</td>\n",
       "      <td>0.630502</td>\n",
       "      <td>3.887921</td>\n",
       "      <td>4.282706</td>\n",
       "      <td>25.142664</td>\n",
       "    </tr>\n",
       "    <tr>\n",
       "      <th>min</th>\n",
       "      <td>0.110000</td>\n",
       "      <td>5.160000</td>\n",
       "      <td>9.235000</td>\n",
       "      <td>1.000000</td>\n",
       "      <td>55.000000</td>\n",
       "      <td>92.600000</td>\n",
       "      <td>62.600000</td>\n",
       "      <td>149.400000</td>\n",
       "      <td>1.895000</td>\n",
       "      <td>10.300000</td>\n",
       "      <td>15.000000</td>\n",
       "      <td>23.276272</td>\n",
       "    </tr>\n",
       "    <tr>\n",
       "      <th>25%</th>\n",
       "      <td>14.114000</td>\n",
       "      <td>11.260000</td>\n",
       "      <td>18.017500</td>\n",
       "      <td>2.300000</td>\n",
       "      <td>149.500000</td>\n",
       "      <td>103.000000</td>\n",
       "      <td>68.400000</td>\n",
       "      <td>177.575000</td>\n",
       "      <td>2.971000</td>\n",
       "      <td>15.800000</td>\n",
       "      <td>21.000000</td>\n",
       "      <td>60.407707</td>\n",
       "    </tr>\n",
       "    <tr>\n",
       "      <th>50%</th>\n",
       "      <td>29.450000</td>\n",
       "      <td>14.180000</td>\n",
       "      <td>22.799000</td>\n",
       "      <td>3.000000</td>\n",
       "      <td>177.500000</td>\n",
       "      <td>107.000000</td>\n",
       "      <td>70.550000</td>\n",
       "      <td>187.900000</td>\n",
       "      <td>3.342000</td>\n",
       "      <td>17.200000</td>\n",
       "      <td>24.000000</td>\n",
       "      <td>72.030917</td>\n",
       "    </tr>\n",
       "    <tr>\n",
       "      <th>75%</th>\n",
       "      <td>67.956000</td>\n",
       "      <td>19.875000</td>\n",
       "      <td>31.947500</td>\n",
       "      <td>3.575000</td>\n",
       "      <td>215.000000</td>\n",
       "      <td>112.200000</td>\n",
       "      <td>73.425000</td>\n",
       "      <td>196.125000</td>\n",
       "      <td>3.799500</td>\n",
       "      <td>19.575000</td>\n",
       "      <td>26.000000</td>\n",
       "      <td>89.414878</td>\n",
       "    </tr>\n",
       "    <tr>\n",
       "      <th>max</th>\n",
       "      <td>540.561000</td>\n",
       "      <td>67.550000</td>\n",
       "      <td>85.500000</td>\n",
       "      <td>8.000000</td>\n",
       "      <td>450.000000</td>\n",
       "      <td>138.700000</td>\n",
       "      <td>79.900000</td>\n",
       "      <td>224.500000</td>\n",
       "      <td>5.572000</td>\n",
       "      <td>32.000000</td>\n",
       "      <td>45.000000</td>\n",
       "      <td>188.144323</td>\n",
       "    </tr>\n",
       "  </tbody>\n",
       "</table>\n",
       "</div>"
      ],
      "text/plain": [
       "       Sales_in_thousands  4__year_resale_value  Price_in_thousands  \\\n",
       "count          157.000000            121.000000          155.000000   \n",
       "mean            52.998076             18.072975           27.390755   \n",
       "std             68.029422             11.453384           14.351653   \n",
       "min              0.110000              5.160000            9.235000   \n",
       "25%             14.114000             11.260000           18.017500   \n",
       "50%             29.450000             14.180000           22.799000   \n",
       "75%             67.956000             19.875000           31.947500   \n",
       "max            540.561000             67.550000           85.500000   \n",
       "\n",
       "       Engine_size  Horsepower   Wheelbase       Width      Length  \\\n",
       "count   156.000000  156.000000  156.000000  156.000000  156.000000   \n",
       "mean      3.060897  185.948718  107.487179   71.150000  187.343590   \n",
       "std       1.044653   56.700321    7.641303    3.451872   13.431754   \n",
       "min       1.000000   55.000000   92.600000   62.600000  149.400000   \n",
       "25%       2.300000  149.500000  103.000000   68.400000  177.575000   \n",
       "50%       3.000000  177.500000  107.000000   70.550000  187.900000   \n",
       "75%       3.575000  215.000000  112.200000   73.425000  196.125000   \n",
       "max       8.000000  450.000000  138.700000   79.900000  224.500000   \n",
       "\n",
       "       Curb_weight  Fuel_capacity  Fuel_efficiency  Power_perf_factor  \n",
       "count   155.000000     156.000000       154.000000         155.000000  \n",
       "mean      3.378026      17.951923        23.844156          77.043591  \n",
       "std       0.630502       3.887921         4.282706          25.142664  \n",
       "min       1.895000      10.300000        15.000000          23.276272  \n",
       "25%       2.971000      15.800000        21.000000          60.407707  \n",
       "50%       3.342000      17.200000        24.000000          72.030917  \n",
       "75%       3.799500      19.575000        26.000000          89.414878  \n",
       "max       5.572000      32.000000        45.000000         188.144323  "
      ]
     },
     "execution_count": 30,
     "metadata": {},
     "output_type": "execute_result"
    }
   ],
   "source": [
    "df.describe()"
   ]
  },
  {
   "cell_type": "code",
   "execution_count": 31,
   "metadata": {},
   "outputs": [
    {
     "data": {
      "text/plain": [
       "Engine_size\n",
       "2.9     1\n",
       "1.5     1\n",
       "4.2     1\n",
       "5.4     1\n",
       "1.6     1\n",
       "8.0     1\n",
       "1.0     1\n",
       "5.0     2\n",
       "4.3     2\n",
       "3.9     2\n",
       "5.2     2\n",
       "4.7     2\n",
       "5.7     2\n",
       "2.8     3\n",
       "2.2     4\n",
       "3.1     4\n",
       "2.7     4\n",
       "1.9     5\n",
       "3.3     5\n",
       "3.2     6\n",
       "2.3     6\n",
       "3.4     7\n",
       "4.0     7\n",
       "1.8     8\n",
       "3.8     8\n",
       "3.5     8\n",
       "4.6     9\n",
       "2.5    11\n",
       "2.4    11\n",
       "3.0    14\n",
       "2.0    17\n",
       "Name: count, dtype: int64"
      ]
     },
     "execution_count": 31,
     "metadata": {},
     "output_type": "execute_result"
    }
   ],
   "source": [
    "df['Engine_size'].value_counts(ascending=True)"
   ]
  },
  {
   "cell_type": "markdown",
   "metadata": {
    "id": "0_6xkgL8JsPe"
   },
   "source": [
    "#### Dealing with missing values:\n",
    "- padding with zeros\n",
    "- averaging \n",
    "- most common value\n",
    "- random distribution sampling\n",
    "- removing (generally applicable, losing data)\n",
    "- special rules\n",
    "\n",
    "On your dataset run `dropna` function to remove all NaN by deleting the entire row (more details: https://pandas.pydata.org/docs/reference/api/pandas.DataFrame.dropna.html)\n",
    "To specify which column(s) is consider in `dropna` function use `subset` parameter "
   ]
  },
  {
   "cell_type": "code",
   "execution_count": 32,
   "metadata": {
    "colab": {
     "base_uri": "https://localhost:8080/"
    },
    "id": "wD0uO6sLKFc0",
    "outputId": "04c4a7d7-666e-4600-afc9-9d9a47920707"
   },
   "outputs": [
    {
     "data": {
      "text/html": [
       "<div>\n",
       "<style scoped>\n",
       "    .dataframe tbody tr th:only-of-type {\n",
       "        vertical-align: middle;\n",
       "    }\n",
       "\n",
       "    .dataframe tbody tr th {\n",
       "        vertical-align: top;\n",
       "    }\n",
       "\n",
       "    .dataframe thead th {\n",
       "        text-align: right;\n",
       "    }\n",
       "</style>\n",
       "<table border=\"1\" class=\"dataframe\">\n",
       "  <thead>\n",
       "    <tr style=\"text-align: right;\">\n",
       "      <th></th>\n",
       "      <th>Sales_in_thousands</th>\n",
       "      <th>4__year_resale_value</th>\n",
       "      <th>Price_in_thousands</th>\n",
       "      <th>Engine_size</th>\n",
       "      <th>Horsepower</th>\n",
       "      <th>Wheelbase</th>\n",
       "      <th>Width</th>\n",
       "      <th>Length</th>\n",
       "      <th>Curb_weight</th>\n",
       "      <th>Fuel_capacity</th>\n",
       "      <th>Fuel_efficiency</th>\n",
       "      <th>Power_perf_factor</th>\n",
       "    </tr>\n",
       "  </thead>\n",
       "  <tbody>\n",
       "    <tr>\n",
       "      <th>count</th>\n",
       "      <td>155.000000</td>\n",
       "      <td>119.000000</td>\n",
       "      <td>155.000000</td>\n",
       "      <td>155.000000</td>\n",
       "      <td>155.000000</td>\n",
       "      <td>155.000000</td>\n",
       "      <td>155.000000</td>\n",
       "      <td>155.000000</td>\n",
       "      <td>154.000000</td>\n",
       "      <td>155.000000</td>\n",
       "      <td>153.000000</td>\n",
       "      <td>155.000000</td>\n",
       "    </tr>\n",
       "    <tr>\n",
       "      <th>mean</th>\n",
       "      <td>53.245832</td>\n",
       "      <td>18.059370</td>\n",
       "      <td>27.390755</td>\n",
       "      <td>3.060000</td>\n",
       "      <td>185.696774</td>\n",
       "      <td>107.490968</td>\n",
       "      <td>71.153548</td>\n",
       "      <td>187.313548</td>\n",
       "      <td>3.377429</td>\n",
       "      <td>17.956774</td>\n",
       "      <td>23.830065</td>\n",
       "      <td>77.043591</td>\n",
       "    </tr>\n",
       "    <tr>\n",
       "      <th>std</th>\n",
       "      <td>68.397550</td>\n",
       "      <td>11.549233</td>\n",
       "      <td>14.351653</td>\n",
       "      <td>1.047979</td>\n",
       "      <td>56.796444</td>\n",
       "      <td>7.665925</td>\n",
       "      <td>3.462776</td>\n",
       "      <td>13.470034</td>\n",
       "      <td>0.632515</td>\n",
       "      <td>3.900050</td>\n",
       "      <td>4.293187</td>\n",
       "      <td>25.142664</td>\n",
       "    </tr>\n",
       "    <tr>\n",
       "      <th>min</th>\n",
       "      <td>0.110000</td>\n",
       "      <td>5.160000</td>\n",
       "      <td>9.235000</td>\n",
       "      <td>1.000000</td>\n",
       "      <td>55.000000</td>\n",
       "      <td>92.600000</td>\n",
       "      <td>62.600000</td>\n",
       "      <td>149.400000</td>\n",
       "      <td>1.895000</td>\n",
       "      <td>10.300000</td>\n",
       "      <td>15.000000</td>\n",
       "      <td>23.276272</td>\n",
       "    </tr>\n",
       "    <tr>\n",
       "      <th>25%</th>\n",
       "      <td>14.074500</td>\n",
       "      <td>11.250000</td>\n",
       "      <td>18.017500</td>\n",
       "      <td>2.300000</td>\n",
       "      <td>149.000000</td>\n",
       "      <td>103.000000</td>\n",
       "      <td>68.400000</td>\n",
       "      <td>177.550000</td>\n",
       "      <td>2.969000</td>\n",
       "      <td>15.800000</td>\n",
       "      <td>21.000000</td>\n",
       "      <td>60.407707</td>\n",
       "    </tr>\n",
       "    <tr>\n",
       "      <th>50%</th>\n",
       "      <td>29.450000</td>\n",
       "      <td>14.010000</td>\n",
       "      <td>22.799000</td>\n",
       "      <td>3.000000</td>\n",
       "      <td>175.000000</td>\n",
       "      <td>107.000000</td>\n",
       "      <td>70.500000</td>\n",
       "      <td>187.800000</td>\n",
       "      <td>3.341000</td>\n",
       "      <td>17.200000</td>\n",
       "      <td>24.000000</td>\n",
       "      <td>72.030917</td>\n",
       "    </tr>\n",
       "    <tr>\n",
       "      <th>75%</th>\n",
       "      <td>68.183500</td>\n",
       "      <td>19.882500</td>\n",
       "      <td>31.947500</td>\n",
       "      <td>3.650000</td>\n",
       "      <td>215.000000</td>\n",
       "      <td>112.200000</td>\n",
       "      <td>73.450000</td>\n",
       "      <td>196.150000</td>\n",
       "      <td>3.810250</td>\n",
       "      <td>19.650000</td>\n",
       "      <td>26.000000</td>\n",
       "      <td>89.414878</td>\n",
       "    </tr>\n",
       "    <tr>\n",
       "      <th>max</th>\n",
       "      <td>540.561000</td>\n",
       "      <td>67.550000</td>\n",
       "      <td>85.500000</td>\n",
       "      <td>8.000000</td>\n",
       "      <td>450.000000</td>\n",
       "      <td>138.700000</td>\n",
       "      <td>79.900000</td>\n",
       "      <td>224.500000</td>\n",
       "      <td>5.572000</td>\n",
       "      <td>32.000000</td>\n",
       "      <td>45.000000</td>\n",
       "      <td>188.144323</td>\n",
       "    </tr>\n",
       "  </tbody>\n",
       "</table>\n",
       "</div>"
      ],
      "text/plain": [
       "       Sales_in_thousands  4__year_resale_value  Price_in_thousands  \\\n",
       "count          155.000000            119.000000          155.000000   \n",
       "mean            53.245832             18.059370           27.390755   \n",
       "std             68.397550             11.549233           14.351653   \n",
       "min              0.110000              5.160000            9.235000   \n",
       "25%             14.074500             11.250000           18.017500   \n",
       "50%             29.450000             14.010000           22.799000   \n",
       "75%             68.183500             19.882500           31.947500   \n",
       "max            540.561000             67.550000           85.500000   \n",
       "\n",
       "       Engine_size  Horsepower   Wheelbase       Width      Length  \\\n",
       "count   155.000000  155.000000  155.000000  155.000000  155.000000   \n",
       "mean      3.060000  185.696774  107.490968   71.153548  187.313548   \n",
       "std       1.047979   56.796444    7.665925    3.462776   13.470034   \n",
       "min       1.000000   55.000000   92.600000   62.600000  149.400000   \n",
       "25%       2.300000  149.000000  103.000000   68.400000  177.550000   \n",
       "50%       3.000000  175.000000  107.000000   70.500000  187.800000   \n",
       "75%       3.650000  215.000000  112.200000   73.450000  196.150000   \n",
       "max       8.000000  450.000000  138.700000   79.900000  224.500000   \n",
       "\n",
       "       Curb_weight  Fuel_capacity  Fuel_efficiency  Power_perf_factor  \n",
       "count   154.000000     155.000000       153.000000         155.000000  \n",
       "mean      3.377429      17.956774        23.830065          77.043591  \n",
       "std       0.632515       3.900050         4.293187          25.142664  \n",
       "min       1.895000      10.300000        15.000000          23.276272  \n",
       "25%       2.969000      15.800000        21.000000          60.407707  \n",
       "50%       3.341000      17.200000        24.000000          72.030917  \n",
       "75%       3.810250      19.650000        26.000000          89.414878  \n",
       "max       5.572000      32.000000        45.000000         188.144323  "
      ]
     },
     "execution_count": 32,
     "metadata": {},
     "output_type": "execute_result"
    }
   ],
   "source": [
    "df = df.dropna(subset=['Price_in_thousands'])\n",
    "df.head()\n",
    "df.describe()"
   ]
  },
  {
   "cell_type": "code",
   "execution_count": 33,
   "metadata": {
    "colab": {
     "base_uri": "https://localhost:8080/",
     "height": 421
    },
    "id": "suEcaYceQCzi",
    "outputId": "7c92c66a-5988-4816-8e6b-6a09a4473f52"
   },
   "outputs": [
    {
     "data": {
      "text/plain": [
       "<matplotlib.collections.PathCollection at 0x7fe7a40b51e0>"
      ]
     },
     "execution_count": 33,
     "metadata": {},
     "output_type": "execute_result"
    },
    {
     "data": {
      "image/png": "[encoded data removed]",
      "text/plain": [
       "<Figure size 1000x600 with 1 Axes>"
      ]
     },
     "metadata": {},
     "output_type": "display_data"
    }
   ],
   "source": [
    "plt.figure(figsize=(10,6))\n",
    "plt.xlabel('Engine size (ccm)')\n",
    "plt.ylabel('Horsepower')\n",
    "plt.title('Horsepower by Engine size')\n",
    "plt.scatter(df['Engine_size'], df['Horsepower'], marker='o', color='g')"
   ]
  },
  {
   "cell_type": "markdown",
   "metadata": {
    "id": "neX6cxtIKD13"
   },
   "source": [
    "# Solving Linear Regression with **Normal Equation**\n",
    "$\\Large \\theta = (X^TX)^{-1} (X^Ty)$"
   ]
  },
  {
   "cell_type": "code",
   "execution_count": 34,
   "metadata": {
    "colab": {
     "base_uri": "https://localhost:8080/"
    },
    "id": "FmEwS25vSayP",
    "outputId": "e5b9898c-294b-433c-cbb8-fde4ada533f1"
   },
   "outputs": [
    {
     "name": "stdout",
     "output_type": "stream",
     "text": [
      "Theta found by Normal Equation: slope = [45.42203723] and intercept [46.70534028]\n"
     ]
    }
   ],
   "source": [
    "x = df[['Engine_size']]\n",
    "y = df[['Horsepower']]\n",
    "\n",
    "xg = x.values.reshape(-1,1)\n",
    "yg = y.values.reshape(-1,1)\n",
    "\n",
    "xg = np.concatenate((np.ones(len(x)).reshape(-1,1), x), axis=1)\n",
    "def normal_equations(x,y):\n",
    "    a = np.linalg.inv(np.dot(x.T, x))\n",
    "    b = np.dot(x.T, y)\n",
    "    theta = np.dot(a,b)\n",
    "    return theta\n",
    "    \n",
    "theta = normal_equations(xg, yg)\n",
    "print('Theta found by Normal Equation: slope = {} and intercept {}'.format(theta[1], theta[0]))"
   ]
  },
  {
   "cell_type": "code",
   "execution_count": 35,
   "metadata": {
    "colab": {
     "base_uri": "https://localhost:8080/",
     "height": 392
    },
    "id": "a2nnzeEyORNt",
    "outputId": "6a808bad-24c7-42a7-98b0-6256d67ae462"
   },
   "outputs": [
    {
     "data": {
      "image/png": "[encoded data removed]",
      "text/plain": [
       "<Figure size 1000x600 with 1 Axes>"
      ]
     },
     "metadata": {},
     "output_type": "display_data"
    }
   ],
   "source": [
    "plt.figure(figsize=(10,6))\n",
    "plt.title('$\\\\theta_0$ = {} , $\\\\theta_1$ = {}'.format(theta[0], theta[1]))\n",
    "plt.plot(x.to_numpy(),np.dot(xg, theta))\n",
    "plt.scatter(x,y, marker='o', color='g')\n",
    "plt.xlabel('Engine size (ccm)')\n",
    "plt.ylabel('Horsepower')\n",
    "plt.show()\n",
    "\n",
    "\n"
   ]
  },
  {
   "cell_type": "markdown",
   "metadata": {
    "id": "I0g3yupuKkNh"
   },
   "source": [
    "# Solving Linear Regression with **Gradient Descent**\n",
    "Objective of Linear Regression is to minimize the cost function: \n",
    "<br>\n",
    "$\\Large J(\\theta) = \\frac{1}{2m} \\sum\\limits_{i=1}^{m} (h_\\theta(x^{(i)})-y^{(i)})^2$\n",
    "<br>\n",
    "<br>\n",
    "where the hypothesis $h_\\theta(x)$ is given by the lienar model:  \n",
    "\n",
    "$\\Large h_\\theta(x) = \\theta^T X = \\theta_1 X_1 + \\theta_0 $  \n",
    "<br>\n",
    "In batch gradient descent, each iteration performs the update:  \n",
    "$\\Large \\theta_j := \\theta_j - \\alpha \\frac{1}{m} \\sum\\limits_{i=1}^{m}(h_\\theta (x^{(i)}) - y^{(i)})x_j^{(i)}$"
   ]
  },
  {
   "cell_type": "code",
   "execution_count": 57,
   "metadata": {
    "id": "_c3yi3ddOaI7"
   },
   "outputs": [],
   "source": [
    "#Define cost function J\n",
    "def computeCost(x, y, theta):\n",
    "    m = len(y)\n",
    "    h_x = x.dot(theta)\n",
    "    j = np.sum(np.square(h_x - y))*(1/(2*m))\n",
    "    return j\n",
    "\n",
    "#Define Gradient Descent\n",
    "def gradientDescent(x, y, theta, alpha, iteration):\n",
    "    print('Running Gradient Descent...')\n",
    "    j_hist = []\n",
    "    m = len(y)\n",
    "    for i in range(iteration):\n",
    "        h_x = x.dot(theta)\n",
    "        theta = theta - ((alpha/m) *((np.dot(x.T, (h_x-y) ))))\n",
    "        cost = computeCost(x, y, theta)\n",
    "        j_hist.append(cost)\n",
    "        #print(f'Cost at iteration {i}: {cost}')\n",
    "        #theta[0] = theta[0] - ((alpha/m) *(np.sum((h_x-y))))\n",
    "    return theta, j_hist"
   ]
  },
  {
   "cell_type": "code",
   "execution_count": 58,
   "metadata": {
    "id": "Yh7a63LoOYZ5"
   },
   "outputs": [],
   "source": [
    "x = df[['Engine_size']]\n",
    "y = df[['Horsepower']]\n",
    "\n",
    "xg = x.values.reshape(-1,1)\n",
    "yg = y.values.reshape(-1,1)\n",
    "\n",
    "xg = np.concatenate((np.ones(len(x)).reshape(-1,1), x), axis=1)"
   ]
  },
  {
   "cell_type": "code",
   "execution_count": 59,
   "metadata": {
    "colab": {
     "base_uri": "https://localhost:8080/"
    },
    "id": "M-MKJJKTOfJv",
    "outputId": "b1dd5753-d15d-4361-c43f-4e041c3254c7"
   },
   "outputs": [
    {
     "name": "stdout",
     "output_type": "stream",
     "text": [
      "Running Gradient Descent...\n",
      "Theta found by Gradient Descent: slope = [0.41072353] and intercept [0.23394002]\n"
     ]
    }
   ],
   "source": [
    "theta = np.random.rand(2,1)\n",
    "iteration = 10000\n",
    "alpha = 1e-10\n",
    "\n",
    "theta, cost = gradientDescent(xg, yg, theta, alpha, iteration)\n",
    "print('Theta found by Gradient Descent: slope = {} and intercept {}'.format(theta[1], theta[0]))"
   ]
  },
  {
   "cell_type": "code",
   "execution_count": 60,
   "metadata": {
    "colab": {
     "base_uri": "https://localhost:8080/",
     "height": 296
    },
    "id": "fD2qnzFxOnpd",
    "outputId": "94987e69-d73d-4ae9-9136-c87bb0918b5d"
   },
   "outputs": [
    {
     "data": {
      "text/plain": [
       "Text(0, 0.5, 'Cost')"
      ]
     },
     "execution_count": 60,
     "metadata": {},
     "output_type": "execute_result"
    },
    {
     "data": {
      "image/png": "[encoded data removed]",
      "text/plain": [
       "<Figure size 640x480 with 1 Axes>"
      ]
     },
     "metadata": {},
     "output_type": "display_data"
    }
   ],
   "source": [
    "#theta_0 = [46.83359551] , theta_1 = [0.04544913] What are the differences?\n",
    "plt.plot(cost)\n",
    "plt.xlabel('No. of iterations')\n",
    "plt.ylabel('Cost')"
   ]
  },
  {
   "cell_type": "code",
   "execution_count": 61,
   "metadata": {
    "colab": {
     "base_uri": "https://localhost:8080/",
     "height": 427
    },
    "id": "DRSUyyf1O1Ex",
    "outputId": "e77ae90b-e83a-41c0-e558-ed3d235000cb"
   },
   "outputs": [
    {
     "data": {
      "image/png": "[encoded data removed]",
      "text/plain": [
       "<Figure size 1000x600 with 1 Axes>"
      ]
     },
     "metadata": {},
     "output_type": "display_data"
    }
   ],
   "source": [
    "plt.figure(figsize=(10,6))\n",
    "plt.title('$\\\\theta_0$ = {} , $\\\\theta_1$ = {}'.format(theta[0], theta[1]))\n",
    "plt.scatter(x,y, marker='o', color='g')\n",
    "plt.plot(x.values,np.dot(xg, theta))\n",
    "plt.xlabel('Engine size (ccm)')\n",
    "plt.ylabel('Horsepower')\n",
    "plt.show()"
   ]
  },
  {
   "cell_type": "markdown",
   "metadata": {
    "id": "2YC74w9jPe0b"
   },
   "source": [
    "In __Multiple Linear Regression__ we now use more than one dependent variable (feature). The basic idea remains the same.\n",
    "Find the set of parameters that minimize the error / fits the best line. \\\\\n",
    "#### Here we look at only the numerical solution: Gradient Descent. This is because as the number of features increases, the analytical solution becomes more ineficient."
   ]
  },
  {
   "cell_type": "code",
   "execution_count": 41,
   "metadata": {
    "id": "7-4lpP34QFF9"
   },
   "outputs": [],
   "source": [
    "df=pd.read_csv(\"Car_sales.csv\")\n",
    "df['Engine_ccm'] = df['Engine_size'] * 1000\n",
    "#'Horsepower', 'Engine_ccm', 'Fuel_efficiency', 'Price_in_thousands', 'Fuel_capacity'\n",
    "df = df.dropna(subset=['Horsepower', 'Engine_size', 'Fuel_efficiency'])\n",
    "X = df[['Engine_ccm','Fuel_efficiency']]\n",
    "Y = df[['Horsepower']]\n",
    "x = X.values\n",
    "y = Y.values"
   ]
  },
  {
   "cell_type": "code",
   "execution_count": 42,
   "metadata": {
    "id": "vXPgm2ttR-Kq"
   },
   "outputs": [],
   "source": [
    "#Normalize features\n",
    "def featureNormalize(x_m):\n",
    "    mu = np.zeros((1,x_m.shape[1]))\n",
    "    sigma = np.zeros((1,x_m.shape[1]))\n",
    "    x_norm = x_m.astype(float)\n",
    "    \n",
    "    for i in range(0,len(mu)+1):\n",
    "        mu[:,i] = x_m[:,i].mean()\n",
    "        sigma[:,i] = x_m[:,i].std()\n",
    "        x_norm[:,i] = (x_m[:,i] - mu[:,i])/sigma[:,i]\n",
    "    return (x_norm, mu, sigma)\n",
    "\n",
    "x_norm, mu, sigma = featureNormalize(x)\n",
    "x_norm = np.concatenate((np.ones(len(x_norm)).reshape(-1,1), x_norm), axis=1)"
   ]
  },
  {
   "cell_type": "code",
   "execution_count": 43,
   "metadata": {
    "id": "fzSK3TDSSjhj"
   },
   "outputs": [],
   "source": [
    "def computeCost_m(x, y, theta):\n",
    "    m = len(y)\n",
    "    h_x = np.dot(x, theta)\n",
    "    j = np.sum(np.square(h_x - y))/(2*m)\n",
    "    return j\n",
    "\n",
    "def gradientDescentMulti(X, Y, theta, alpha, num_iters):\n",
    "    m = len(Y)\n",
    "    p = np.copy(X)\n",
    "    t = np.copy(theta)\n",
    "    j = []\n",
    "    print('Running Gradient Descent')\n",
    "    for i in range(0,num_iters+1):\n",
    "        cost = computeCost_m(p, Y, t)\n",
    "        j.append(cost)\n",
    "        #print(f'Cost at iteration {i}: {cost}')\n",
    "        h_x = np.dot(p, t)\n",
    "        err = h_x - Y\n",
    "        for f in range(theta.size):\n",
    "            t[f] = t[f] - alpha/m *(np.sum((np.dot(p[:,f].T, err))))\n",
    "    return j, t"
   ]
  },
  {
   "cell_type": "code",
   "execution_count": 44,
   "metadata": {
    "colab": {
     "base_uri": "https://localhost:8080/"
    },
    "id": "1hrHkW1VSlFc",
    "outputId": "3970a2fc-e56e-4061-bf4f-2e0f28e5ad99"
   },
   "outputs": [
    {
     "name": "stdout",
     "output_type": "stream",
     "text": [
      "Running Gradient Descent\n",
      "\n",
      "Final theta:\n",
      "[[185.6479271 ]\n",
      " [ 46.38239957]\n",
      " [ -1.10393757]]\n"
     ]
    }
   ],
   "source": [
    "# theta_init = np.zeros((3, 1))\n",
    "alpha = 0.01\n",
    "num_iters = 1000\n",
    "theta_init = np.random.rand(3, 1) #2 features + 1\n",
    "cost, theta_final = gradientDescentMulti(x_norm, y, theta_init, alpha, num_iters)\n",
    "print(\"\")\n",
    "print(\"Final theta:\")\n",
    "print(theta_final)"
   ]
  },
  {
   "cell_type": "code",
   "execution_count": 45,
   "metadata": {
    "colab": {
     "base_uri": "https://localhost:8080/",
     "height": 279
    },
    "id": "EnPmbq3aTaZj",
    "outputId": "521242b8-591f-47a2-b3e3-5ec9ddc464af"
   },
   "outputs": [
    {
     "data": {
      "image/png": "[encoded data removed]",
      "text/plain": [
       "<Figure size 640x480 with 1 Axes>"
      ]
     },
     "metadata": {},
     "output_type": "display_data"
    }
   ],
   "source": [
    "plt.figure()\n",
    "plt.plot(cost)\n",
    "plt.xlabel('No. of Iterations')\n",
    "plt.ylabel('Cost')\n",
    "plt.show()"
   ]
  },
  {
   "cell_type": "code",
   "execution_count": 46,
   "metadata": {
    "id": "KRrBjI_QTnEq"
   },
   "outputs": [
    {
     "data": {
      "image/png": "[encoded data removed]",
      "text/plain": [
       "<Figure size 1000x600 with 1 Axes>"
      ]
     },
     "metadata": {},
     "output_type": "display_data"
    }
   ],
   "source": [
    "import numpy as np\n",
    "\n",
    "# 'matplotlib qt' for interactive 3D plotting in Notebooks\n",
    "# %matplotlib qt\n",
    "%matplotlib inline  \n",
    "\n",
    "fig=plt.figure(figsize=(10,6))\n",
    "fig3 = fig.add_subplot(projection='3d')\n",
    "fig3.set_title('$\\\\theta_0$ = {} , $\\\\theta_1$ = {} , $\\\\theta_2$ = {}'.format(theta_final[0], theta_final[1], theta_final[2]))\n",
    "fig3.scatter(x_norm[:,1],x_norm[:,2],y, marker='o', color='g')\n",
    "yrep=np.array(theta_final[0]+x_norm[:,1]*theta_final[1]+x_norm[:,2]*theta_final[2])\n",
    "fig3.plot(x_norm[:,1],x_norm[:,2],yrep)\n",
    "plt.show()"
   ]
  },
  {
   "cell_type": "markdown",
   "metadata": {},
   "source": [
    "#### Iterative sample removal is a possible method for dealing with noisy data, so that in the end the fit is only adjusted to the densest region of the data set. (application e.g.: filtering 3D point clouds)"
   ]
  },
  {
   "cell_type": "code",
   "execution_count": 47,
   "metadata": {},
   "outputs": [
    {
     "data": {
      "text/plain": [
       "array([61.75220629, 34.61399325])"
      ]
     },
     "execution_count": 47,
     "metadata": {},
     "output_type": "execute_result"
    }
   ],
   "source": [
    "xg2=xg\n",
    "yg2=yg\n",
    "for i1 in range(50):\n",
    "    theta = normal_equations(xg2, yg2)\n",
    "    max_idx=np.argmax(np.abs(np.dot(xg2,theta)-yg2),keepdims=np.ceil(xg2.size*0.05).astype(int))\n",
    "    xg2=np.delete(xg2, max_idx, 0)\n",
    "    yg2=np.delete(yg2, max_idx, None)\n",
    "theta"
   ]
  },
  {
   "cell_type": "code",
   "execution_count": 48,
   "metadata": {},
   "outputs": [
    {
     "data": {
      "image/png": "[encoded data removed]",
      "text/plain": [
       "<Figure size 1000x600 with 1 Axes>"
      ]
     },
     "metadata": {},
     "output_type": "display_data"
    }
   ],
   "source": [
    "%matplotlib inline \n",
    "plt.figure(figsize=(10,6))\n",
    "plt.title('$\\\\theta_0$ = {} , $\\\\theta_1$ = {}'.format(theta[0], theta[1]))\n",
    "plt.scatter(xg[:,1],yg, marker='o', color='r')\n",
    "plt.scatter(xg2[:,1],yg2, marker='o', color='g')\n",
    "plt.plot(xg[:,1],np.dot(xg, theta))\n",
    "plt.xlabel('Engine size (ccm)')\n",
    "plt.ylabel('Horsepower')\n",
    "plt.show()"
   ]
  },
  {
   "cell_type": "code",
   "execution_count": null,
   "metadata": {},
   "outputs": [],
   "source": []
  }
 ],
 "metadata": {
  "accelerator": "GPU",
  "colab": {
   "name": "Lab2 - Deep Network Developments.ipynb",
   "provenance": []
  },
  "kernelspec": {
   "display_name": "Python 3 (ipykernel)",
   "language": "python",
   "name": "python3"
  },
  "language_info": {
   "codemirror_mode": {
    "name": "ipython",
    "version": 3
   },
   "file_extension": ".py",
   "mimetype": "text/x-python",
   "name": "python",
   "nbconvert_exporter": "python",
   "pygments_lexer": "ipython3",
   "version": "3.10.11"
  }
 },
 "nbformat": 4,
 "nbformat_minor": 1
}
