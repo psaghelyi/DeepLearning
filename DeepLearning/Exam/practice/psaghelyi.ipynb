{
 "cells": [
  {
   "cell_type": "code",
   "execution_count": 3,
   "metadata": {},
   "outputs": [
    {
     "name": "stdout",
     "output_type": "stream",
     "text": [
      "Collecting torchviz\n",
      "  Downloading torchviz-0.0.2.tar.gz (4.9 kB)\n",
      "  Preparing metadata (setup.py) ... \u001b[?25ldone\n",
      "\u001b[?25hRequirement already satisfied: torch in /Users/psaghelyi-remote/.pyenv/versions/3.9.18/envs/DeepLearning/lib/python3.9/site-packages (from torchviz) (2.1.1)\n",
      "Requirement already satisfied: graphviz in /Users/psaghelyi-remote/.pyenv/versions/3.9.18/envs/DeepLearning/lib/python3.9/site-packages (from torchviz) (0.20.1)\n",
      "Requirement already satisfied: sympy in /Users/psaghelyi-remote/.pyenv/versions/3.9.18/envs/DeepLearning/lib/python3.9/site-packages (from torch->torchviz) (1.12)\n",
      "Requirement already satisfied: jinja2 in /Users/psaghelyi-remote/.pyenv/versions/3.9.18/envs/DeepLearning/lib/python3.9/site-packages (from torch->torchviz) (3.1.2)\n",
      "Requirement already satisfied: networkx in /Users/psaghelyi-remote/.pyenv/versions/3.9.18/envs/DeepLearning/lib/python3.9/site-packages (from torch->torchviz) (3.2.1)\n",
      "Requirement already satisfied: fsspec in /Users/psaghelyi-remote/.pyenv/versions/3.9.18/envs/DeepLearning/lib/python3.9/site-packages (from torch->torchviz) (2023.10.0)\n",
      "Requirement already satisfied: typing-extensions in /Users/psaghelyi-remote/.pyenv/versions/3.9.18/envs/DeepLearning/lib/python3.9/site-packages (from torch->torchviz) (4.8.0)\n",
      "Requirement already satisfied: filelock in /Users/psaghelyi-remote/.pyenv/versions/3.9.18/envs/DeepLearning/lib/python3.9/site-packages (from torch->torchviz) (3.13.1)\n",
      "Requirement already satisfied: MarkupSafe>=2.0 in /Users/psaghelyi-remote/.pyenv/versions/3.9.18/envs/DeepLearning/lib/python3.9/site-packages (from jinja2->torch->torchviz) (2.1.3)\n",
      "Requirement already satisfied: mpmath>=0.19 in /Users/psaghelyi-remote/.pyenv/versions/3.9.18/envs/DeepLearning/lib/python3.9/site-packages (from sympy->torch->torchviz) (1.3.0)\n",
      "Building wheels for collected packages: torchviz\n",
      "  Building wheel for torchviz (setup.py) ... \u001b[?25ldone\n",
      "\u001b[?25h  Created wheel for torchviz: filename=torchviz-0.0.2-py3-none-any.whl size=4150 sha256=02d8e616bda3de9755f85a962f23cfbc7e081429eee0865900f39af8bb3d5b1a\n",
      "  Stored in directory: /Users/psaghelyi-remote/Library/Caches/pip/wheels/29/65/6e/db2515eb1dc760fecd36b40d54df65c1e18534013f1c037e2e\n",
      "Successfully built torchviz\n",
      "Installing collected packages: torchviz\n",
      "Successfully installed torchviz-0.0.2\n",
      "\n",
      "\u001b[1m[\u001b[0m\u001b[34;49mnotice\u001b[0m\u001b[1;39;49m]\u001b[0m\u001b[39;49m A new release of pip is available: \u001b[0m\u001b[31;49m23.0.1\u001b[0m\u001b[39;49m -> \u001b[0m\u001b[32;49m23.3.2\u001b[0m\n",
      "\u001b[1m[\u001b[0m\u001b[34;49mnotice\u001b[0m\u001b[1;39;49m]\u001b[0m\u001b[39;49m To update, run: \u001b[0m\u001b[32;49mpip install --upgrade pip\u001b[0m\n",
      "Note: you may need to restart the kernel to use updated packages.\n"
     ]
    }
   ],
   "source": [
    "%pip install torchviz\n",
    "\n",
    "import torch\n",
    "import torch.nn as nn\n",
    "from torchviz import make_dot\n"
   ]
  },
  {
   "cell_type": "code",
   "execution_count": 4,
   "metadata": {},
   "outputs": [
    {
     "data": {
      "text/plain": [
       "CustomModel(\n",
       "  (conv1): Conv2d(3, 128, kernel_size=(3, 3), stride=(2, 2), padding=valid)\n",
       "  (conv2): Conv2d(128, 128, kernel_size=(3, 3), stride=(1, 1), padding=same)\n",
       "  (conv3): Conv2d(128, 64, kernel_size=(1, 1), stride=(1, 1), padding=same)\n",
       "  (conv4): Conv2d(64, 64, kernel_size=(3, 3), stride=(1, 1), padding=same)\n",
       "  (conv5): Conv2d(64, 256, kernel_size=(5, 5), stride=(4, 4), padding=(1, 1))\n",
       "  (batch_norm): BatchNorm2d(256, eps=1e-05, momentum=0.1, affine=True, track_running_stats=True)\n",
       "  (conv6): Conv2d(256, 256, kernel_size=(5, 5), stride=(1, 1), padding=same)\n",
       "  (lstm): LSTM(256, 128, batch_first=True)\n",
       "  (fc): Linear(in_features=128, out_features=13, bias=True)\n",
       "  (sigmoid): Sigmoid()\n",
       ")"
      ]
     },
     "execution_count": 4,
     "metadata": {},
     "output_type": "execute_result"
    }
   ],
   "source": [
    "\n",
    "# Define the custom model as per the diagram provided\n",
    "class CustomModel(nn.Module):\n",
    "    def __init__(self):\n",
    "        super(CustomModel, self).__init__()\n",
    "        \n",
    "        # Define the first part of the CNN\n",
    "        self.conv1 = nn.Conv2d(in_channels=3, out_channels=128, kernel_size=3, stride=2, padding='valid')\n",
    "        self.conv2 = nn.Conv2d(in_channels=128, out_channels=128, kernel_size=3, stride=1, padding='same')\n",
    "        self.conv3 = nn.Conv2d(in_channels=128, out_channels=64, kernel_size=1, stride=1, padding='same')\n",
    "        \n",
    "        # Define the second part of the CNN\n",
    "        self.conv4 = nn.Conv2d(in_channels=64, out_channels=64, kernel_size=3, stride=1, padding='same')\n",
    "        self.conv5 = nn.Conv2d(in_channels=64, out_channels=256, kernel_size=5, stride=4, padding=1)\n",
    "        \n",
    "        # Define the batch normalization layer\n",
    "        self.batch_norm = nn.BatchNorm2d(num_features=256)\n",
    "        \n",
    "        # Define the third part of the CNN\n",
    "        self.conv6 = nn.Conv2d(in_channels=256, out_channels=256, kernel_size=5, stride=1, padding='same')\n",
    "        \n",
    "        # Define the LSTM layer\n",
    "        self.lstm = nn.LSTM(input_size=256, hidden_size=128, batch_first=True)\n",
    "        \n",
    "        # Define the linear layer\n",
    "        self.fc = nn.Linear(in_features=128, out_features=13)\n",
    "        \n",
    "        # Define the sigmoid activation\n",
    "        self.sigmoid = nn.Sigmoid()\n",
    "\n",
    "    def forward(self, x):\n",
    "        # Forward pass through the first part of the CNN\n",
    "        x1 = self.conv1(x)\n",
    "        x2 = self.conv2(x1)\n",
    "        x3 = self.conv3(x2)\n",
    "        \n",
    "        # Forward pass through the second part of the CNN\n",
    "        x4 = self.conv4(x3)\n",
    "        x5 = self.conv5(x4)\n",
    "        \n",
    "        # Channel-wise concatenation\n",
    "        x_concat = torch.cat((x3, x5), 1)\n",
    "        \n",
    "        # Forward pass through the batch normalization\n",
    "        x_bn = self.batch_norm(x_concat)\n",
    "        \n",
    "        # Forward pass through the third part of the CNN\n",
    "        x6 = self.conv6(x_bn)\n",
    "        \n",
    "        # Residual connection and reshaping for LSTM\n",
    "        x_residual = x6 + x_bn\n",
    "        x_reshape = x_residual.view(x_residual.size(0), -1, x_residual.size(1))\n",
    "        \n",
    "        # Forward pass through LSTM\n",
    "        lstm_out, (hn, cn) = self.lstm(x_reshape)\n",
    "        \n",
    "        # Select the last time-step from LSTM's output\n",
    "        lstm_last_out = lstm_out[:, -1, :]\n",
    "        \n",
    "        # Forward pass through the linear layer\n",
    "        x_fc = self.fc(lstm_last_out)\n",
    "        \n",
    "        # Forward pass through the sigmoid activation\n",
    "        out = self.sigmoid(x_fc)\n",
    "        \n",
    "        return out\n",
    "\n",
    "# Create the model instance\n",
    "model = CustomModel()\n",
    "\n",
    "# Display the model architecture\n",
    "model\n",
    "\n",
    "\n",
    "\n",
    "# Please note that we haven't compiled the model or prepared it for training since the prompt only asked for implementation.\n"
   ]
  },
  {
   "cell_type": "code",
   "execution_count": 6,
   "metadata": {},
   "outputs": [
    {
     "ename": "RuntimeError",
     "evalue": "Sizes of tensors must match except in dimension 1. Expected size 111 but got size 28 for tensor number 1 in the list.",
     "output_type": "error",
     "traceback": [
      "\u001b[0;31m---------------------------------------------------------------------------\u001b[0m",
      "\u001b[0;31mRuntimeError\u001b[0m                              Traceback (most recent call last)",
      "Cell \u001b[0;32mIn[6], line 2\u001b[0m\n\u001b[1;32m      1\u001b[0m x \u001b[38;5;241m=\u001b[39m torch\u001b[38;5;241m.\u001b[39mrandn(\u001b[38;5;241m1\u001b[39m, \u001b[38;5;241m3\u001b[39m, \u001b[38;5;241m224\u001b[39m, \u001b[38;5;241m224\u001b[39m)\u001b[38;5;241m.\u001b[39mrequires_grad_(\u001b[38;5;28;01mTrue\u001b[39;00m)\n\u001b[0;32m----> 2\u001b[0m y \u001b[38;5;241m=\u001b[39m \u001b[43mmodel\u001b[49m\u001b[43m(\u001b[49m\u001b[43mx\u001b[49m\u001b[43m)\u001b[49m\n\u001b[1;32m      4\u001b[0m make_dot(y, params\u001b[38;5;241m=\u001b[39m\u001b[38;5;28mdict\u001b[39m(\u001b[38;5;28mlist\u001b[39m(model\u001b[38;5;241m.\u001b[39mnamed_parameters()) \u001b[38;5;241m+\u001b[39m [(\u001b[38;5;124m'\u001b[39m\u001b[38;5;124minput\u001b[39m\u001b[38;5;124m'\u001b[39m, x)]))\n",
      "File \u001b[0;32m~/.pyenv/versions/3.9.18/envs/DeepLearning/lib/python3.9/site-packages/torch/nn/modules/module.py:1518\u001b[0m, in \u001b[0;36mModule._wrapped_call_impl\u001b[0;34m(self, *args, **kwargs)\u001b[0m\n\u001b[1;32m   1516\u001b[0m     \u001b[38;5;28;01mreturn\u001b[39;00m \u001b[38;5;28mself\u001b[39m\u001b[38;5;241m.\u001b[39m_compiled_call_impl(\u001b[38;5;241m*\u001b[39margs, \u001b[38;5;241m*\u001b[39m\u001b[38;5;241m*\u001b[39mkwargs)  \u001b[38;5;66;03m# type: ignore[misc]\u001b[39;00m\n\u001b[1;32m   1517\u001b[0m \u001b[38;5;28;01melse\u001b[39;00m:\n\u001b[0;32m-> 1518\u001b[0m     \u001b[38;5;28;01mreturn\u001b[39;00m \u001b[38;5;28;43mself\u001b[39;49m\u001b[38;5;241;43m.\u001b[39;49m\u001b[43m_call_impl\u001b[49m\u001b[43m(\u001b[49m\u001b[38;5;241;43m*\u001b[39;49m\u001b[43margs\u001b[49m\u001b[43m,\u001b[49m\u001b[43m \u001b[49m\u001b[38;5;241;43m*\u001b[39;49m\u001b[38;5;241;43m*\u001b[39;49m\u001b[43mkwargs\u001b[49m\u001b[43m)\u001b[49m\n",
      "File \u001b[0;32m~/.pyenv/versions/3.9.18/envs/DeepLearning/lib/python3.9/site-packages/torch/nn/modules/module.py:1527\u001b[0m, in \u001b[0;36mModule._call_impl\u001b[0;34m(self, *args, **kwargs)\u001b[0m\n\u001b[1;32m   1522\u001b[0m \u001b[38;5;66;03m# If we don't have any hooks, we want to skip the rest of the logic in\u001b[39;00m\n\u001b[1;32m   1523\u001b[0m \u001b[38;5;66;03m# this function, and just call forward.\u001b[39;00m\n\u001b[1;32m   1524\u001b[0m \u001b[38;5;28;01mif\u001b[39;00m \u001b[38;5;129;01mnot\u001b[39;00m (\u001b[38;5;28mself\u001b[39m\u001b[38;5;241m.\u001b[39m_backward_hooks \u001b[38;5;129;01mor\u001b[39;00m \u001b[38;5;28mself\u001b[39m\u001b[38;5;241m.\u001b[39m_backward_pre_hooks \u001b[38;5;129;01mor\u001b[39;00m \u001b[38;5;28mself\u001b[39m\u001b[38;5;241m.\u001b[39m_forward_hooks \u001b[38;5;129;01mor\u001b[39;00m \u001b[38;5;28mself\u001b[39m\u001b[38;5;241m.\u001b[39m_forward_pre_hooks\n\u001b[1;32m   1525\u001b[0m         \u001b[38;5;129;01mor\u001b[39;00m _global_backward_pre_hooks \u001b[38;5;129;01mor\u001b[39;00m _global_backward_hooks\n\u001b[1;32m   1526\u001b[0m         \u001b[38;5;129;01mor\u001b[39;00m _global_forward_hooks \u001b[38;5;129;01mor\u001b[39;00m _global_forward_pre_hooks):\n\u001b[0;32m-> 1527\u001b[0m     \u001b[38;5;28;01mreturn\u001b[39;00m \u001b[43mforward_call\u001b[49m\u001b[43m(\u001b[49m\u001b[38;5;241;43m*\u001b[39;49m\u001b[43margs\u001b[49m\u001b[43m,\u001b[49m\u001b[43m \u001b[49m\u001b[38;5;241;43m*\u001b[39;49m\u001b[38;5;241;43m*\u001b[39;49m\u001b[43mkwargs\u001b[49m\u001b[43m)\u001b[49m\n\u001b[1;32m   1529\u001b[0m \u001b[38;5;28;01mtry\u001b[39;00m:\n\u001b[1;32m   1530\u001b[0m     result \u001b[38;5;241m=\u001b[39m \u001b[38;5;28;01mNone\u001b[39;00m\n",
      "Cell \u001b[0;32mIn[4], line 41\u001b[0m, in \u001b[0;36mCustomModel.forward\u001b[0;34m(self, x)\u001b[0m\n\u001b[1;32m     38\u001b[0m x5 \u001b[38;5;241m=\u001b[39m \u001b[38;5;28mself\u001b[39m\u001b[38;5;241m.\u001b[39mconv5(x4)\n\u001b[1;32m     40\u001b[0m \u001b[38;5;66;03m# Channel-wise concatenation\u001b[39;00m\n\u001b[0;32m---> 41\u001b[0m x_concat \u001b[38;5;241m=\u001b[39m \u001b[43mtorch\u001b[49m\u001b[38;5;241;43m.\u001b[39;49m\u001b[43mcat\u001b[49m\u001b[43m(\u001b[49m\u001b[43m(\u001b[49m\u001b[43mx3\u001b[49m\u001b[43m,\u001b[49m\u001b[43m \u001b[49m\u001b[43mx5\u001b[49m\u001b[43m)\u001b[49m\u001b[43m,\u001b[49m\u001b[43m \u001b[49m\u001b[38;5;241;43m1\u001b[39;49m\u001b[43m)\u001b[49m\n\u001b[1;32m     43\u001b[0m \u001b[38;5;66;03m# Forward pass through the batch normalization\u001b[39;00m\n\u001b[1;32m     44\u001b[0m x_bn \u001b[38;5;241m=\u001b[39m \u001b[38;5;28mself\u001b[39m\u001b[38;5;241m.\u001b[39mbatch_norm(x_concat)\n",
      "\u001b[0;31mRuntimeError\u001b[0m: Sizes of tensors must match except in dimension 1. Expected size 111 but got size 28 for tensor number 1 in the list."
     ]
    }
   ],
   "source": [
    "x = torch.randn(1, 3, 224, 224).requires_grad_(True)\n",
    "y = model(x)\n",
    "\n",
    "make_dot(y, params=dict(list(model.named_parameters()) + [('input', x)]))"
   ]
  },
  {
   "cell_type": "code",
   "execution_count": 24,
   "metadata": {},
   "outputs": [
    {
     "name": "stdout",
     "output_type": "stream",
     "text": [
      "tensor([[[ 0.4612,  0.2420, -0.1722],\n",
      "         [ 0.2322, -0.5171,  0.6477]]], requires_grad=True)\n"
     ]
    }
   ],
   "source": [
    "#tensor = torch.randn(1, 2, 3)\n",
    "tensor = torch.randn(1, 2, 3).requires_grad_(True)\n",
    "print(tensor)"
   ]
  },
  {
   "cell_type": "code",
   "execution_count": 21,
   "metadata": {},
   "outputs": [
    {
     "data": {
      "text/plain": [
       "tensor([[1, 2, 3],\n",
       "        [4, 5, 6]])"
      ]
     },
     "execution_count": 21,
     "metadata": {},
     "output_type": "execute_result"
    }
   ],
   "source": [
    "x\n",
    "#x.unsqueeze(0)"
   ]
  },
  {
   "cell_type": "code",
   "execution_count": null,
   "metadata": {},
   "outputs": [],
   "source": []
  }
 ],
 "metadata": {
  "kernelspec": {
   "display_name": "DeepLearning",
   "language": "python",
   "name": "python3"
  },
  "language_info": {
   "codemirror_mode": {
    "name": "ipython",
    "version": 3
   },
   "file_extension": ".py",
   "mimetype": "text/x-python",
   "name": "python",
   "nbconvert_exporter": "python",
   "pygments_lexer": "ipython3",
   "version": "3.9.18"
  }
 },
 "nbformat": 4,
 "nbformat_minor": 2
}
